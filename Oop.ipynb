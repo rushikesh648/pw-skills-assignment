{
  "nbformat": 4,
  "nbformat_minor": 0,
  "metadata": {
    "colab": {
      "provenance": [],
      "authorship_tag": "ABX9TyOvS2r+mK3QHHwpvTeQ6GiB",
      "include_colab_link": true
    },
    "kernelspec": {
      "name": "python3",
      "display_name": "Python 3"
    },
    "language_info": {
      "name": "python"
    }
  },
  "cells": [
    {
      "cell_type": "markdown",
      "metadata": {
        "id": "view-in-github",
        "colab_type": "text"
      },
      "source": [
        "<a href=\"https://colab.research.google.com/github/rushikesh648/pw-skills-assignment/blob/main/Oop.ipynb\" target=\"_parent\"><img src=\"https://colab.research.google.com/assets/colab-badge.svg\" alt=\"Open In Colab\"/></a>"
      ]
    },
    {
      "cell_type": "code",
      "execution_count": null,
      "metadata": {
        "id": "NtJnoBGa9-M5"
      },
      "outputs": [],
      "source": [
        "\n",
        "# q1. Create a parent class Animal with a method speak() that prints a generic message. Create a child class Dog that overrides the speak() method to print \"Bark!\".\n",
        "\n",
        "class animal(object):\n",
        "    def speak(self):\n",
        "       return \"generic sound\"\n",
        "class dog(object):\n",
        "    def speak(self):\n",
        "       return \"Bark!\""
      ]
    },
    {
      "cell_type": "code",
      "source": [
        "c = animal()\n",
        "c.speak()"
      ],
      "metadata": {
        "colab": {
          "base_uri": "https://localhost:8080/",
          "height": 35
        },
        "id": "d3yZ3461EFUA",
        "outputId": "0ec49caf-2e69-435f-86dd-39426b27ca88"
      },
      "execution_count": null,
      "outputs": [
        {
          "output_type": "execute_result",
          "data": {
            "text/plain": [
              "'generic sound'"
            ],
            "application/vnd.google.colaboratory.intrinsic+json": {
              "type": "string"
            }
          },
          "metadata": {},
          "execution_count": 26
        }
      ]
    },
    {
      "cell_type": "code",
      "source": [
        "c = dog()\n",
        "c.speak()"
      ],
      "metadata": {
        "colab": {
          "base_uri": "https://localhost:8080/",
          "height": 35
        },
        "id": "YOFyLDAc-mSA",
        "outputId": "d17912d8-5792-44a2-d2d9-660fddc777df"
      },
      "execution_count": null,
      "outputs": [
        {
          "output_type": "execute_result",
          "data": {
            "text/plain": [
              "'Bark!'"
            ],
            "application/vnd.google.colaboratory.intrinsic+json": {
              "type": "string"
            }
          },
          "metadata": {},
          "execution_count": 27
        }
      ]
    },
    {
      "cell_type": "code",
      "source": [
        "\n",
        "# q2 Write a program to create an abstract class Shape with a method area(). Derive classes Circle and Rectangle from it and implement the area() method in both\n",
        "class shape:\n",
        "      def calculate_area(self):\n",
        "               pass\n",
        "class rectangle(shape):\n",
        "      def calculate_area(self):\n",
        "          return \"area of rectangle is len*breadth\"\n",
        "class circle(shape):\n",
        "      def calculate_area(self):\n",
        "          return \"area of circle is pi*r**2\""
      ],
      "metadata": {
        "id": "UcBX5KlUBcFv"
      },
      "execution_count": null,
      "outputs": []
    },
    {
      "cell_type": "code",
      "source": [
        "rect = rectangle()\n",
        "rect.calculate_area()"
      ],
      "metadata": {
        "colab": {
          "base_uri": "https://localhost:8080/",
          "height": 53
        },
        "id": "7n13tSLbkxpM",
        "outputId": "1e0034c1-2633-4f17-e9e1-eab69e0e25a1"
      },
      "execution_count": null,
      "outputs": [
        {
          "output_type": "execute_result",
          "data": {
            "text/plain": [
              "'area of rectangle is len*breadth'"
            ],
            "application/vnd.google.colaboratory.intrinsic+json": {
              "type": "string"
            }
          },
          "metadata": {},
          "execution_count": 334
        }
      ]
    },
    {
      "cell_type": "code",
      "source": [
        "c1 = circle()\n",
        "c1.calculate_area()"
      ],
      "metadata": {
        "colab": {
          "base_uri": "https://localhost:8080/",
          "height": 35
        },
        "id": "B-erv7f7lDZ_",
        "outputId": "cf4705f5-6b15-43e1-8717-cc477559f5b2"
      },
      "execution_count": null,
      "outputs": [
        {
          "output_type": "execute_result",
          "data": {
            "text/plain": [
              "'area of circle is pi*r**2'"
            ],
            "application/vnd.google.colaboratory.intrinsic+json": {
              "type": "string"
            }
          },
          "metadata": {},
          "execution_count": 338
        }
      ]
    },
    {
      "cell_type": "code",
      "source": [
        "# q3 Implement a multi-level inheritance scenario where a class Vehicle has an attribute type. Derive a class Car and further derive a class Electric Car that adds a battery attribute.\n",
        "\n",
        "class vehicle:\n",
        "    def vehicle_battery(self):\n",
        "         return \"this vehicle has battery\"\n",
        "class car(vehicle):\n",
        "    def car_battery(self):\n",
        "         return \"this vehicle has battery\"\n",
        "class electric_car(car):\n",
        "    def electric_car_battery(self):\n",
        "         return \"this is an automated\""
      ],
      "metadata": {
        "id": "fZUvqn9PgUZv"
      },
      "execution_count": null,
      "outputs": []
    },
    {
      "cell_type": "code",
      "source": [
        "s = electric_car()\n",
        "s.electric_car_battery()"
      ],
      "metadata": {
        "colab": {
          "base_uri": "https://localhost:8080/",
          "height": 35
        },
        "id": "29UjW2B9nOUd",
        "outputId": "e2639ab3-38c6-4942-b5c5-85aec2800b8e"
      },
      "execution_count": null,
      "outputs": [
        {
          "output_type": "execute_result",
          "data": {
            "text/plain": [
              "'this is an automated'"
            ],
            "application/vnd.google.colaboratory.intrinsic+json": {
              "type": "string"
            }
          },
          "metadata": {},
          "execution_count": 356
        }
      ]
    },
    {
      "cell_type": "code",
      "source": [
        "\n",
        "s.car_battery()"
      ],
      "metadata": {
        "colab": {
          "base_uri": "https://localhost:8080/",
          "height": 35
        },
        "id": "jtvcT1sinlgb",
        "outputId": "b1a340ec-483e-4135-e505-e0569484ae32"
      },
      "execution_count": null,
      "outputs": [
        {
          "output_type": "execute_result",
          "data": {
            "text/plain": [
              "'this vehicle has battery'"
            ],
            "application/vnd.google.colaboratory.intrinsic+json": {
              "type": "string"
            }
          },
          "metadata": {},
          "execution_count": 357
        }
      ]
    },
    {
      "cell_type": "code",
      "source": [
        "s.vehicle_battery()"
      ],
      "metadata": {
        "colab": {
          "base_uri": "https://localhost:8080/",
          "height": 35
        },
        "id": "TMHEMulVoWAD",
        "outputId": "49757bac-6da6-4e71-9b5b-2005abc33c14"
      },
      "execution_count": null,
      "outputs": [
        {
          "output_type": "execute_result",
          "data": {
            "text/plain": [
              "'this vehicle has battery'"
            ],
            "application/vnd.google.colaboratory.intrinsic+json": {
              "type": "string"
            }
          },
          "metadata": {},
          "execution_count": 358
        }
      ]
    },
    {
      "cell_type": "code",
      "source": [
        "# q4 Implement a multi-level inheritance scenario where a class Vehicle has an attribute type. Derive a class Car and further derive a class Electric Car that adds a battery attribute.\n",
        "class vehicle:\n",
        "    def vehicle_battery(self):\n",
        "         return \"this vehicle has battery\"\n",
        "class car(vehicle):\n",
        "    def car_battery(self):\n",
        "         return \"this vehicle has battery\"\n",
        "class electric_car(car):\n",
        "    def electric_car_battery(self):\n",
        "         return \"this is an automated\""
      ],
      "metadata": {
        "id": "VQ57c7jxo8S0"
      },
      "execution_count": null,
      "outputs": []
    },
    {
      "cell_type": "code",
      "source": [
        "s = electric_car()\n",
        "s.electric_car_battery()"
      ],
      "metadata": {
        "colab": {
          "base_uri": "https://localhost:8080/",
          "height": 35
        },
        "id": "pTSXAye-pzmU",
        "outputId": "e7686329-317a-4b9c-8331-5437fd34a282"
      },
      "execution_count": null,
      "outputs": [
        {
          "output_type": "execute_result",
          "data": {
            "text/plain": [
              "'this is an automated'"
            ],
            "application/vnd.google.colaboratory.intrinsic+json": {
              "type": "string"
            }
          },
          "metadata": {},
          "execution_count": 364
        }
      ]
    },
    {
      "cell_type": "code",
      "source": [
        "s.car_battery()"
      ],
      "metadata": {
        "colab": {
          "base_uri": "https://localhost:8080/",
          "height": 35
        },
        "id": "NqFPcrKEq6U8",
        "outputId": "6e731273-d4c4-468b-f34a-6da682a3ffac"
      },
      "execution_count": null,
      "outputs": [
        {
          "output_type": "execute_result",
          "data": {
            "text/plain": [
              "'this vehicle has battery'"
            ],
            "application/vnd.google.colaboratory.intrinsic+json": {
              "type": "string"
            }
          },
          "metadata": {},
          "execution_count": 365
        }
      ]
    },
    {
      "cell_type": "code",
      "source": [
        "s.vehicle_battery()"
      ],
      "metadata": {
        "colab": {
          "base_uri": "https://localhost:8080/",
          "height": 35
        },
        "id": "TobNNCO-q_c9",
        "outputId": "f30ed45e-5383-4fbf-8c42-e3a1b610c862"
      },
      "execution_count": null,
      "outputs": [
        {
          "output_type": "execute_result",
          "data": {
            "text/plain": [
              "'this vehicle has battery'"
            ],
            "application/vnd.google.colaboratory.intrinsic+json": {
              "type": "string"
            }
          },
          "metadata": {},
          "execution_count": 367
        }
      ]
    },
    {
      "cell_type": "code",
      "source": [
        "# q5 Write a program to demonstrate encapsulation by creating a class Bank Account with private attributes balance and methods to deposit, withdraw, and check balance.\n",
        "class bank:\n",
        "     def __init__(self, balance):\n",
        "       self.__balance = balance\n",
        "     def deposit(self, amount):\n",
        "       self.__balance = self.__balance + amount\n",
        "     def withdraw(self, amount):\n",
        "       if self.__balance >= amount:\n",
        "         self.__balance = self.__balance - amount\n",
        "         return True\n",
        "       else:\n",
        "         return False\n",
        "     def get_balance(self):\n",
        "         return self.__balance"
      ],
      "metadata": {
        "id": "6DJRhbB_rGGs"
      },
      "execution_count": null,
      "outputs": []
    },
    {
      "cell_type": "code",
      "source": [
        "rahul = bank(1000)"
      ],
      "metadata": {
        "id": "OaUb-WdstGAu"
      },
      "execution_count": null,
      "outputs": []
    },
    {
      "cell_type": "code",
      "source": [
        "rahul.get_balance()"
      ],
      "metadata": {
        "colab": {
          "base_uri": "https://localhost:8080/"
        },
        "id": "NYx2lxOLtbFl",
        "outputId": "68356be7-914f-46c1-f3fa-65c0a3d3a835"
      },
      "execution_count": null,
      "outputs": [
        {
          "output_type": "execute_result",
          "data": {
            "text/plain": [
              "1000"
            ]
          },
          "metadata": {},
          "execution_count": 16
        }
      ]
    },
    {
      "cell_type": "code",
      "source": [
        "rahul.deposit(500)"
      ],
      "metadata": {
        "id": "fnxvwhDztfbL"
      },
      "execution_count": null,
      "outputs": []
    },
    {
      "cell_type": "code",
      "source": [
        "rahul.get_balance()"
      ],
      "metadata": {
        "colab": {
          "base_uri": "https://localhost:8080/"
        },
        "id": "NsxhwKR2ANSs",
        "outputId": "0500af3c-8023-41d0-dff9-1081c7cecbb4"
      },
      "execution_count": null,
      "outputs": [
        {
          "output_type": "execute_result",
          "data": {
            "text/plain": [
              "1500"
            ]
          },
          "metadata": {},
          "execution_count": 18
        }
      ]
    },
    {
      "cell_type": "code",
      "source": [
        "rahul.withdraw(400)"
      ],
      "metadata": {
        "colab": {
          "base_uri": "https://localhost:8080/"
        },
        "id": "YJzmTH0yAoBB",
        "outputId": "3fd3381b-594c-4ee8-f781-70d4100c4ab1"
      },
      "execution_count": null,
      "outputs": [
        {
          "output_type": "execute_result",
          "data": {
            "text/plain": [
              "True"
            ]
          },
          "metadata": {},
          "execution_count": 20
        }
      ]
    },
    {
      "cell_type": "code",
      "source": [
        "rahul.get_balance()"
      ],
      "metadata": {
        "colab": {
          "base_uri": "https://localhost:8080/"
        },
        "id": "4z2lWkJ7AvLg",
        "outputId": "af9ef2ee-a53a-4d97-bcf6-3162e6b4ed3c"
      },
      "execution_count": null,
      "outputs": [
        {
          "output_type": "execute_result",
          "data": {
            "text/plain": [
              "1100"
            ]
          },
          "metadata": {},
          "execution_count": 22
        }
      ]
    },
    {
      "cell_type": "code",
      "source": [
        "# q6 Demonstrate runtime polymorphism using a method play() in a base class Instrument. Derive classes Guitar and Piano that implement their own version of play().\n",
        "\n",
        "class instrument(object):\n",
        "     def __play__(self):\n",
        "         self.instrument_sound = \"generic\"\n",
        "class piano(instrument):\n",
        "     def __play__(self, sound):\n",
        "         self.sound = sound\n",
        "         instrument.__play__(self)\n",
        "     def show(self):\n",
        "         print('sound',self.sound)\n",
        "class guitar(instrument):\n",
        "     def __play__(self, sound):\n",
        "         self.sound = sound\n",
        "         instrument.__play__(self)\n",
        "     def show(self):\n",
        "         print('sound',self.sound)"
      ],
      "metadata": {
        "id": "Nt5HLWKatlrM"
      },
      "execution_count": null,
      "outputs": []
    },
    {
      "cell_type": "code",
      "source": [
        "c = instrument()"
      ],
      "metadata": {
        "id": "dVvCCCI5HHNm"
      },
      "execution_count": null,
      "outputs": []
    },
    {
      "cell_type": "code",
      "source": [
        "c.__play__()"
      ],
      "metadata": {
        "id": "MsvrRS-OVGQ_"
      },
      "execution_count": null,
      "outputs": []
    },
    {
      "cell_type": "code",
      "source": [
        "c = piano()"
      ],
      "metadata": {
        "id": "GpD1kA_4HeVE"
      },
      "execution_count": null,
      "outputs": []
    },
    {
      "cell_type": "code",
      "source": [
        "c.__play__('o mere')"
      ],
      "metadata": {
        "id": "NlBpYw1kQWSW"
      },
      "execution_count": null,
      "outputs": []
    },
    {
      "cell_type": "code",
      "source": [
        "c.show()"
      ],
      "metadata": {
        "colab": {
          "base_uri": "https://localhost:8080/"
        },
        "id": "FB7pEhcuHwOC",
        "outputId": "7a672ea3-3a42-4dd8-c29d-3f42d3371730"
      },
      "execution_count": null,
      "outputs": [
        {
          "output_type": "stream",
          "name": "stdout",
          "text": [
            "sound o mere\n"
          ]
        }
      ]
    },
    {
      "cell_type": "code",
      "source": [
        "c = guitar()"
      ],
      "metadata": {
        "id": "SRVx_muoTdKr"
      },
      "execution_count": null,
      "outputs": []
    },
    {
      "cell_type": "code",
      "source": [
        "c.__play__('tere naam')"
      ],
      "metadata": {
        "id": "rUuSClQ2Ti7B"
      },
      "execution_count": null,
      "outputs": []
    },
    {
      "cell_type": "code",
      "source": [
        "c.show()"
      ],
      "metadata": {
        "colab": {
          "base_uri": "https://localhost:8080/"
        },
        "id": "n6hNAvyGT0Os",
        "outputId": "c30f7d26-60cf-4461-8248-dcd58e0c013e"
      },
      "execution_count": null,
      "outputs": [
        {
          "output_type": "stream",
          "name": "stdout",
          "text": [
            "sound tere naam\n"
          ]
        }
      ]
    },
    {
      "cell_type": "code",
      "source": [
        "# q7 Create a class Math Operations with a class method add_numbers() to add two numbers and a static method subtract_numbers() to subtract two numbers\n",
        "class calculator:\n",
        "      def add(x,y):\n",
        "         return x+y\n",
        "      def sub(x,y):\n",
        "         return x-y"
      ],
      "metadata": {
        "id": "-2jmxNyCUIkO"
      },
      "execution_count": null,
      "outputs": []
    },
    {
      "cell_type": "code",
      "source": [
        "calculator.add(8,9)"
      ],
      "metadata": {
        "colab": {
          "base_uri": "https://localhost:8080/"
        },
        "id": "xdWo9E_lhJrz",
        "outputId": "d4137b00-b5a7-4ba1-d7c4-978df5399bff"
      },
      "execution_count": null,
      "outputs": [
        {
          "output_type": "execute_result",
          "data": {
            "text/plain": [
              "17"
            ]
          },
          "metadata": {},
          "execution_count": 163
        }
      ]
    },
    {
      "cell_type": "code",
      "source": [
        "calculator.sub(8,6)"
      ],
      "metadata": {
        "colab": {
          "base_uri": "https://localhost:8080/"
        },
        "id": "8vRy5UYMhQ7y",
        "outputId": "9c458cd7-c4df-41ec-f3a1-5f4166818909"
      },
      "execution_count": null,
      "outputs": [
        {
          "output_type": "execute_result",
          "data": {
            "text/plain": [
              "2"
            ]
          },
          "metadata": {},
          "execution_count": 164
        }
      ]
    },
    {
      "cell_type": "code",
      "source": [
        "# q8 Implement a class Person with a class method to count the total number of persons created\n",
        "class person:\n",
        "   total_person = 0\n",
        "   def __init__(self, name):\n",
        "       self.name = name\n",
        "       person.total_person = person.total_person+1\n",
        "   @classmethod\n",
        "   def get_total_person(person):\n",
        "       return person.total_person"
      ],
      "metadata": {
        "id": "socJBCSkhXAT"
      },
      "execution_count": null,
      "outputs": []
    },
    {
      "cell_type": "code",
      "source": [
        "person.total_person"
      ],
      "metadata": {
        "colab": {
          "base_uri": "https://localhost:8080/"
        },
        "id": "EKfgy_UPkYh4",
        "outputId": "362c1242-bdb9-4fd4-c756-2925d64012aa"
      },
      "execution_count": null,
      "outputs": [
        {
          "output_type": "execute_result",
          "data": {
            "text/plain": [
              "0"
            ]
          },
          "metadata": {},
          "execution_count": 228
        }
      ]
    },
    {
      "cell_type": "code",
      "source": [
        "p1 = person(\"Rahul\")\n",
        "p2 = person(\"shyam\")"
      ],
      "metadata": {
        "id": "C2YXy8G6kiRH"
      },
      "execution_count": null,
      "outputs": []
    },
    {
      "cell_type": "code",
      "source": [
        "p1.name"
      ],
      "metadata": {
        "colab": {
          "base_uri": "https://localhost:8080/",
          "height": 35
        },
        "id": "uBlRTDq1kx1x",
        "outputId": "49518a10-45d8-4128-ba2d-96f7bdbf8312"
      },
      "execution_count": null,
      "outputs": [
        {
          "output_type": "execute_result",
          "data": {
            "text/plain": [
              "'Rahul'"
            ],
            "application/vnd.google.colaboratory.intrinsic+json": {
              "type": "string"
            }
          },
          "metadata": {},
          "execution_count": 230
        }
      ]
    },
    {
      "cell_type": "code",
      "source": [
        "p2.name"
      ],
      "metadata": {
        "colab": {
          "base_uri": "https://localhost:8080/",
          "height": 35
        },
        "id": "ZPqsBFItk3GX",
        "outputId": "b9b446b6-3136-4901-e07a-2bcae1db4989"
      },
      "execution_count": null,
      "outputs": [
        {
          "output_type": "execute_result",
          "data": {
            "text/plain": [
              "'shyam'"
            ],
            "application/vnd.google.colaboratory.intrinsic+json": {
              "type": "string"
            }
          },
          "metadata": {},
          "execution_count": 231
        }
      ]
    },
    {
      "cell_type": "code",
      "source": [
        "person.total_person"
      ],
      "metadata": {
        "colab": {
          "base_uri": "https://localhost:8080/"
        },
        "id": "whz8D1qVk528",
        "outputId": "50b4a45e-6360-4748-e3ea-99ccdad5294b"
      },
      "execution_count": null,
      "outputs": [
        {
          "output_type": "execute_result",
          "data": {
            "text/plain": [
              "2"
            ]
          },
          "metadata": {},
          "execution_count": 232
        }
      ]
    },
    {
      "cell_type": "code",
      "source": [
        "person.get_total_person()"
      ],
      "metadata": {
        "colab": {
          "base_uri": "https://localhost:8080/"
        },
        "id": "bTv6LsE0lDPk",
        "outputId": "60cad0d7-e3bd-4a51-fc03-bf36f5470f62"
      },
      "execution_count": null,
      "outputs": [
        {
          "output_type": "execute_result",
          "data": {
            "text/plain": [
              "2"
            ]
          },
          "metadata": {},
          "execution_count": 233
        }
      ]
    },
    {
      "cell_type": "code",
      "source": [
        "# q9 Write a class Fraction with attributes numerator and denominator. Override the str method to display the fraction as \"numerator/denominator\".\n",
        "from fractions import Fraction\n",
        "print(Fraction('45/70'))\n",
        "print(Fraction('4/5'))"
      ],
      "metadata": {
        "colab": {
          "base_uri": "https://localhost:8080/"
        },
        "id": "wTQfiPOYoi3s",
        "outputId": "d1f3de78-9baa-4c62-ab1a-fb5fe269fa37"
      },
      "execution_count": null,
      "outputs": [
        {
          "output_type": "stream",
          "name": "stdout",
          "text": [
            "9/14\n",
            "4/5\n"
          ]
        }
      ]
    },
    {
      "cell_type": "code",
      "source": [
        "# q10 Demonstrate operator overloading by creating a class Vector and overriding the add method to add two vectors.\n",
        "class vector:\n",
        "   @classmethod\n",
        "   def add(cls,x,y):\n",
        "       return cls.__name__,x + y"
      ],
      "metadata": {
        "id": "7KV9OPMi4ChL"
      },
      "execution_count": null,
      "outputs": []
    },
    {
      "cell_type": "code",
      "source": [
        "vector.add(8,9)"
      ],
      "metadata": {
        "colab": {
          "base_uri": "https://localhost:8080/"
        },
        "id": "8kS9Lwu55njd",
        "outputId": "7929ac0a-5c46-4c3f-abae-fb62845910c6"
      },
      "execution_count": null,
      "outputs": [
        {
          "output_type": "execute_result",
          "data": {
            "text/plain": [
              "('vector', 17)"
            ]
          },
          "metadata": {},
          "execution_count": 301
        }
      ]
    },
    {
      "cell_type": "code",
      "source": [
        "# q11 Create a class Person with attributes name and age. Add a method greet() that prints \"Hello, my name is {name} and I am {age} years old.\"\n",
        "class person:\n",
        "      def greet(name=\"atul\", age=45):\n",
        "          print(\"hello my name is\", name, \"i am\", age,\"years old\")"
      ],
      "metadata": {
        "id": "B0GQexIZ7kmG"
      },
      "execution_count": null,
      "outputs": []
    },
    {
      "cell_type": "code",
      "source": [
        "person.greet()"
      ],
      "metadata": {
        "colab": {
          "base_uri": "https://localhost:8080/"
        },
        "id": "6-H0hxgSF5R9",
        "outputId": "9fe555ed-44e3-4393-9118-21c927b20cf7"
      },
      "execution_count": null,
      "outputs": [
        {
          "output_type": "stream",
          "name": "stdout",
          "text": [
            "hello my name is atul i am 45 years old\n"
          ]
        }
      ]
    },
    {
      "cell_type": "code",
      "source": [
        "# q12 Implement a class Student with attributes name and grades. Create a method average_grade() to compute the average of the grades\n",
        "class student:\n",
        "      def __init__(self, name, grade):\n",
        "          self.name = name\n",
        "          self.grade = grade\n",
        "      def show(self):\n",
        "          print(\"name\", self.name, \"grade\", self.grade)\n",
        "      def average_grade(self):\n",
        "          if self.grade >= 20:\n",
        "            print(\"A\")\n",
        "          elif self.grade <= 19:\n",
        "            print(\"B\")\n",
        "          elif self.grade == 15:\n",
        "            print(\"c\")\n",
        "          else:\n",
        "              print(\"D\")"
      ],
      "metadata": {
        "id": "f0PWAJO2GBKA"
      },
      "execution_count": null,
      "outputs": []
    },
    {
      "cell_type": "code",
      "source": [
        "s = student(\"ajay\",16)\n",
        "s.show()"
      ],
      "metadata": {
        "colab": {
          "base_uri": "https://localhost:8080/"
        },
        "id": "qoL7w7uEU6RT",
        "outputId": "9bff87be-ed54-4e56-ca85-e8639ea2b627"
      },
      "execution_count": null,
      "outputs": [
        {
          "output_type": "stream",
          "name": "stdout",
          "text": [
            "name ajay grade 16\n"
          ]
        }
      ]
    },
    {
      "cell_type": "code",
      "source": [
        "s.average_grade()"
      ],
      "metadata": {
        "colab": {
          "base_uri": "https://localhost:8080/"
        },
        "id": "YATZ1kzdVYpc",
        "outputId": "443cdf62-0aa6-4730-a70f-a30b16faa774"
      },
      "execution_count": null,
      "outputs": [
        {
          "output_type": "stream",
          "name": "stdout",
          "text": [
            "B\n"
          ]
        }
      ]
    },
    {
      "cell_type": "code",
      "source": [
        "# q13 Create a class Rectangle with methods set_dimensions() to set the dimensions and area() to calculate the area\n",
        "class rectangle:\n",
        "     def __init__(self,length,breadth):\n",
        "         self.length = length\n",
        "         self.breadth = breadth\n",
        "     def area(self):\n",
        "         return self.length * self.breadth\n",
        "     def perimeter(self):\n",
        "         return 2*(self.length + self.breadth)"
      ],
      "metadata": {
        "id": "66DPqdYwcvzE"
      },
      "execution_count": null,
      "outputs": []
    },
    {
      "cell_type": "code",
      "source": [
        "c = rectangle(7,8)\n",
        "c.area()"
      ],
      "metadata": {
        "id": "2UsQx20IiAGP",
        "colab": {
          "base_uri": "https://localhost:8080/"
        },
        "outputId": "0f1877ad-8ec2-4820-f6fe-fbea14d1a4c2"
      },
      "execution_count": null,
      "outputs": [
        {
          "output_type": "execute_result",
          "data": {
            "text/plain": [
              "56"
            ]
          },
          "metadata": {},
          "execution_count": 501
        }
      ]
    },
    {
      "cell_type": "code",
      "source": [
        "c.perimeter()"
      ],
      "metadata": {
        "colab": {
          "base_uri": "https://localhost:8080/"
        },
        "id": "pjrHhUETysQj",
        "outputId": "d0ac43c3-161d-4068-d55b-653a61e06fc5"
      },
      "execution_count": null,
      "outputs": [
        {
          "output_type": "execute_result",
          "data": {
            "text/plain": [
              "30"
            ]
          },
          "metadata": {},
          "execution_count": 502
        }
      ]
    },
    {
      "cell_type": "code",
      "source": [
        "# q14 Create a class Employee with a method calculate_salary() that computes the salary based on hours worked and hourly rate. Create a derived class Manager that adds a bonus to the salary.\n",
        "class employee:\n",
        "     def __init__(self, name, salary, department):\n",
        "         self.name = name\n",
        "         self.salary = salary\n",
        "         self.department = department\n",
        "     def calculate_salary(self, salary, work_hour):\n",
        "         overtime = 0\n",
        "         if work_hour > 50:\n",
        "            overtime = work_hour - 50\n",
        "         self.salary = self.salary + (overtime * (self.salary / 50))\n",
        "     def department(self, department):\n",
        "         self.department = department\n",
        "     def print_emp_details(self):\n",
        "         print(\"name:\", self.name)\n",
        "         print(\"salary:\", self.salary)\n",
        "         print(\"department:\", self.department)\n",
        "emp1 = employee(\"rahul\",10000,\"account\")\n",
        "print(\"employee:\")\n",
        "emp1.print_emp_details()\n",
        "emp1.calculate_salary(4300,56)\n",
        "print(\"employee:\")\n",
        "emp1.print_emp_details()"
      ],
      "metadata": {
        "id": "xpjnKPWYoX4q",
        "colab": {
          "base_uri": "https://localhost:8080/"
        },
        "outputId": "5c54dae5-cec5-4df4-8c35-7f2fe4446f2b"
      },
      "execution_count": null,
      "outputs": [
        {
          "output_type": "stream",
          "name": "stdout",
          "text": [
            "employee:\n",
            "name: rahul\n",
            "salary: 10000\n",
            "department: account\n",
            "employee:\n",
            "name: rahul\n",
            "salary: 11200.0\n",
            "department: account\n"
          ]
        }
      ]
    },
    {
      "cell_type": "code",
      "source": [
        "# q15 Create a class Product with attributes name, price, and quantity. Implement a method total_price() that calculates the total price of the product.\n",
        "class product:\n",
        "     def __init__(self, name, price, quantity):\n",
        "         self.name = name\n",
        "         self.price = price\n",
        "         self.quantity = quantity\n",
        "     def total_price(self, price, quantity):\n",
        "         quantity = True\n",
        "         price = quantity * price\n",
        "         self.price = (self.quantity * (price))\n",
        "     def print_product_details(self):\n",
        "         print(\"name:\", self.name)\n",
        "         print(\"price:\", self.price)\n",
        "         print(\"quantity:\", self.quantity)\n",
        "prod = product(\"bag\",200,3)\n",
        "print(\"product:\")\n",
        "prod.print_product_details()\n",
        "prod.total_price(200,3)\n",
        "print(\"total price:\")\n",
        "prod.print_product_details()"
      ],
      "metadata": {
        "colab": {
          "base_uri": "https://localhost:8080/"
        },
        "id": "lp9xh4tVPu0p",
        "outputId": "30e3c8bb-7ac9-404a-bd9f-5c888aaf1986"
      },
      "execution_count": null,
      "outputs": [
        {
          "output_type": "stream",
          "name": "stdout",
          "text": [
            "product:\n",
            "name: bag\n",
            "price: 200\n",
            "quantity: 3\n",
            "total price:\n",
            "name: bag\n",
            "price: 600\n",
            "quantity: 3\n"
          ]
        }
      ]
    },
    {
      "cell_type": "code",
      "source": [
        "# q16 Create a class Animal with an abstract method sound(). Create two derived classes Cow and Sheep that implement the sound() method.\n",
        "class animal(object):\n",
        "      def sound(self):\n",
        "          return \"generic\"\n",
        "\n",
        "class cow(object):\n",
        "      def sound(self):\n",
        "          return \"mhaw\"\n",
        "class sheep(object):\n",
        "      def sound(self):\n",
        "          return \"bhyaya\""
      ],
      "metadata": {
        "id": "6KS48YNRf4iP"
      },
      "execution_count": null,
      "outputs": []
    },
    {
      "cell_type": "code",
      "source": [
        "c = animal()\n",
        "c.sound()"
      ],
      "metadata": {
        "colab": {
          "base_uri": "https://localhost:8080/",
          "height": 35
        },
        "id": "r1EJVUOxkCgT",
        "outputId": "0e6ed7a2-9a57-43d1-b93a-9921c4c59387"
      },
      "execution_count": null,
      "outputs": [
        {
          "output_type": "execute_result",
          "data": {
            "text/plain": [
              "'generic'"
            ],
            "application/vnd.google.colaboratory.intrinsic+json": {
              "type": "string"
            }
          },
          "metadata": {},
          "execution_count": 210
        }
      ]
    },
    {
      "cell_type": "code",
      "source": [
        "c = cow()\n",
        "c.sound()"
      ],
      "metadata": {
        "colab": {
          "base_uri": "https://localhost:8080/",
          "height": 35
        },
        "id": "NkwNhb5Mlctc",
        "outputId": "331d653a-39de-438c-da17-93ffbd38fd12"
      },
      "execution_count": null,
      "outputs": [
        {
          "output_type": "execute_result",
          "data": {
            "text/plain": [
              "'mhaw'"
            ],
            "application/vnd.google.colaboratory.intrinsic+json": {
              "type": "string"
            }
          },
          "metadata": {},
          "execution_count": 211
        }
      ]
    },
    {
      "cell_type": "code",
      "source": [
        "c = sheep()\n",
        "c.sound()"
      ],
      "metadata": {
        "colab": {
          "base_uri": "https://localhost:8080/",
          "height": 35
        },
        "id": "_I-6TPvHmLTY",
        "outputId": "5f17dc75-cce2-4091-a29c-4198e3343376"
      },
      "execution_count": null,
      "outputs": [
        {
          "output_type": "execute_result",
          "data": {
            "text/plain": [
              "'bhyaya'"
            ],
            "application/vnd.google.colaboratory.intrinsic+json": {
              "type": "string"
            }
          },
          "metadata": {},
          "execution_count": 212
        }
      ]
    },
    {
      "cell_type": "code",
      "source": [
        "# q17 Create a class Book with attributes title, author, and year_published. Add a method get_book_info() that returns a formatted string with the book's details.\n",
        "class book:\n",
        "     def __init__(self, title, author, year_publish):\n",
        "         self.title = title\n",
        "         self.author = author\n",
        "         self.year_publish = year_publish\n",
        "         print(\"title:\",self.title)\n",
        "         print(\"author:\",self.author)\n",
        "         print(\"year_publish:\",self.year_publish)\n",
        "     def get_book_info_name(self):\n",
        "         print(self.title, self.year_publish)\n",
        "         print(self.title, self.author)\n",
        "print(\"book details:\")\n",
        "b1 = book(\"atal\",\"ram\",1987)\n",
        "print(\"accessing book info:\")\n",
        "b1.get_book_info_name()"
      ],
      "metadata": {
        "colab": {
          "base_uri": "https://localhost:8080/"
        },
        "id": "ENLuOEggn-6v",
        "outputId": "651a733f-8304-4801-caf4-90df6bf0ea97"
      },
      "execution_count": null,
      "outputs": [
        {
          "output_type": "stream",
          "name": "stdout",
          "text": [
            "book details:\n",
            "title: atal\n",
            "author: ram\n",
            "year_publish: 1987\n",
            "accessing book info:\n",
            "atal 1987\n",
            "atal ram\n"
          ]
        }
      ]
    },
    {
      "cell_type": "code",
      "source": [
        "# q18 Create a class House with attributes address and price. Create a derived class Mansion that adds an attribute number_of_rooms.\n",
        "class house:\n",
        "     def __init__(self, address, price):\n",
        "         self.address = address\n",
        "         self.price = price\n",
        "         print(\"address:\",self.address)\n",
        "         print(\"price:\",self.price)\n",
        "class mansion:\n",
        "     def __init__(self, price, number_of_rooms):\n",
        "         self.price = price\n",
        "         self.number_of_rooms = number_of_rooms\n",
        "         number_of_rooms = (self.price)/2\n",
        "         print(\"rooms:\",self.number_of_rooms)\n",
        "print(\"room:\")\n",
        "a = house(\"123, rani bag\",7000)\n",
        "print(\"available rooms:\")\n",
        "a = mansion(1,4)"
      ],
      "metadata": {
        "id": "XkA83Gn51bh7",
        "colab": {
          "base_uri": "https://localhost:8080/"
        },
        "outputId": "369c0191-b3de-4563-e569-6e47f2603255"
      },
      "execution_count": null,
      "outputs": [
        {
          "output_type": "stream",
          "name": "stdout",
          "text": [
            "room:\n",
            "address: 123, rani bag\n",
            "price: 7000\n",
            "available rooms:\n",
            "rooms: 4\n"
          ]
        }
      ]
    },
    {
      "cell_type": "markdown",
      "source": [
        "Q1. What is Object-Oriented Programming (OOP)?\n",
        "\n",
        "Ans:Object-oriented programming (OOP) is a computer programming model that organizes software design around data, or objects, rather than functions and logic"
      ],
      "metadata": {
        "id": "SkVT2KU6bGMR"
      }
    },
    {
      "cell_type": "markdown",
      "source": [
        "Q2 What is a class in OOP?\n",
        "\n",
        "Ans:Classes are user-defined data types that act as the blueprint for individual objects, attributes and methods."
      ],
      "metadata": {
        "id": "F4i1_PPqb0LE"
      }
    },
    {
      "cell_type": "markdown",
      "source": [
        "Q3 What is an object in OOP?\n",
        "\n",
        "Ans:An object is a component of a program that knows how to perform certain actions and how to interact with other elements of the program."
      ],
      "metadata": {
        "id": "e7ZEzRlwcMPm"
      }
    },
    {
      "cell_type": "markdown",
      "source": [
        "Q4 What is the difference between abstraction and encapsulation?\n",
        "\n",
        "Ans:Abstraction is the process of hiding unnecessary details about an object to make it simpler and more efficient, while encapsulation is the process of restricting access to some parts of an object"
      ],
      "metadata": {
        "id": "pa8jM2eSch6a"
      }
    },
    {
      "cell_type": "markdown",
      "source": [
        "Q5 What are dunder methods in Python?\n",
        "\n",
        "Ans:Dunder methods, also known as magic methods, are predefined methods in Python that are used to customize the behavior of objects and classes"
      ],
      "metadata": {
        "id": "UwbkGli7c73_"
      }
    },
    {
      "cell_type": "markdown",
      "source": [
        "Q6 Explain the concept of inheritance in OOP?\n",
        "\n",
        "Ans:Inheritance is a key feature in object-oriented programming (OOP) that allows a class to inherit properties and methods from another class"
      ],
      "metadata": {
        "id": "7Qby5yNKdQ6N"
      }
    },
    {
      "cell_type": "markdown",
      "source": [
        "Q7 What is polymorphism in OOP?\n",
        "\n",
        "Ans:Polymorphism in object-oriented programming (OOP) is the ability of an entity in code, like a variable, function, or object, to have more than one form"
      ],
      "metadata": {
        "id": "jLFf_Wd2dmW0"
      }
    },
    {
      "cell_type": "markdown",
      "source": [
        "Q8 How is encapsulation achieved in Python?\n",
        "\n",
        "Ans:In Python, encapsulation is achieved by using classes, access modifiers, and getter and setter methods"
      ],
      "metadata": {
        "id": "uuT_7OVUd7A5"
      }
    },
    {
      "cell_type": "markdown",
      "source": [
        "Q9 What is a constructor in Python?\n",
        "\n",
        "Ans:In Python, a constructor is a special class method that creates and initializes an object instance of a class"
      ],
      "metadata": {
        "id": "TV1gOy7deT2I"
      }
    },
    {
      "cell_type": "markdown",
      "source": [
        "Q10 What are class and static methods in Python?\n",
        "\n",
        "Ans:a class method takes cls as the first parameter while a static method needs no specific parameters"
      ],
      "metadata": {
        "id": "WQgVIoTBen22"
      }
    },
    {
      "cell_type": "markdown",
      "source": [
        "Q11 What is method overloading in Python?\n",
        "\n",
        "Ans:Method overloading in Python is a feature that allows a single function to operate with different input types or parameters"
      ],
      "metadata": {
        "id": "uAeMN-0ffHF7"
      }
    },
    {
      "cell_type": "markdown",
      "source": [
        "Q12 What is method overriding in OOP?\n",
        "\n",
        "Ans:Method overriding in object-oriented programming (OOP) is a feature that allows a subclass to redefine a method that is already defined in its superclass"
      ],
      "metadata": {
        "id": "ERzUeJv9fZTW"
      }
    },
    {
      "cell_type": "markdown",
      "source": [
        "Q13 What is a property decorator in Python?\n",
        "\n",
        "Ans:The decorator is a built-in Python decorator that allows you to turn class methods into properties in a way that's both elegant and user-friendly"
      ],
      "metadata": {
        "id": "09UYf3Zffttx"
      }
    },
    {
      "cell_type": "markdown",
      "source": [
        "Q14 Why is polymorphism important in OOP?\n",
        "\n",
        "Ans:Polymorphism is an important feature of object-oriented programming (OOP) because it makes code more reusable, flexible, and maintainable"
      ],
      "metadata": {
        "id": "828GLWSDgCjh"
      }
    },
    {
      "cell_type": "markdown",
      "source": [
        "Q15 What is an abstract class in Python?\n",
        "\n",
        "Ans:An abstract class in Python is a class that cannot be instantiated on its own and is designed to be a blueprint for other classes"
      ],
      "metadata": {
        "id": "Pp6SA1ZigTyW"
      }
    },
    {
      "cell_type": "markdown",
      "source": [
        "Q16 What are the advantages of OOP?\n",
        "\n",
        "Ans:one of the most apparent advantages of using object-oriented programming. Objects are self-contained, and each bit of functionality does its own thing while leaving the other bits alone, a characteristic many developers consider one of the better characteristics of OOP."
      ],
      "metadata": {
        "id": "ipKMP9k9ie0M"
      }
    },
    {
      "cell_type": "markdown",
      "source": [
        "Q17 What is the difference between a class variable and an instance variable?\n",
        "\n",
        "Ans:In object-oriented programming, the main difference between a class variable and an instance variable is that a class variable is shared by all instances of a class, while an instance variable is unique to each instance"
      ],
      "metadata": {
        "id": "VhGRiarZi7o2"
      }
    },
    {
      "cell_type": "markdown",
      "source": [
        "Q18 What is multiple inheritance in Python?\n",
        "\n",
        "Ans:Multiple inheritance is a feature of Python that allows a child class to inherit properties and methods from more than one parent class"
      ],
      "metadata": {
        "id": "zDEFDVkWjPHO"
      }
    },
    {
      "cell_type": "markdown",
      "source": [
        "Q19 Explain the purpose of ‘’__str__’ and ‘__repr__’ ‘ methods in Python\n",
        "\n",
        "Ans:In Python, the __str__ and __repr__ methods are used to create string representations of objects"
      ],
      "metadata": {
        "id": "o7L4nL2QjgEY"
      }
    },
    {
      "cell_type": "markdown",
      "source": [
        "Q20 What is the significance of the ‘super()’ function in Python?\n",
        "\n",
        "Ans:The super() function in Python is a built-in function that allows a subclass to access the methods and properties of its parent class"
      ],
      "metadata": {
        "id": "JDGVJumwj2RH"
      }
    },
    {
      "cell_type": "markdown",
      "source": [
        "Q21 What is the significance of the __del__ method in Python?\n",
        "\n",
        "Ans:The del method in Python is a destructor method that's called when an object is about to be destroyed."
      ],
      "metadata": {
        "id": "caKeLzYhkJQD"
      }
    },
    {
      "cell_type": "markdown",
      "source": [
        "Q22 What is the difference between @staticmethod and @classmethod in Python?\n",
        "\n",
        "Ans:The Difference between Class Method and Static method is stated below. While a static method requires no specific parameters, a class method takes cls as its first argument. While a static method cannot access or modify the class state, a class method can. Static methods are typically unaware of the class state."
      ],
      "metadata": {
        "id": "Mw71iGeUkdhf"
      }
    },
    {
      "cell_type": "markdown",
      "source": [
        "Q23 How does polymorphism work in Python with inheritance?\n",
        "\n",
        "Ans:In inheritance, the methods belonging to the parent class are passed down to the child class."
      ],
      "metadata": {
        "id": "VKKKha-ekxzX"
      }
    },
    {
      "cell_type": "markdown",
      "source": [
        "Q24 What is method chaining in Python OOP?\n",
        "\n",
        "Ans:In Python object-oriented programming (OOP), method chaining is a syntax that allows you to call multiple methods on an object in a single line of code"
      ],
      "metadata": {
        "id": "s0H8I7YLlKNX"
      }
    },
    {
      "cell_type": "markdown",
      "source": [
        "Q25 What is the purpose of the __call__ method in Python?\n",
        "\n",
        "Ans:The call method in Python allows programmers to create classes where instances behave like functions and can be called like functions"
      ],
      "metadata": {
        "id": "SG9kvXfYlfkr"
      }
    }
  ]
}