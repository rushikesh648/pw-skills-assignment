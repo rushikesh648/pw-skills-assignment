{
  "nbformat": 4,
  "nbformat_minor": 0,
  "metadata": {
    "colab": {
      "provenance": [],
      "authorship_tag": "ABX9TyPeasJcZmScR/Z5C4tX8hSk",
      "include_colab_link": true
    },
    "kernelspec": {
      "name": "python3",
      "display_name": "Python 3"
    },
    "language_info": {
      "name": "python"
    }
  },
  "cells": [
    {
      "cell_type": "markdown",
      "metadata": {
        "id": "view-in-github",
        "colab_type": "text"
      },
      "source": [
        "<a href=\"https://colab.research.google.com/github/rushikesh648/pw-skills-assignment/blob/main/basics_of_stat.ipynb\" target=\"_parent\"><img src=\"https://colab.research.google.com/assets/colab-badge.svg\" alt=\"Open In Colab\"/></a>"
      ]
    },
    {
      "cell_type": "markdown",
      "source": [
        "Q1  Explain the different types of data (qualitative and quantitative) and provide examples of each. Discuss\n",
        "nominal, ordinal, interval, and ratio scales?\n",
        "\n",
        "ans: quantitative means you can count it and it's numerical.Qualitative means you can't, and it's not numerical.\n",
        "example:\n",
        " quantity: no.of children(i.e.,2),temperatures(35.253).\n",
        " quality:brown hair,rated of likely.\n",
        "\n",
        " nominal:Nominal data are used to label variables without any quantitative value\n",
        "\n",
        " ordinal:the key value of ordinal data is order and order of variable of its data.\n",
        "\n",
        " interval:interval data is concerned of both the order and its variable.\n",
        "\n",
        " ratio scale:the ratio data is order of the variable is absolute zero or negative.\n"
      ],
      "metadata": {
        "id": "ra3P7-mIEqLP"
      }
    },
    {
      "cell_type": "markdown",
      "source": [
        "Q2 What are the measures of central tendency, and when should you use each? Discuss the mean, median,\n",
        "and mode with examples and situations where each is appropriate?\n",
        "\n",
        "ans: measures of central tendency is the typical value of data set or center point.in distribution measured value it can be used.\n",
        "\n",
        "mean: it is a arithmetic average, and it is probably the measure of central tendency that most familier.\n",
        "\n",
        "example:(0,5,10,15,20,25,30),(70,80,90,100,110,120,130)\n",
        "mean is 100.67\n",
        "\n",
        "it is appropriate with symmetric distribution,continuous data.\n",
        "\n",
        "median:the median is the middle value.\n",
        "\n",
        "example:1,2,5,6,8,12,15,18,20,24,51\n",
        "median is 12, it is middle value.\n",
        "\n",
        "it is appropriate with odd,even,fixed.\n",
        "\n",
        "mode:the mode is the value that occure the most frequently in the data set,making it different type of measure of central tendency than the mean or median.\n",
        "\n",
        "example:1,2,3,4,6,8,9,5,5,5 in this 5 is most occure.\n",
        "\n",
        "it is appropriate with ordinal data, continuous data."
      ],
      "metadata": {
        "id": "QDGRxT_YJPxz"
      }
    },
    {
      "cell_type": "markdown",
      "source": [
        "Q3 Explain the concept of dispersion. How do variance and standard deviation measure the spread of data?\n",
        "\n",
        "ans: dispersion refers to extent to which data point deviate from the central tendency,indicating the spread of data set.\n",
        "\n",
        "variance : variance measures how far individual data points are from the mean.\n",
        "it averaging the square differences between each data point and the mean.\n",
        "\n",
        "standard deviation:it is square root of variance.it measures average amount of deviation of data point from the mean."
      ],
      "metadata": {
        "id": "uNAy4TkAPEMo"
      }
    },
    {
      "cell_type": "markdown",
      "source": [
        "Q4 What is a box plot, and what can it tell you about the distribution of data?\n",
        "\n",
        "ans:it is a type of chart that depicts a group of numerical data through their quartiles. it is measured central tendency that illustrate the variability or dispersion of all data points present within a set."
      ],
      "metadata": {
        "id": "oPs8x4WJlQjW"
      }
    },
    {
      "cell_type": "markdown",
      "source": [
        "Q5  Discuss the role of random sampling in making inferences about populations.\n",
        "\n",
        "ans: it is method of probability sampling where randomly chooses a subset of individual from a larger population."
      ],
      "metadata": {
        "id": "r_4mC7ULnd3f"
      }
    },
    {
      "cell_type": "markdown",
      "source": [
        "Q6  Explain the concept of skewness and its types. How does skewness affect the interpretation of data?\n",
        "\n",
        "ans: skewness is a statistical measure that describe the asymmetry of the distribution of the values in data set.\n",
        "\n",
        "interpretation of skewness is nature of the skewness(left or right) and its magnitude."
      ],
      "metadata": {
        "id": "A_5v3aY8om4F"
      }
    },
    {
      "cell_type": "markdown",
      "source": [
        "Q7 What is the interquartile range (IQR), and how is it used to detect outliers?\n",
        "\n",
        "ans: it is used to measured variability by dividing the a dataset into quartile.\n",
        "\n",
        "outlier badly affect the mean and standard deviation of the dataset.these may statistically give erronious result."
      ],
      "metadata": {
        "id": "1fEtRsEQp7UV"
      }
    },
    {
      "cell_type": "markdown",
      "source": [
        "Q8  Discuss the conditions under which the binomial distribution is used.\n",
        "\n",
        "ans: the following condition of must be used as a distribution\n",
        "\n",
        "\n",
        "\n",
        "1.   fixed number of trials(n)\n",
        "2.   two possible outcomes.\n",
        "\n",
        "3.   constant probability of success(p)\n",
        "4.   the independent of trials\n",
        "\n",
        "\n",
        "\n"
      ],
      "metadata": {
        "id": "wo3Q1Zu4vJTs"
      }
    },
    {
      "cell_type": "markdown",
      "source": [
        "Q9  Explain the properties of the normal distribution and the empirical rule (68-95-99.7 rule).\n",
        "\n",
        "ans:\n",
        "\n",
        "*   data is symmetrically distributed around the mean.\n",
        "*   curved is bell shaped.\n",
        "\n",
        "*   mean, median and mode are all equal and located at center of distribution.\n",
        "*   standard deviation is determined the spread or dispersion of data.\n",
        "\n",
        "empirical rule:  it is a statistical guideline that describes the distribution of data in a normal distribution.\n",
        "\n",
        "\n",
        "\n"
      ],
      "metadata": {
        "id": "Eh3dNgBsxCbx"
      }
    },
    {
      "cell_type": "markdown",
      "source": [
        "Q10  Provide a real-life example of a Poisson process and calculate the probability for a specific event.\n",
        "\n",
        "ans: example:\n",
        "\n",
        ": A life insurance salesman sells on the average 3 life insurance policies per week. Use Poisson’s law\n",
        "to calculate the probability.\n",
        "\n",
        "In a given week he will sell how many policies.\n",
        "\n",
        "In a given week, he will sell 2 or more policies but not more than five policies.\n",
        "\n",
        "Assuming that per week, there are 5 working days, what is the probability that on a given day, he will sell one\n",
        "policy?\n",
        "\n",
        "1.\"Some policies\" means \"1 or more policies\". We can work this out by computing to find 1- \"zero policies\"\n",
        "probability:\n",
        "\n",
        "P(X > 0) = 1 − P(x0)\n",
        "\n",
        "now p(x) = e  ^−u u^x/x! so p(x0) =e^-3 3^0/0! = 4.9787 x 10^-2\n",
        "\n",
        "Therefore, the probability of 1 or more than 1 policies:\n",
        "\n",
        "P (X ≥ 0)\n",
        "\n",
        "=1−4.9787×10−2 because of 1−P(x0​)\n",
        "\n",
        "=0.95021\n",
        "\n",
        "2. The probability of selling 2 or more policies but less than 5 policies are:\n",
        "\n",
        "P(2≤X<5) = P(x2​)+P(x3​)+P(x4​)\n",
        "\n",
        "e^-3 3^2/2! + e^-3 3^3/3! + e^-3 3^4/4\n",
        "\n",
        "= 0.61611\n",
        "\n",
        "3. The average number of policies sold per day is 3/5 = 0.6. on given day:\n",
        "\n",
        "p(x)= e^-0.6(0.6)^1/1! = 0.32929\n",
        "\n",
        "\n"
      ],
      "metadata": {
        "id": "JF-l_FSD27m4"
      }
    },
    {
      "cell_type": "markdown",
      "source": [
        "Q11  Explain what a random variable is and differentiate between discrete and continuous random variables.\n",
        "\n",
        "ans: in probability, a real-valued function,defined over the sample space of a random experiment is called as random variable.\n",
        "\n",
        "1) discrete random variable: if a random variable takes only a finite or countable number of values,it is called discrete random variable.\n",
        "\n",
        "2) continuous random variable: if a random variable takes all possible values between certain given limits, it is called continuous random variable.\n",
        "\n"
      ],
      "metadata": {
        "id": "_f9uQ39a8dU5"
      }
    },
    {
      "cell_type": "markdown",
      "source": [
        "Q12 Provide an example dataset, calculate both covariance and correlation, and interpret the results.\n",
        "\n",
        "ans: s={1,2,3,4,\"ajay\",\"ram\"}\n",
        "\n",
        "covariance: cov(x,y) = ∑(xi - x̄)(yi - ȳ)/n-1\n",
        "\n",
        "correlation: r(xy) = ∑\n",
        "n\n",
        "i\n",
        "=\n",
        "1(xi - x̄)(yi - ȳ)/√∑\n",
        "n\n",
        "i\n",
        "=\n",
        "1(xi - x̄)^2√∑\n",
        "n\n",
        "i\n",
        "=\n",
        "1(yi - ȳ)^2\n",
        "\n"
      ],
      "metadata": {
        "id": "adCXGN8QKaDt"
      }
    }
  ]
}