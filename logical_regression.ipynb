{
  "nbformat": 4,
  "nbformat_minor": 0,
  "metadata": {
    "colab": {
      "provenance": [],
      "authorship_tag": "ABX9TyPWc4R3Uuq+xgVTzBMlAFeU",
      "include_colab_link": true
    },
    "kernelspec": {
      "name": "python3",
      "display_name": "Python 3"
    },
    "language_info": {
      "name": "python"
    }
  },
  "cells": [
    {
      "cell_type": "markdown",
      "metadata": {
        "id": "view-in-github",
        "colab_type": "text"
      },
      "source": [
        "<a href=\"https://colab.research.google.com/github/rushikesh648/pw-skills-assignment/blob/main/logical_regression.ipynb\" target=\"_parent\"><img src=\"https://colab.research.google.com/assets/colab-badge.svg\" alt=\"Open In Colab\"/></a>"
      ]
    },
    {
      "cell_type": "code",
      "source": [
        "# q1 Write a Python program that loads a dataset, splits it into training and testing sets, applies Logistic Regression, and prints the model accuracy.\n",
        "import pandas as pd\n",
        "from sklearn.datasets import load_iris\n",
        "from sklearn.model_selection import train_test_split\n",
        "from sklearn.linear_model import LogisticRegression\n",
        "from sklearn.metrics import accuracy_score\n",
        "df = load_iris()\n",
        "X_train, X_test, y_train, y_test = train_test_split(df.data, df.target, test_size=0.2, random_state=42)\n",
        "logreg = LogisticRegression()\n",
        "logreg.fit(X_train, y_train)\n",
        "y_pred = logreg.predict(X_test)\n",
        "accuracy = accuracy_score(y_test, y_pred)\n",
        "print(\"Accuracy:\", accuracy)"
      ],
      "metadata": {
        "colab": {
          "base_uri": "https://localhost:8080/"
        },
        "id": "lt7RJhbukVU1",
        "outputId": "83054909-7aac-4ea6-d45a-3b0f1c6e1941"
      },
      "execution_count": null,
      "outputs": [
        {
          "output_type": "stream",
          "name": "stdout",
          "text": [
            "Accuracy: 1.0\n"
          ]
        }
      ]
    },
    {
      "cell_type": "code",
      "source": [
        "# q2 Write a Python program to apply L1 regularization (Lasso) on a dataset using LogisticRegression(penalty='l1') and print the model accuracy.\n",
        "import pandas as pd\n",
        "from sklearn.datasets import load_iris\n",
        "from sklearn.model_selection import train_test_split\n",
        "from sklearn.linear_model import LogisticRegression\n",
        "from sklearn.metrics import accuracy_score\n",
        "df = load_iris()\n",
        "X = df.data\n",
        "y = df.target\n",
        "X_train, X_test, y_train, y_test = train_test_split(X, y, test_size=0.2, random_state=42)\n",
        "logreg = LogisticRegression(penalty='l1', solver='liblinear')\n",
        "logreg.fit(X_train, y_train)\n",
        "y_pred = logreg.predict(X_test)\n",
        "accuracy = accuracy_score(y_test, y_pred)\n",
        "print(\"Accuracy:\", accuracy)"
      ],
      "metadata": {
        "colab": {
          "base_uri": "https://localhost:8080/"
        },
        "id": "tGED4bo9lEhd",
        "outputId": "5de429d8-eaa6-4407-ea50-b2d53aa0fb99"
      },
      "execution_count": null,
      "outputs": [
        {
          "output_type": "stream",
          "name": "stdout",
          "text": [
            "Accuracy: 1.0\n"
          ]
        }
      ]
    },
    {
      "cell_type": "code",
      "source": [
        "# q3 Write a Python program to train Logistic Regression with L2 regularization (Ridge) using LogisticRegression(penalty='l2'). Print model accuracy and coefficients.\n",
        "from sklearn.datasets import load_iris\n",
        "from sklearn.model_selection import train_test_split\n",
        "from sklearn.linear_model import LogisticRegression\n",
        "from sklearn.metrics import accuracy_score\n",
        "df = load_iris()\n",
        "X = df.data\n",
        "y = df.target\n",
        "X_train, X_test, y_train, y_test = train_test_split(X, y, test_size=0.2, random_state=42)\n",
        "logreg = LogisticRegression(penalty='l2', solver='liblinear')\n",
        "logreg.fit(X_train, y_train)\n",
        "y_pred = logreg.predict(X_test)\n",
        "accuracy = accuracy_score(y_test, y_pred)\n",
        "print(\"Accuracy:\", accuracy)\n",
        "print(\"Coefficients:\", logreg.coef_)"
      ],
      "metadata": {
        "colab": {
          "base_uri": "https://localhost:8080/"
        },
        "id": "TXJJWdd7lmkp",
        "outputId": "46c51f2f-88c9-49f6-d128-d211016b17ef"
      },
      "execution_count": null,
      "outputs": [
        {
          "output_type": "stream",
          "name": "stdout",
          "text": [
            "Accuracy: 1.0\n",
            "Coefficients: [[ 0.3711229   1.409712   -2.15210117 -0.95474179]\n",
            " [ 0.49400451 -1.58897112  0.43717015 -1.11187838]\n",
            " [-1.55895271 -1.58893375  2.39874554  2.15556209]]\n"
          ]
        }
      ]
    },
    {
      "cell_type": "code",
      "source": [
        "# q4 Write a Python program to train Logistic Regression with Elastic Net Regularization (penalty='elasticnet').\n",
        "from math import log\n",
        "from sklearn.datasets import load_iris\n",
        "from sklearn.model_selection import train_test_split\n",
        "from sklearn.linear_model import LogisticRegression\n",
        "from sklearn.metrics import accuracy_score\n",
        "df = load_iris()\n",
        "X = df.data\n",
        "y = df.target\n",
        "X_train, X_test, y_train, y_test = train_test_split(X, y, test_size=0.2, random_state=42)\n",
        "logreg = LogisticRegression(penalty='elasticnet', solver='saga', l1_ratio=0.5)\n",
        "logreg.fit(X_train, y_train)\n",
        "y_pred = logreg.predict(X_test)\n",
        "accuracy = accuracy_score(y_test, y_pred)\n",
        "print(\"Accuracy:\", accuracy)\n",
        "print(\"Coefficients:\", logreg.coef_)"
      ],
      "metadata": {
        "colab": {
          "base_uri": "https://localhost:8080/"
        },
        "id": "LwW9EuRRmsj8",
        "outputId": "5e221ebc-7968-4890-e1eb-51e58db747c2"
      },
      "execution_count": null,
      "outputs": [
        {
          "output_type": "stream",
          "name": "stdout",
          "text": [
            "Accuracy: 1.0\n",
            "Coefficients: [[ 0.51305602  1.7792656  -2.36830905 -0.80292526]\n",
            " [ 0.24506001  0.          0.         -0.64340509]\n",
            " [-1.30123073 -1.56989065  2.5730997   1.98111766]]\n"
          ]
        },
        {
          "output_type": "stream",
          "name": "stderr",
          "text": [
            "/usr/local/lib/python3.11/dist-packages/sklearn/linear_model/_sag.py:348: ConvergenceWarning: The max_iter was reached which means the coef_ did not converge\n",
            "  warnings.warn(\n"
          ]
        }
      ]
    },
    {
      "cell_type": "code",
      "source": [
        "# q5 Write a Python program to train a Logistic Regression model for multiclass classification using multi_class='ovr'.\n",
        "from sklearn.datasets import load_iris\n",
        "from sklearn.linear_model import LogisticRegression\n",
        "from sklearn.model_selection import train_test_split\n",
        "from sklearn.metrics import accuracy_score\n",
        "data = load_iris()\n",
        "X = data.data\n",
        "y = data.target\n",
        "X_train, X_test, y_train, y_test = train_test_split(X, y, test_size=0.2, random_state=42)\n",
        "model = LogisticRegression(multi_class='ovr')\n",
        "model.fit(X_train, y_train)\n",
        "y_pred = model.predict(X_test)\n",
        "accuracy = accuracy_score(y_test, y_pred)\n",
        "print(\"Accuracy:\", accuracy)"
      ],
      "metadata": {
        "colab": {
          "base_uri": "https://localhost:8080/"
        },
        "id": "mkCDl9QinWrh",
        "outputId": "692a54bc-a6b5-4490-8fef-3b957eb3d971"
      },
      "execution_count": null,
      "outputs": [
        {
          "output_type": "stream",
          "name": "stdout",
          "text": [
            "Accuracy: 0.9666666666666667\n"
          ]
        },
        {
          "output_type": "stream",
          "name": "stderr",
          "text": [
            "/usr/local/lib/python3.11/dist-packages/sklearn/linear_model/_logistic.py:1256: FutureWarning: 'multi_class' was deprecated in version 1.5 and will be removed in 1.7. Use OneVsRestClassifier(LogisticRegression(..)) instead. Leave it to its default value to avoid this warning.\n",
            "  warnings.warn(\n"
          ]
        }
      ]
    },
    {
      "cell_type": "code",
      "source": [
        "# q6 Write a Python program to apply GridSearchCV to tune the hyperparameters (C and penalty) of Logistic Regression. Print the best parameters and accuracy.\n",
        "from sklearn.datasets import load_iris\n",
        "from sklearn.linear_model import LogisticRegression\n",
        "from sklearn.model_selection import GridSearchCV, train_test_split\n",
        "from sklearn.metrics import accuracy_score\n",
        "data = load_iris()\n",
        "X = data.data\n",
        "y = data.target\n",
        "X_train, X_test, y_train, y_test = train_test_split(X, y, test_size=0.2, random_state=42)\n",
        "model = LogisticRegression(max_iter=200, solver='liblinear')\n",
        "param_grid = {'C': [0.001, 0.01, 0.1, 1, 10, 100], 'penalty': ['l1', 'l2']}\n",
        "grid_search = GridSearchCV(model, param_grid, cv=5)\n",
        "grid_search.fit(X_train, y_train)\n",
        "best_params = grid_search.best_params_\n",
        "best_model = grid_search.best_estimator_\n",
        "y_pred = best_model.predict(X_test)\n",
        "accuracy = accuracy_score(y_test, y_pred)\n",
        "print(\"Best Parameters:\", best_params)\n",
        "print(\"Accuracy:\", accuracy)"
      ],
      "metadata": {
        "colab": {
          "base_uri": "https://localhost:8080/"
        },
        "id": "_hWytJ3-n9XL",
        "outputId": "29634189-0fc1-430b-83ef-ab7cd1d2bb24"
      },
      "execution_count": null,
      "outputs": [
        {
          "output_type": "stream",
          "name": "stdout",
          "text": [
            "Best Parameters: {'C': 10, 'penalty': 'l1'}\n",
            "Accuracy: 1.0\n"
          ]
        }
      ]
    },
    {
      "cell_type": "code",
      "source": [
        "# q7 Write a Python program to evaluate Logistic Regression using Stratified K-Fold Cross-Validation. Print the average accuracy.\n",
        "from sklearn.datasets import load_iris\n",
        "from sklearn.linear_model import LogisticRegression\n",
        "from sklearn.model_selection import StratifiedKFold\n",
        "from sklearn.metrics import accuracy_score\n",
        "data = load_iris()\n",
        "X = data.data\n",
        "y = data.target\n",
        "model = LogisticRegression(max_iter=200, solver='liblinear')\n",
        "skf = StratifiedKFold(n_splits=5, shuffle=True, random_state=42)\n",
        "accuracies = []\n",
        "for train_index, test_index in skf.split(X, y):\n",
        "    X_train, X_test = X[train_index], X[test_index]\n",
        "    y_train, y_test = y[train_index], y[test_index]\n",
        "    model.fit(X_train, y_train)\n",
        "    y_pred = model.predict(X_test)\n",
        "    accuracy = accuracy_score(y_test, y_pred)\n",
        "    accuracies.append(accuracy)\n",
        "average_accuracy = sum(accuracies) / len(accuracies)\n",
        "print(\"Average Accuracy:\", average_accuracy)"
      ],
      "metadata": {
        "colab": {
          "base_uri": "https://localhost:8080/"
        },
        "id": "Sl01oVtMqCQX",
        "outputId": "81223e04-a753-4227-9029-27b8992fd0aa"
      },
      "execution_count": null,
      "outputs": [
        {
          "output_type": "stream",
          "name": "stdout",
          "text": [
            "Average Accuracy: 0.96\n"
          ]
        }
      ]
    },
    {
      "cell_type": "code",
      "source": [
        "# q8 Write a Python program to load a dataset from a CSV file, apply Logistic Regression, and evaluate its accuracy.\n",
        "from sklearn.datasets import load_iris\n",
        "from sklearn.linear_model import LogisticRegression\n",
        "from sklearn.model_selection import train_test_split\n",
        "from sklearn.metrics import accuracy_score\n",
        "import pandas as pd\n",
        "from urllib.request import urlretrieve\n",
        "url = 'https://archive.ics.uci.edu/ml/machine-learning-databases/iris/iris.data'\n",
        "urlretrieve(url, 'iris.csv')\n",
        "data = pd.read_csv('iris.csv', header=None)\n",
        "X = data.iloc[:, :-1].values\n",
        "y = data.iloc[:, -1].values\n",
        "X_train, X_test, y_train, y_test = train_test_split(X, y, test_size=0.2, random_state=42)\n",
        "model = LogisticRegression(max_iter=200, solver='liblinear')\n",
        "model.fit(X_train, y_train)\n",
        "y_pred = model.predict(X_test)\n",
        "accuracy = accuracy_score(y_test, y_pred)\n",
        "print(\"Accuracy:\", accuracy)"
      ],
      "metadata": {
        "colab": {
          "base_uri": "https://localhost:8080/"
        },
        "id": "UccxNsh-u6gS",
        "outputId": "1fe17d05-b426-4c38-8974-7c9be936b058"
      },
      "execution_count": null,
      "outputs": [
        {
          "output_type": "stream",
          "name": "stdout",
          "text": [
            "Accuracy: 1.0\n"
          ]
        }
      ]
    },
    {
      "cell_type": "code",
      "source": [
        "# q9 Write a Python program to apply RandomizedSearchCV for tuning hyperparameters (C, penalty, solver) in Logistic Regression. Print the best parameters and accuracy.\n",
        "from sklearn.datasets import load_iris\n",
        "from sklearn.linear_model import LogisticRegression\n",
        "from sklearn.model_selection import RandomizedSearchCV, train_test_split\n",
        "from sklearn.metrics import accuracy_score\n",
        "import numpy as np\n",
        "import warnings\n",
        "warnings.filterwarnings(\"ignore\")\n",
        "data = load_iris()\n",
        "X = data.data\n",
        "y = data.target\n",
        "X_train, X_test, y_train, y_test = train_test_split(X, y, test_size=0.2, random_state=42)\n",
        "model = LogisticRegression(max_iter=200)\n",
        "param_dist = {'C': [0.001, 0.01, 0.1, 1, 10, 100],\n",
        "              'penalty': ['l1', 'l2'],\n",
        "              'solver': ['liblinear', 'saga']}\n",
        "random_search = RandomizedSearchCV(estimator=model, param_distributions=param_dist, n_iter=10, cv=5, scoring='accuracy', random_state=42)\n",
        "random_search.fit(X_train, y_train)\n",
        "best_params = random_search.best_params_\n",
        "best_model = random_search.best_estimator_\n",
        "y_pred = best_model.predict(X_test)\n",
        "accuracy = accuracy_score(y_test, y_pred)\n",
        "print(\"Accuracy:\", accuracy)\n",
        "print(\"Best Parameters:\", best_params)"
      ],
      "metadata": {
        "colab": {
          "base_uri": "https://localhost:8080/"
        },
        "id": "R264O_8M0Ov3",
        "outputId": "0f7aa954-242b-4e2a-ae16-7c9f7bae49c9"
      },
      "execution_count": null,
      "outputs": [
        {
          "output_type": "stream",
          "name": "stdout",
          "text": [
            "Accuracy: 1.0\n",
            "Best Parameters: {'solver': 'saga', 'penalty': 'l1', 'C': 1}\n"
          ]
        }
      ]
    },
    {
      "cell_type": "code",
      "source": [
        "# q10 Write a Python program to implement One-vs-One (OvO) Multiclass Logistic Regression and print accuracy.\n",
        "from sklearn.datasets import load_iris\n",
        "from sklearn.linear_model import LogisticRegression\n",
        "from sklearn.multiclass import OneVsOneClassifier\n",
        "from sklearn.model_selection import train_test_split\n",
        "from sklearn.metrics import accuracy_score\n",
        "data = load_iris()\n",
        "X = data.data\n",
        "y = data.target\n",
        "X_train, X_test, y_train, y_test = train_test_split(X, y, test_size=0.2, random_state=42)\n",
        "ovo_model = OneVsOneClassifier(LogisticRegression(max_iter=200, solver='liblinear'))\n",
        "ovo_model.fit(X_train, y_train)\n",
        "y_pred = ovo_model.predict(X_test)\n",
        "accuracy = accuracy_score(y_test, y_pred)\n",
        "print(\"Accuracy:\", accuracy)"
      ],
      "metadata": {
        "colab": {
          "base_uri": "https://localhost:8080/"
        },
        "id": "w2Jhjdbn1aaY",
        "outputId": "f99aece1-aa39-4872-f02a-0e5bf26de324"
      },
      "execution_count": null,
      "outputs": [
        {
          "output_type": "stream",
          "name": "stdout",
          "text": [
            "Accuracy: 1.0\n"
          ]
        }
      ]
    },
    {
      "cell_type": "code",
      "source": [
        "# q11 Write a Python program to train a Logistic Regression model and visualize the confusion matrix for binary classification.\n",
        "from sklearn.datasets import load_iris\n",
        "from sklearn.linear_model import LogisticRegression\n",
        "from sklearn.model_selection import train_test_split\n",
        "from sklearn.metrics import confusion_matrix\n",
        "import seaborn as sns\n",
        "import matplotlib.pyplot as plt\n",
        "data = load_iris()\n",
        "X = data.data[:, :2]\n",
        "y = data.target\n",
        "X_train, X_test, y_train, y_test = train_test_split(X, y, test_size=0.2, random_state=42)\n",
        "model = LogisticRegression(max_iter=200, solver='liblinear')\n",
        "model.fit(X_train, y_train)\n",
        "y_pred = model.predict(X_test)\n",
        "cm = confusion_matrix(y_test, y_pred)\n",
        "sns.heatmap(cm, annot=True, fmt='d')\n",
        "plt.xlabel('Predicted')\n",
        "plt.ylabel('Actual')\n",
        "plt.show()"
      ],
      "metadata": {
        "id": "9J78_24-13oR",
        "outputId": "d1165f21-6590-49ff-b837-70b0a7424641",
        "colab": {
          "base_uri": "https://localhost:8080/",
          "height": 449
        }
      },
      "execution_count": null,
      "outputs": [
        {
          "output_type": "display_data",
          "data": {
            "text/plain": [
              "<Figure size 640x480 with 2 Axes>"
            ],
            "image/png": "[encoded data removed]"
          },
          "metadata": {}
        }
      ]
    },
    {
      "cell_type": "code",
      "source": [
        "# q12 Write a Python program to train a Logistic Regression model and evaluate its performance using Precision, Recall, and F1-Score.\n",
        "from sklearn.linear_model import LogisticRegression\n",
        "from sklearn.model_selection import train_test_split\n",
        "from sklearn.metrics import precision_score, recall_score, f1_score\n",
        "import numpy as np\n",
        "import pandas as pd\n",
        "np.random.seed(42)\n",
        "X = np.random.rand(100, 2)\n",
        "y = np.random.randint(0, 2, 100)\n",
        "X_train, X_test, y_train, y_test = train_test_split(X, y, test_size=0.2, random_state=42)\n",
        "model = LogisticRegression()\n",
        "model.fit(X_train, y_train)\n",
        "y_pred = model.predict(X_test)\n",
        "precision = precision_score(y_test, y_pred)\n",
        "recall = recall_score(y_test, y_pred)\n",
        "f1 = f1_score(y_test, y_pred)\n",
        "print(\"Precision:\", precision)\n",
        "print(\"Recall:\", recall)\n",
        "print(\"F1-Score:\", f1)\n",
        "print(\"classification report\",(y_test, y_pred))"
      ],
      "metadata": {
        "colab": {
          "base_uri": "https://localhost:8080/"
        },
        "id": "zdSJuK7ai-vU",
        "outputId": "e3d7ea4a-270f-4c65-ccd4-f4b12b9b7409"
      },
      "execution_count": null,
      "outputs": [
        {
          "output_type": "stream",
          "name": "stdout",
          "text": [
            "Precision: 0.8\n",
            "Recall: 0.5714285714285714\n",
            "F1-Score: 0.6666666666666666\n",
            "classification report (array([1, 1, 0, 0, 1, 0, 1, 1, 0, 1, 1, 0, 1, 1, 1, 1, 0, 1, 1, 1]), array([0, 1, 0, 1, 0, 0, 1, 1, 0, 1, 0, 0, 1, 1, 0, 1, 1, 0, 1, 0]))\n"
          ]
        }
      ]
    },
    {
      "cell_type": "code",
      "source": [
        "# q13 Write a Python program to train a Logistic Regression model on imbalanced data and apply class weights to improve model performance.\n",
        "from sklearn.datasets import make_classification\n",
        "from sklearn.linear_model import LogisticRegression\n",
        "from sklearn.model_selection import train_test_split\n",
        "from sklearn.metrics import accuracy_score\n",
        "X, y = make_classification(n_samples=1000, n_features=2, n_informative=2, n_redundant=0, n_classes=2, weights=[0.9], random_state=42)\n",
        "X_train, X_test, y_train, y_test = train_test_split(X, y, test_size=0.2, random_state=42)\n",
        "model = LogisticRegression(class_weight='balanced')\n",
        "model.fit(X_train, y_train)\n",
        "y_pred = model.predict(X_test)\n",
        "accuracy = accuracy_score(y_test, y_pred)\n",
        "print(\"Accuracy:\", accuracy)"
      ],
      "metadata": {
        "colab": {
          "base_uri": "https://localhost:8080/"
        },
        "id": "DUV15JKpjbKK",
        "outputId": "6d088e80-fcb8-4890-8ab0-c2612e1cfca6"
      },
      "execution_count": null,
      "outputs": [
        {
          "output_type": "stream",
          "name": "stdout",
          "text": [
            "Accuracy: 0.875\n"
          ]
        }
      ]
    },
    {
      "cell_type": "code",
      "source": [
        "# q14 Write a Python program to train Logistic Regression on the Titanic dataset, handle missing values, and evaluate performance.\n",
        "import pandas as pd\n",
        "from sklearn.model_selection import train_test_split\n",
        "from sklearn.linear_model import LogisticRegression\n",
        "from sklearn.metrics import accuracy_score, precision_score, recall_score, f1_score\n",
        "from sklearn.impute import SimpleImputer\n",
        "from sklearn.preprocessing import StandardScaler\n",
        "url = \"https://raw.githubusercontent.com/datasciencedojo/datasets/master/titanic.csv\"\n",
        "data = pd.read_csv(url)\n",
        "features = ['Pclass', 'Sex', 'Age', 'SibSp', 'Parch', 'Fare']\n",
        "target = 'Survived'\n",
        "X = data[features]\n",
        "y = data[target]\n",
        "data = pd.get_dummies(data, columns=['Sex', 'Embarked'], drop_first=True)\n",
        "data = data.dropna(subset=[target])\n",
        "imputer = SimpleImputer(strategy='mean')\n",
        "data['Age'] = imputer.fit_transform(data[['Age']])\n",
        "data['Fare'] = imputer.fit_transform(data[['Fare']])\n",
        "X = data[['Pclass', 'Age', 'SibSp', 'Parch', 'Fare', 'Sex_male', 'Embarked_Q', 'Embarked_S']]\n",
        "y = data[target]\n",
        "X_train, X_test, y_train, y_test = train_test_split(X, y, test_size=0.2, random_state=42)\n",
        "scaler = StandardScaler()\n",
        "X_train = scaler.fit_transform(X_train)\n",
        "X_test = scaler.transform(X_test)\n",
        "model = LogisticRegression()\n",
        "model.fit(X_train, y_train)\n",
        "y_pred = model.predict(X_test)\n",
        "accuracy = accuracy_score(y_test, y_pred)\n",
        "precision = precision_score(y_test, y_pred)\n",
        "recall = recall_score(y_test, y_pred)\n",
        "f1 = f1_score(y_test, y_pred)\n",
        "print(\"Accuracy:\", accuracy)\n",
        "print(\"Precision:\", precision)\n",
        "print(\"Recall:\", recall)\n",
        "print(\"F1-Score:\", f1)"
      ],
      "metadata": {
        "colab": {
          "base_uri": "https://localhost:8080/"
        },
        "id": "HTP6iJihqgeO",
        "outputId": "38b1e396-4d5d-45d1-8739-24fd36706820"
      },
      "execution_count": null,
      "outputs": [
        {
          "output_type": "stream",
          "name": "stdout",
          "text": [
            "Accuracy: 0.8100558659217877\n",
            "Precision: 0.7857142857142857\n",
            "Recall: 0.7432432432432432\n",
            "F1-Score: 0.7638888888888888\n"
          ]
        }
      ]
    },
    {
      "cell_type": "code",
      "source": [
        "# q15 Write a Python program to apply feature scaling (Standardization) before training a Logistic Regression model. Evaluate its accuracy and compare results with and without scaling.\n",
        "from sklearn.datasets import load_iris\n",
        "from sklearn.linear_model import LogisticRegression\n",
        "from sklearn.model_selection import train_test_split\n",
        "from sklearn.metrics import accuracy_score\n",
        "from sklearn.preprocessing import StandardScaler\n",
        "data = load_iris()\n",
        "X = data.data\n",
        "y = data.target\n",
        "X_train, X_test, y_train, y_test = train_test_split(X, y, test_size=0.2, random_state=42)\n",
        "scaler = StandardScaler()\n",
        "X_train_scaled = scaler.fit_transform(X_train)\n",
        "X_test_scaled = scaler.transform(X_test)\n",
        "model = LogisticRegression(max_iter=200, solver='liblinear')\n",
        "model.fit(X_train_scaled, y_train)\n",
        "y_pred = model.predict(X_test_scaled)\n",
        "accuracy_scaled = accuracy_score(y_test, y_pred)\n",
        "model_unscaled = LogisticRegression(max_iter=200, solver='liblinear')\n",
        "model_unscaled.fit(X_train, y_train)\n",
        "y_pred_unscaled = model_unscaled.predict(X_test)\n",
        "accuracy_unscaled = accuracy_score(y_test, y_pred_unscaled)\n",
        "print(\"Accuracy with Scaling:\", accuracy_scaled)\n",
        "print(\"Accuracy without Scaling:\", accuracy_unscaled)"
      ],
      "metadata": {
        "colab": {
          "base_uri": "https://localhost:8080/"
        },
        "id": "QFhbWkAvqWFG",
        "outputId": "f8ba7ca3-cde8-4474-a2fa-46f11b5b850c"
      },
      "execution_count": null,
      "outputs": [
        {
          "output_type": "stream",
          "name": "stdout",
          "text": [
            "Accuracy with Scaling: 0.9666666666666667\n",
            "Accuracy without Scaling: 1.0\n"
          ]
        }
      ]
    },
    {
      "cell_type": "code",
      "source": [
        "# q16 Write a Python program to train Logistic Regression and evaluate its performance using ROC-AUC score.\n",
        "from sklearn.linear_model import LogisticRegression\n",
        "from sklearn.model_selection import train_test_split\n",
        "from sklearn.metrics import roc_auc_score, roc_curve\n",
        "import matplotlib.pyplot as plt\n",
        "import numpy as np\n",
        "import pandas as pd\n",
        "np.random.seed(42)\n",
        "X = np.random.rand(100, 5)\n",
        "y = np.random.randint(0, 2, 100)\n",
        "X_train, X_test, y_train, y_test = train_test_split(X, y, test_size=0.2, random_state=42)\n",
        "model = LogisticRegression()\n",
        "model.fit(X_train, y_train)\n",
        "y_pred_prob = model.predict_proba(X_test)[:, 1]\n",
        "roc_auc = roc_auc_score(y_test, y_pred_prob)\n",
        "print(f\"ROC-AUC Score: {roc_auc:.2f}\")\n",
        "fpr, tpr, thresholds = roc_curve(y_test, y_pred_prob)\n",
        "plt.figure(figsize=(8, 6))\n",
        "plt.plot(fpr, tpr, label=f\"ROC Curve (AUC = {roc_auc:.2f})\", color='blue')\n",
        "plt.plot([0, 1], [0, 1], 'k--', label=\"Random Guess\")\n",
        "plt.xlabel(\"False Positive Rate\")\n",
        "plt.ylabel(\"True Positive Rate\")\n",
        "plt.title(\"Receiver Operating Characteristic (ROC) Curve\")\n",
        "plt.legend(loc=\"lower right\")\n",
        "plt.show()"
      ],
      "metadata": {
        "colab": {
          "base_uri": "https://localhost:8080/",
          "height": 581
        },
        "id": "MhtrbP29ug79",
        "outputId": "cffaaba1-8f0b-431c-9aa1-9fbe603dca82"
      },
      "execution_count": null,
      "outputs": [
        {
          "output_type": "stream",
          "name": "stdout",
          "text": [
            "ROC-AUC Score: 0.40\n"
          ]
        },
        {
          "output_type": "display_data",
          "data": {
            "text/plain": [
              "<Figure size 800x600 with 1 Axes>"
            ],
            "image/png": "[encoded data removed]"
          },
          "metadata": {}
        }
      ]
    },
    {
      "cell_type": "code",
      "source": [
        "# q17 Write a Python program to train Logistic Regression using a custom learning rate (C=0.5) and evaluate accuracy.\n",
        "import numpy as np\n",
        "import pandas as pd\n",
        "from sklearn.model_selection import train_test_split\n",
        "from sklearn.linear_model import LogisticRegression\n",
        "from sklearn.metrics import accuracy_score\n",
        "np.random.seed(42)\n",
        "X = np.random.rand(100, 5)\n",
        "y = np.random.randint(0, 2, 100)\n",
        "X_train, X_test, y_train, y_test = train_test_split(X, y, test_size=0.2, random_state=42)\n",
        "model = LogisticRegression(C=0.5, random_state=42)\n",
        "model.fit(X_train, y_train)\n",
        "y_pred = model.predict(X_test)\n",
        "accuracy = accuracy_score(y_test, y_pred)\n",
        "print(f\"Accuracy: {accuracy:.2f}\")"
      ],
      "metadata": {
        "colab": {
          "base_uri": "https://localhost:8080/"
        },
        "id": "Hdz_-vXQvd36",
        "outputId": "cce9cf6d-161f-4d28-ff6b-ac49539a6c7f"
      },
      "execution_count": null,
      "outputs": [
        {
          "output_type": "stream",
          "name": "stdout",
          "text": [
            "Accuracy: 0.50\n"
          ]
        }
      ]
    },
    {
      "cell_type": "code",
      "source": [
        "# q18 Write a Python program to train Logistic Regression and identify important features based on model coefficients.\n",
        "import numpy as np\n",
        "import pandas as pd\n",
        "from sklearn.model_selection import train_test_split\n",
        "from sklearn.linear_model import LogisticRegression\n",
        "from sklearn.preprocessing import StandardScaler\n",
        "np.random.seed(42)\n",
        "X = np.random.rand(100, 5)\n",
        "y = np.random.randint(0, 2, 100)\n",
        "feature_names = ['Feature1', 'Feature2', 'Feature3', 'Feature4', 'Feature5']\n",
        "X_train, X_test, y_train, y_test = train_test_split(X, y, test_size=0.2, random_state=42)\n",
        "scaler = StandardScaler()\n",
        "X_train = scaler.fit_transform(X_train)\n",
        "X_test = scaler.transform(X_test)\n",
        "model = LogisticRegression()\n",
        "model.fit(X_train, y_train)\n",
        "coefficients = model.coef_[0]\n",
        "feature_importance = pd.DataFrame({\n",
        "    'Feature': feature_names,\n",
        "    'Coefficient': coefficients\n",
        "}).sort_values(by='Coefficient', ascending=False)\n",
        "\n",
        "print(\"Feature Importance based on Model Coefficients:\")\n",
        "print(feature_importance)"
      ],
      "metadata": {
        "colab": {
          "base_uri": "https://localhost:8080/"
        },
        "id": "yANheUYAvgHj",
        "outputId": "e1be1ad9-2e1b-4762-d76b-fc82a04a71a2"
      },
      "execution_count": null,
      "outputs": [
        {
          "output_type": "stream",
          "name": "stdout",
          "text": [
            "Feature Importance based on Model Coefficients:\n",
            "    Feature  Coefficient\n",
            "3  Feature4     0.098034\n",
            "0  Feature1     0.097277\n",
            "1  Feature2     0.015864\n",
            "4  Feature5     0.003673\n",
            "2  Feature3    -0.109661\n"
          ]
        }
      ]
    },
    {
      "cell_type": "code",
      "source": [
        "# q19 Write a Python program to train Logistic Regression and evaluate its performance using Cohen’s Kappa Score.\n",
        "from sklearn.linear_model import LogisticRegression\n",
        "from sklearn.model_selection import train_test_split\n",
        "from sklearn.metrics import cohen_kappa_score\n",
        "import numpy as np\n",
        "import pandas as pd\n",
        "np.random.seed(42)\n",
        "X = np.random.rand(100, 2)\n",
        "y = np.random.randint(0, 2, 100)\n",
        "X_train, X_test, y_train, y_test = train_test_split(X, y, test_size=0.2, random_state=42)\n",
        "model = LogisticRegression()\n",
        "model.fit(X_train, y_train)\n",
        "y_pred = model.predict(X_test)\n",
        "kappa_score = cohen_kappa_score(y_test, y_pred)\n",
        "print(f\"Cohen's Kappa Score: {kappa_score:.2f}\")"
      ],
      "metadata": {
        "colab": {
          "base_uri": "https://localhost:8080/"
        },
        "id": "hGTEjk8Aw4Sz",
        "outputId": "4dbfe898-eb7c-48ae-fbed-d77675b0b557"
      },
      "execution_count": null,
      "outputs": [
        {
          "output_type": "stream",
          "name": "stdout",
          "text": [
            "Cohen's Kappa Score: 0.20\n"
          ]
        }
      ]
    },
    {
      "cell_type": "code",
      "source": [
        "# q20 Write a Python program to train Logistic Regression and visualize the Precision-Recall Curve for binary classification\n",
        "from sklearn.linear_model import LogisticRegression\n",
        "from sklearn.model_selection import train_test_split\n",
        "from sklearn.metrics import precision_recall_curve\n",
        "import numpy as np\n",
        "import pandas as pd\n",
        "import matplotlib.pyplot as plt\n",
        "np.random.seed(42)\n",
        "x = np.random.rand(100, 2)\n",
        "y = np.random.randint(0, 2, 100)\n",
        "X_train, X_test, y_train, y_test = train_test_split(X, y, test_size=0.2, random_state=42)\n",
        "model = LogisticRegression()\n",
        "model.fit(X_train, y_train)\n",
        "y_pred_prob = model.predict_proba(X_test)\n",
        "precision, recall, thresholds = precision_recall_curve(y_test, y_pred_prob[:, 1])\n",
        "plt.figure(figsize=(8, 6))\n",
        "plt.plot(recall, precision, label='Precision-Recall Curve', color='blue')\n",
        "plt.xlabel('Recall')\n",
        "plt.ylabel('Precision')\n",
        "plt.title('Precision-Recall Curve')"
      ],
      "metadata": {
        "colab": {
          "base_uri": "https://localhost:8080/",
          "height": 581
        },
        "id": "UCMroWY1xsbD",
        "outputId": "a5b268bf-e7e7-4de9-f689-c161763a3f23"
      },
      "execution_count": null,
      "outputs": [
        {
          "output_type": "execute_result",
          "data": {
            "text/plain": [
              "Text(0.5, 1.0, 'Precision-Recall Curve')"
            ]
          },
          "metadata": {},
          "execution_count": 60
        },
        {
          "output_type": "display_data",
          "data": {
            "text/plain": [
              "<Figure size 800x600 with 1 Axes>"
            ],
            "image/png": "[encoded data removed]"
          },
          "metadata": {}
        }
      ]
    },
    {
      "cell_type": "code",
      "source": [
        "# q21 Write a Python program to train Logistic Regression with different solvers (liblinear, saga, lbfgs) and compare their accuracy.\n",
        "import numpy as np\n",
        "import pandas as pd\n",
        "from sklearn.model_selection import train_test_split\n",
        "from sklearn.linear_model import LogisticRegression\n",
        "from sklearn.metrics import accuracy_score\n",
        "np.random.seed(42)\n",
        "X = np.random.rand(100, 5)\n",
        "y = np.random.randint(0, 2, 100)\n",
        "X_train, X_test, y_train, y_test = train_test_split(X, y, test_size=0.2, random_state=42)\n",
        "solvers = ['liblinear', 'saga', 'lbfgs']\n",
        "solver_accuracies = {}\n",
        "for solver in solvers:\n",
        "    model = LogisticRegression(solver=solver, random_state=42, max_iter=1000)\n",
        "    model.fit(X_train, y_train)\n",
        "    y_pred = model.predict(X_test)\n",
        "    accuracy = accuracy_score(y_test, y_pred)\n",
        "    solver_accuracies[solver] = accuracy\n",
        "    print(f\"Solver: {solver}, Accuracy: {accuracy:.2f}\")\n",
        "print(\"\\nAccuracy Comparison:\")\n",
        "for solver, acc in sorted(solver_accuracies.items(), key=lambda x: x[1], reverse=True):\n",
        "    print(f\"{solver}: {acc:.2f}\")\n"
      ],
      "metadata": {
        "colab": {
          "base_uri": "https://localhost:8080/"
        },
        "id": "wWMV3Wt8ylTv",
        "outputId": "bd87cb55-cf75-44d3-db7d-f7aea8f62d65"
      },
      "execution_count": null,
      "outputs": [
        {
          "output_type": "stream",
          "name": "stdout",
          "text": [
            "Solver: liblinear, Accuracy: 0.50\n",
            "Solver: saga, Accuracy: 0.50\n",
            "Solver: lbfgs, Accuracy: 0.50\n",
            "\n",
            "Accuracy Comparison:\n",
            "liblinear: 0.50\n",
            "saga: 0.50\n",
            "lbfgs: 0.50\n"
          ]
        }
      ]
    },
    {
      "cell_type": "code",
      "source": [
        "# q22 Write a Python program to train Logistic Regression and evaluate its performance using Matthews Correlation Coefficient (MCC).\n",
        "import numpy as np\n",
        "import pandas as pd\n",
        "from sklearn.model_selection import train_test_split\n",
        "from sklearn.linear_model import LogisticRegression\n",
        "from sklearn.metrics import matthews_corrcoef\n",
        "np.random.seed(42)\n",
        "X = np.random.rand(100, 2)\n",
        "y = np.random.randint(0, 2, 100)\n",
        "X_train, X_test, y_train, y_test = train_test_split(X, y, test_size=0.2, random_state=42)\n",
        "model = LogisticRegression()\n",
        "model.fit(X_train, y_train)\n",
        "y_pred = model.predict(X_test)\n",
        "mcc = matthews_corrcoef(y_test, y_pred)\n",
        "print(f\"Matthews Correlation Coefficient (MCC): {mcc:.2f}\")"
      ],
      "metadata": {
        "colab": {
          "base_uri": "https://localhost:8080/"
        },
        "id": "p9lToxP6zRaH",
        "outputId": "23934c63-5ad4-46b5-a26c-d142884964df"
      },
      "execution_count": null,
      "outputs": [
        {
          "output_type": "stream",
          "name": "stdout",
          "text": [
            "Matthews Correlation Coefficient (MCC): 0.22\n"
          ]
        }
      ]
    },
    {
      "cell_type": "code",
      "source": [
        "# q23 Write a Python program to train Logistic Regression on both raw and standardized data. Compare their accuracy to see the impact of feature scaling.\n",
        "import numpy as np\n",
        "import pandas as pd\n",
        "from sklearn.model_selection import train_test_split\n",
        "from sklearn.linear_model import LogisticRegression\n",
        "from sklearn.metrics import accuracy_score\n",
        "from sklearn.preprocessing import StandardScaler\n",
        "np.random.seed(42)\n",
        "X = np.random.rand(100, 2)\n",
        "y = np.random.randint(0, 2, 100)\n",
        "X_train, X_test, y_train, y_test = train_test_split(X, y, test_size=0.2, random_state=42)\n",
        "model_raw = LogisticRegression(random_state=42)\n",
        "model_raw.fit(X_train, y_train)\n",
        "y_pred_raw = model_raw.predict(X_test)\n",
        "accuracy_raw = accuracy_score(y_test, y_pred_raw)\n",
        "scaler = StandardScaler()\n",
        "X_train_scaled = scaler.fit_transform(X_train)\n",
        "X_test_scaled = scaler.transform(X_test)\n",
        "model_standardized = LogisticRegression(random_state=42)\n",
        "model_standardized.fit(X_train_scaled, y_train)\n",
        "y_pred_standardized = model_standardized.predict(X_test_scaled)\n",
        "accuracy_standardized = accuracy_score(y_test, y_pred_standardized)\n",
        "print(f\"Accuracy with Raw Data: {accuracy_raw:.2f}\")\n",
        "print(f\"Accuracy with Standardized Data: {accuracy_standardized:.2f}\")"
      ],
      "metadata": {
        "colab": {
          "base_uri": "https://localhost:8080/"
        },
        "id": "rvRPyTGf0vH3",
        "outputId": "e3afef4a-b6cf-4f5b-f1fc-15cac443792e"
      },
      "execution_count": null,
      "outputs": [
        {
          "output_type": "stream",
          "name": "stdout",
          "text": [
            "Accuracy with Raw Data: 0.60\n",
            "Accuracy with Standardized Data: 0.60\n"
          ]
        }
      ]
    },
    {
      "cell_type": "code",
      "source": [
        "# q24 Write a Python program to train Logistic Regression and find the optimal C (regularization strength) using cross-validation.\n",
        "from sklearn.linear_model import LogisticRegression\n",
        "from sklearn.model_selection import GridSearchCV\n",
        "import numpy as np\n",
        "import pandas as pd\n",
        "np.random.seed(42)\n",
        "X = np.random.rand(100, 2)\n",
        "y = np.random.randint(0, 2, 100)\n",
        "param_grid = {'C': [0.001, 0.01, 0.1, 1, 10, 100]}\n",
        "model = LogisticRegression(random_state=42, solver='liblinear')\n",
        "grid_search = GridSearchCV(model, param_grid, cv=5)\n",
        "grid_search.fit(X, y)\n",
        "best_c = grid_search.best_params_\n",
        "print(f\"Optimal C (Regularization Strength): {best_c['C']}\")"
      ],
      "metadata": {
        "colab": {
          "base_uri": "https://localhost:8080/"
        },
        "id": "JknTk42qc2Kk",
        "outputId": "3207ac3c-fe6b-4c76-ba5e-2f5be59c1b9b"
      },
      "execution_count": 3,
      "outputs": [
        {
          "output_type": "stream",
          "name": "stdout",
          "text": [
            "Optimal C (Regularization Strength): 100\n"
          ]
        }
      ]
    },
    {
      "cell_type": "code",
      "source": [
        "# q25 Write a Python program to train Logistic Regression, save the trained model using joblib, and load it again to make predictions.\n",
        "import joblib\n",
        "from sklearn.linear_model import LogisticRegression\n",
        "from sklearn.datasets import load_iris\n",
        "from sklearn.model_selection import train_test_split\n",
        "from sklearn.preprocessing import StandardScaler\n",
        "X = load_iris().data\n",
        "y = load_iris().target\n",
        "X_train, X_test, y_train, y_test = train_test_split(X, y, test_size=0.2, random_state=42)\n",
        "model = LogisticRegression()\n",
        "model.fit(X_train, y_train)\n",
        "scaler = StandardScaler()\n",
        "X_train_scaled = scaler.fit_transform(X_train)\n",
        "X_test_scaled = scaler.transform(X_test)\n",
        "model.fit(X_train_scaled, y_train)\n",
        "joblib.dump(model, 'trained_model.joblib')\n",
        "loaded_model = joblib.load('trained_model.joblib')\n",
        "predictions = loaded_model.predict(X_test_scaled)\n",
        "print(predictions)"
      ],
      "metadata": {
        "colab": {
          "base_uri": "https://localhost:8080/"
        },
        "id": "cfjdKxDPd6li",
        "outputId": "802efdaa-d261-40bc-db5c-336ed3061f82"
      },
      "execution_count": 5,
      "outputs": [
        {
          "output_type": "stream",
          "name": "stdout",
          "text": [
            "[1 0 2 1 1 0 1 2 1 1 2 0 0 0 0 1 2 1 1 2 0 2 0 2 2 2 2 2 0 0]\n"
          ]
        }
      ]
    },
    {
      "cell_type": "markdown",
      "source": [
        "Q1) What is Logistic Regression, and how does it differ from Linear Regression.\n",
        "\n",
        "ans: Logistic regression is basically a supervised classification algorithm. In a classification problem, the target variable(or output), y, can take only discrete values for a given set of features(or inputs), X.\n",
        "\n",
        "differ between linear and logistic regression:\n",
        "\n",
        "1\n",
        "\n",
        "linear Predicts a continuous outcome.\n",
        "\n",
        "logistic Predicts a binary outcome.\n",
        "\n",
        "2\n",
        "\n",
        "linear Output is a real number (e.g., sales, temperature).\n",
        "\n",
        "logistic Output is a probability that leads to a category (e.g., yes/no, success/failure).\n",
        "\n",
        "3\n",
        "\n",
        "linear Assumes a linear relationship between variables.\n",
        "\n",
        "logistic Models the log-odds of the probability of the dependent variable.\n",
        "\n",
        "Q2)  What is the mathematical equation of Logistic Regression.\n",
        "\n",
        "ans: y(x) = e^(a0 + a1x1 + a2x2 + ... + aixi) / (1 + e^(a0 + a1x1 + a2x2 + ... + aixi))\n",
        "\n",
        "Q3) Why do we use the Sigmoid function in Logistic Regression.\n",
        "\n",
        "ans: The sigmoid function is a mathematical function used to map the predicted values to probabilities.\n",
        "It maps any real value into another value within a range of 0 and 1. The value of the logistic regression must be between 0 and 1, which cannot go beyond this limit, so it forms a curve like the “S” form.\n",
        "\n",
        "Q4) What is the cost function of Logistic Regression.\n",
        "\n",
        "ans: A cost function is a mathematical function that calculates the difference between the target actual values (ground truth) and the values predicted by the model.\n",
        "\n",
        "Q5)  What is Regularization in Logistic Regression? Why is it needed.\n",
        "\n",
        "ans: Regularization is a technique used in machine learning to prevent overfitting. Overfitting happens when a model learns the training data too well, including the noise and outliers, which causes it to perform poorly on new data.\n",
        "\n",
        "Q6) Explain the difference between Lasso, Ridge, and Elastic Net regression.\n",
        "\n",
        "ans:\n",
        "\n",
        "lasso regression: Lasso Regression adds the “absolute value of magnitude” of the coefficient as a penalty term to the loss function(L).\n",
        "\n",
        "ridge regression: Lasso Regression adds the “absolute value of magnitude” of the coefficient as a penalty term to the loss function(L).\n",
        "\n",
        "elastic net regression: That implies that we add the absolute norm of the weights as well as the squared measure of the weights.\n",
        "\n",
        "Q7) When should we use Elastic Net instead of Lasso or Ridge.\n",
        "\n",
        "ans: when it highely correlated then we can use elastic net instead of lasso or ridge.\n",
        "\n",
        "Q8)  What is the impact of the regularization parameter (λ) in Logistic Regression.\n",
        "\n",
        "ans: Through the parameter λ we can control the impact of the regularization term. Higher values lead to smaller coefficients, but too high values for λ can lead to underfitting.\n",
        "\n",
        "Q9) What are the key assumptions of Logistic Regression.\n",
        "\n",
        "ans: key assumption:\n",
        "\n",
        "    1. The Response Variable is Binary\n",
        "\n",
        "    2. The Observations are Independent\n",
        "\n",
        "    3. There is No Multicollinearity Among Explanatory Variables\n",
        "\n",
        "Q10) What are some alternatives to Logistic Regression for classification tasks.\n",
        "\n",
        "ans:\n",
        "1. Tree-Based Methods\n",
        "2. Neural Networks and Support Vector Machines\n",
        "3. K-Nearest Neighbor\n",
        "4. Traditional Statistical Methods\n",
        "\n",
        "Q11) What are Classification Evaluation Metrics.\n",
        "\n",
        "ans:\n",
        "\n",
        "1. Accuracy\n",
        "2. Confusion matrix\n",
        "3. Log-loss\n",
        "4. AUC-ROC\n",
        "5. Precision-recall\n",
        "\n",
        "Q12) How does class imbalance affect Logistic Regression.\n",
        "\n",
        "ans: For logistic regression models unbalanced training data affects only the estimate of the model intercept (although this of course skews all the predicted probabilities, which in turn compromises your predictions).\n",
        "\n",
        "Q13) What is Hyperparameter Tuning in Logistic Regression.\n",
        "\n",
        "ans: When it comes to hyperparameter tuning for logistic regression, several methods can be employed:\n",
        "\n",
        "* Grid Search: This method involves specifying a set of hyperparameters and exhaustively searching through all possible combinations. While it guarantees finding the best model, it can be computationally expensive.\n",
        "* Random Search: Instead of evaluating all combinations, random search samples a fixed number of hyperparameter settings from specified distributions. This method can be more efficient than grid search, especially in high-dimensional spaces.\n",
        "* Bayesian Optimization: This advanced technique builds a probabilistic model of the function mapping hyperparameters to a score and uses it to select the most promising hyperparameters to evaluate next.\n",
        "\n",
        "Q14) What are different solvers in Logistic Regression? Which one should be used.\n",
        "\n",
        "ans:\n",
        "* lbfgs: A good default choice, suitable for small to medium-sized datasets.\n",
        "* liblinear: Best suited for small datasets.\n",
        "* newton-cg: Works well for both small and large datasets, particularly for multiclass classification problems.\n",
        "* sag and saga: Faster for large datasets.\n",
        "* newton-cholesky: Good for datasets with more samples than features, especially with one-hot encoded categorical features.\n",
        "\n",
        "Q15) How is Logistic Regression extended for multiclass classification.\n",
        "\n",
        "ans: Logistic regression can be extended to multiclass classification using variants like multinomial logistic regression or softmax regression.\n",
        "\n",
        "Q16) What are the advantages and disadvantages of Logistic Regression.\n",
        "\n",
        "ans:\n",
        "\n",
        "advantage: Logistic regression is easier to implement, interpret, and very efficient to train.\n",
        "\n",
        "disadvantage: If the number of observations is lesser than the number of features, Logistic Regression should not be used, otherwise, it may lead to overfitting.\n",
        "\n",
        "\n",
        "advantage: It makes no assumptions about distributions of classes in feature space.\n",
        "\n",
        "disadvantage: It constructs linear boundaries.\n",
        "\n",
        "Q17) What are some use cases of Logistic Regression.\n",
        "\n",
        "ans: Logistic regression is a supervised machine learning algorithm used for classification tasks where the goal is to predict the probability that an instance belongs to a given class or not. It is particularly useful for binary classification problems, where the output is a categorical variable with two possible outcomes, such as yes/no, true/false, or 0/1.\n",
        "\n",
        "Q18) What is the difference between Softmax Regression and Logistic Regression.\n",
        "\n",
        "ans:\n",
        "1. Softmax Regression is a generalization of Logistic Regression that summarizes a 'k' dimensional vector of arbitrary values to a 'k' dimensional vector of values bounded in the range (0, 1).\n",
        "2. In Logistic Regression we assume that the labels are binary (0 or 1). However, Softmax Regression allows one to handle  classes.\n",
        "3. Hypothesis function:\n",
        "  * LR: ![image.png](data:image/png;base64,iVBORw0KGgoAAAANSUhEUgAAAK0AAAAmCAYAAAC22BtYAAAFI0lEQVR4Ae2ai5HUMBBEFQIxEAIxEAIxEAI5EAIxEAIxEAIxEALUu9rmuuZkWx+fl9WNqlyS7NFoPq3WLEcp2VaMwIdSyvcVHUuf1ovAx1LKt9vzez330qOVI/CplJKgXTnDC/qWoF0wqau7lKBdPcML+pegXTCpq7uUoF09wwv6l6BdMKmru5SgHcgw/17IP3C3ts+tginXFIEEbVOYnoXel1K+Pk+bRiNrmhS/UaEEbWfiR/98+KWTnTvNehPi3G4Qxq9Syp/bn3KJ67KNKxpnR0FHYCgLellWAX1XSvmhSfYZgdYIANiZ+pK/e3PVj7YE7Wjk3vA6rpQZ0MHUMw2Wph7LlhFoigD10Mx/sgDsP5t22hYCsLB1toxAUwQo2CkPAI7A08N6gH7reqfkQBf6kWMOq8YfCdTEMzV1k6MptE4EYEkHHQCqMSc/mAAdDzJqAqXm6pFTA6jSCaNG0AJofdeaWg+wsfXoSdauRW+hd7GeFfNGF50JHeRboPUaGfkIVNffClpfMzvG73weKwZPOYcx448oGM9ZEkEAp5IBMHoNvFceCFiAA7mtluXBVmTy/YsIcG37VQogARjNmRJgA1zAjLxf5cj5/Lb8XwdYHeSUGTzeOBBuh3/zcZYHHo3jMWSwRxbHGq6XiIT5wgLAKAblIwt09es6B2DOxgAHsHvz77wnWAJyBHnNKPS5Ha47x2MRgExinsY0Xbvq0O4INhYAMgAkNuSkej0LE+ub3GGNn2hd9wCU9wSPMU9ciw4dFOm7uo8+Xr3/a+znOXsN/dJJ7sgvJMcYTJFn5oxr+dbarZ61jqctuc33bKoAyJgoDEhHTzX67wVa7ObA8XgJE/3bm/+PN8RMPmq+kiMRj25g5CA59584+ncf1/RuvTsFExiMcXtGYPBIQ/fUqRrZNKzBt1HQ6kAHlXedkgsAdVaDVKQPf5Uv9doHZvV3PpZMa38Jkek0thqFHIEYZeiefY5kVwNtLPuO/N/7HtmTOTdubORfP+Ljt5G5iHJkbdcarqWe07XH3F0bTwqvBFqIQD+CJ8PyRCrxNwy6a3kjhmeyI/pGb+9Zvx9i/ZWghZFIOmzFvpG19F7XMHNYR0DRHIJgvZLLnAZpnAUeQBPLH0DMnrFFRo7fNT/yT3L4E/fWt+xvSbiipoUFHVAA2NmEhKoBVDGmAAEgBVbsZT0NvbIfQJ2VbHRiL7bwYAegZb/YYj0bvzM/8s/X4Kv89/c5vkWARCvpe0EBDCTRHyXW3zkQXR9JIPnsJ8bx7w4G9IldJaPv6EePGgnWNb4FWvbD/qNHe6hGRbca9sR6mf2whf3pXV7r1Es385p/kqNP0Ho0KuNW0FaWNrOaQCB2rOnyd4BgCwAAR+UAawCkDh1rAMRsQw82eOPQOVv6t97xnn/oyvLgIKJXgBaWiSDArBqIAYxAKBnJCfzuEiAV87LPGdcqNjirxrnv3zve80+6yMnWjSWZN91fAVoCDBD9igSAKgFgFoGNZGnMOme3aKuvUxIdbHo30vvB4WC47b363M49/6SXQ4iv2UIEOPEEhyTDgtR7AlEQ3ZyyprWxHwkjGXq0VtchAJVdjHnEssiyHzr0TQwrPfR8R8dsYw/iwR6z+lr9k81nlDjSlX2IQA9ow9KhKex3BCAAUgPz0IZ3WMQhTdC+YuBnrsxes9irVhfX9MC2j9rOYPZH9X0pu2FX6lyYtqWEga0ekW05mI9o91Jgu6czlAlHpcQ97avtvXkg/wKQWovoZ7YTdwAAAABJRU5ErkJggg==)\n",
        "  * Softmax Regression: ![image.png](data:image/png;base64,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)\n",
        "\n",
        "  Q19)  How do we choose between One-vs-Rest (OvR) and Softmax for multiclass classification.\n",
        "\n",
        "  ans:\n",
        "  * Use OvR when:\n",
        "\n",
        "* You are using traditional machine learning models like logistic regression or SVMs.\n",
        "\n",
        "* Your dataset is highly imbalanced or you want to handle class imbalance explicitly.\n",
        "\n",
        "* Interpretability and flexibility of individual binary classifiers are important.\n",
        "\n",
        " * Use Softmax when:\n",
        "\n",
        "* You are working with neural networks, especially deep learning models.\n",
        "\n",
        "* Your classes are mutually exclusive (e.g., one instance belongs to exactly one class).\n",
        "\n",
        "* Computational efficiency with a unified approach is a priority.\n",
        "\n",
        "Q20) How do we interpret coefficients in Logistic Regression?\n",
        "\n",
        "ans: When we fit a logistic regression model, the coefficients in the model output represent the average change in the log odds of the response variable associated with a one unit increase in the predictor variable.\n",
        "\n",
        "β = Average Change in Log Odds of Response Variable\n"
      ],
      "metadata": {
        "id": "uSjogUo3d9TA"
      }
    }
  ]
}