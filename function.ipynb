{
  "nbformat": 4,
  "nbformat_minor": 0,
  "metadata": {
    "colab": {
      "provenance": [],
      "authorship_tag": "ABX9TyOdXUtgE/qK/6rGqQNFn4rh",
      "include_colab_link": true
    },
    "kernelspec": {
      "name": "python3",
      "display_name": "Python 3"
    },
    "language_info": {
      "name": "python"
    }
  },
  "cells": [
    {
      "cell_type": "markdown",
      "metadata": {
        "id": "view-in-github",
        "colab_type": "text"
      },
      "source": [
        "<a href=\"https://colab.research.google.com/github/rushikesh648/pw-skills-assignment/blob/main/function.ipynb\" target=\"_parent\"><img src=\"https://colab.research.google.com/assets/colab-badge.svg\" alt=\"Open In Colab\"/></a>"
      ]
    },
    {
      "cell_type": "code",
      "execution_count": null,
      "metadata": {
        "id": "8aVjKGg08GA7"
      },
      "outputs": [],
      "source": [
        "# q1.Write a Python function that takes a list of numbers as input and returns the sum of all even numbers in the list.\n",
        "a = [0,1,2,3,4,5,6,7,8,9]"
      ]
    },
    {
      "cell_type": "code",
      "source": [
        "res = [num for num in a if num % 2 == 0]\n",
        "print(res)"
      ],
      "metadata": {
        "colab": {
          "base_uri": "https://localhost:8080/"
        },
        "id": "5X8XmZ9DCk0O",
        "outputId": "9fe700c3-8b75-4cd5-9d9e-da21c888c557"
      },
      "execution_count": null,
      "outputs": [
        {
          "output_type": "stream",
          "name": "stdout",
          "text": [
            "[0, 2, 4, 6, 8]\n"
          ]
        }
      ]
    },
    {
      "cell_type": "code",
      "source": [
        "# q2.Create a Python function that accepts a string and returns the reverse of that string.\n",
        "a = \"rushikesh\"\n",
        "b = a [::-1]\n",
        "print(b)"
      ],
      "metadata": {
        "colab": {
          "base_uri": "https://localhost:8080/"
        },
        "id": "x2s5zCS5DQlh",
        "outputId": "19348b50-3853-401c-cefd-26232fbdf4be"
      },
      "execution_count": null,
      "outputs": [
        {
          "output_type": "stream",
          "name": "stdout",
          "text": [
            "hsekihsur\n"
          ]
        }
      ]
    },
    {
      "cell_type": "code",
      "source": [
        "a = [2,4,6,8]"
      ],
      "metadata": {
        "id": "TF8B7WoUGUuT"
      },
      "execution_count": null,
      "outputs": []
    },
    {
      "cell_type": "code",
      "source": [
        "# q3.Implement a Python function that takes a list of integers and returns a new list containing the squares of each number.\n",
        "def square_num(n):\n",
        "  result = []\n",
        "  for i in n:\n",
        "      result.append(i ** 2)\n",
        "  return result\n",
        "square_num([5,10,15,20])"
      ],
      "metadata": {
        "id": "Seuipx3tEI9B",
        "colab": {
          "base_uri": "https://localhost:8080/"
        },
        "outputId": "8abb1c9b-ac97-445e-8d55-0d10c74984f9"
      },
      "execution_count": null,
      "outputs": [
        {
          "output_type": "execute_result",
          "data": {
            "text/plain": [
              "[25, 100, 225, 400]"
            ]
          },
          "metadata": {},
          "execution_count": 34
        }
      ]
    },
    {
      "cell_type": "code",
      "source": [
        "# q4.Write a Python function that checks if a given number is prime or not from 1 to 200\n",
        "def checkprime(num):\n",
        "    if num < 2:\n",
        "         return 0\n",
        "    else:\n",
        "         x = num // 2\n",
        "         for j in range(2, x + 1):\n",
        "            if num % j == 0:\n",
        "                return 0\n",
        "    return 1\n",
        "a, b = 1, 200\n",
        "for i in range(a, b+1):\n",
        "     if checkprime(i):\n",
        "         print(i, end=\" \")"
      ],
      "metadata": {
        "id": "tpwed7BiJrgh",
        "colab": {
          "base_uri": "https://localhost:8080/"
        },
        "outputId": "cc79e66f-1674-4a95-e1de-b3159447617d"
      },
      "execution_count": null,
      "outputs": [
        {
          "output_type": "stream",
          "name": "stdout",
          "text": [
            "2 3 5 7 11 13 17 19 23 29 31 37 41 43 47 53 59 61 67 71 73 79 83 89 97 101 103 107 109 113 127 131 137 139 149 151 157 163 167 173 179 181 191 193 197 199 "
          ]
        }
      ]
    },
    {
      "cell_type": "code",
      "source": [
        "# q5.Create an iterator class in Python that generates the Fibonacci sequence up to a specified number of terms.\n",
        "def fib(n):\n",
        "    a = 0\n",
        "    b = 1\n",
        "    for i in range(n): #if n=5,1,2,3,4,6,7..\n",
        "       yield a\n",
        "       a, b = b, a+b"
      ],
      "metadata": {
        "id": "MEWfUo-5sk1d"
      },
      "execution_count": null,
      "outputs": []
    },
    {
      "cell_type": "code",
      "source": [
        "f = fib(1000)"
      ],
      "metadata": {
        "id": "71b3BzLYEWRo"
      },
      "execution_count": null,
      "outputs": []
    },
    {
      "cell_type": "code",
      "source": [
        "f"
      ],
      "metadata": {
        "colab": {
          "base_uri": "https://localhost:8080/"
        },
        "id": "c-odDjBJEgKH",
        "outputId": "16f213e8-37cf-4a14-9df5-08f1508f82af"
      },
      "execution_count": null,
      "outputs": [
        {
          "output_type": "execute_result",
          "data": {
            "text/plain": [
              "<generator object fib at 0x7b398e245f50>"
            ]
          },
          "metadata": {},
          "execution_count": 168
        }
      ]
    },
    {
      "cell_type": "code",
      "source": [
        "next(f)"
      ],
      "metadata": {
        "colab": {
          "base_uri": "https://localhost:8080/"
        },
        "id": "FgWpALRIGoaw",
        "outputId": "4dabfefa-50ae-4ba8-b646-9ed058e32afc"
      },
      "execution_count": null,
      "outputs": [
        {
          "output_type": "execute_result",
          "data": {
            "text/plain": [
              "0"
            ]
          },
          "metadata": {},
          "execution_count": 169
        }
      ]
    },
    {
      "cell_type": "code",
      "source": [
        "# q6.Write a generator function in Python that yields the powers of 2 up to a given exponent.\n",
        "def find_power(num, power):\n",
        "    return num*power"
      ],
      "metadata": {
        "id": "IFB3zQeMJLYO"
      },
      "execution_count": null,
      "outputs": []
    },
    {
      "cell_type": "code",
      "source": [
        "find_power(2, 40)"
      ],
      "metadata": {
        "colab": {
          "base_uri": "https://localhost:8080/"
        },
        "id": "AXHAKtBKLE-e",
        "outputId": "23d472e5-44b1-4e75-e8be-044eebc21dcd"
      },
      "execution_count": null,
      "outputs": [
        {
          "output_type": "execute_result",
          "data": {
            "text/plain": [
              "80"
            ]
          },
          "metadata": {},
          "execution_count": 172
        }
      ]
    },
    {
      "cell_type": "code",
      "source": [
        "# q7.Implement a generator function that reads a file line by line and yields each line as a string.\n",
        "s = \"rushikesh\""
      ],
      "metadata": {
        "id": "XrqFabGeLKlB"
      },
      "execution_count": null,
      "outputs": []
    },
    {
      "cell_type": "code",
      "source": [
        "for i in s:\n",
        "   print(i)"
      ],
      "metadata": {
        "colab": {
          "base_uri": "https://localhost:8080/"
        },
        "id": "oJtqhcg9OJJE",
        "outputId": "1683700a-4e36-4e46-d304-d4832261a937"
      },
      "execution_count": null,
      "outputs": [
        {
          "output_type": "stream",
          "name": "stdout",
          "text": [
            "r\n",
            "u\n",
            "s\n",
            "h\n",
            "i\n",
            "k\n",
            "e\n",
            "s\n",
            "h\n"
          ]
        }
      ]
    },
    {
      "cell_type": "code",
      "source": [
        "iter(s)"
      ],
      "metadata": {
        "colab": {
          "base_uri": "https://localhost:8080/"
        },
        "id": "kjeEklHIOVs8",
        "outputId": "aa394028-43d5-4e9a-d3c8-693187e60c2c"
      },
      "execution_count": null,
      "outputs": [
        {
          "output_type": "execute_result",
          "data": {
            "text/plain": [
              "<str_iterator at 0x78372c36ece0>"
            ]
          },
          "metadata": {},
          "execution_count": 5
        }
      ]
    },
    {
      "cell_type": "code",
      "source": [
        "a = iter(s)\n",
        "a"
      ],
      "metadata": {
        "colab": {
          "base_uri": "https://localhost:8080/"
        },
        "id": "ycH_9QkAOfTk",
        "outputId": "7ce37ffc-3c8c-4448-8ddf-87af38ccea62"
      },
      "execution_count": null,
      "outputs": [
        {
          "output_type": "execute_result",
          "data": {
            "text/plain": [
              "<str_iterator at 0x78372c36f700>"
            ]
          },
          "metadata": {},
          "execution_count": 6
        }
      ]
    },
    {
      "cell_type": "code",
      "source": [
        "next(a)"
      ],
      "metadata": {
        "colab": {
          "base_uri": "https://localhost:8080/",
          "height": 35
        },
        "id": "XPJdE06LOr-1",
        "outputId": "c17592bd-95d8-49c4-a1c3-30d099ad31fa"
      },
      "execution_count": null,
      "outputs": [
        {
          "output_type": "execute_result",
          "data": {
            "text/plain": [
              "'r'"
            ],
            "application/vnd.google.colaboratory.intrinsic+json": {
              "type": "string"
            }
          },
          "metadata": {},
          "execution_count": 7
        }
      ]
    },
    {
      "cell_type": "code",
      "source": [
        "next(a)"
      ],
      "metadata": {
        "colab": {
          "base_uri": "https://localhost:8080/",
          "height": 35
        },
        "id": "BL36k2rBOuk5",
        "outputId": "33eb479c-2f68-422b-9232-7198cef2d64b"
      },
      "execution_count": null,
      "outputs": [
        {
          "output_type": "execute_result",
          "data": {
            "text/plain": [
              "'u'"
            ],
            "application/vnd.google.colaboratory.intrinsic+json": {
              "type": "string"
            }
          },
          "metadata": {},
          "execution_count": 8
        }
      ]
    },
    {
      "cell_type": "code",
      "source": [
        "next(a)"
      ],
      "metadata": {
        "colab": {
          "base_uri": "https://localhost:8080/",
          "height": 35
        },
        "id": "NuUXbbcXOxWq",
        "outputId": "756932b3-bbca-42a4-ba3b-c4d3e3b2d0d1"
      },
      "execution_count": null,
      "outputs": [
        {
          "output_type": "execute_result",
          "data": {
            "text/plain": [
              "'s'"
            ],
            "application/vnd.google.colaboratory.intrinsic+json": {
              "type": "string"
            }
          },
          "metadata": {},
          "execution_count": 9
        }
      ]
    },
    {
      "cell_type": "code",
      "source": [
        "next(a)"
      ],
      "metadata": {
        "colab": {
          "base_uri": "https://localhost:8080/",
          "height": 35
        },
        "id": "y0vvtLBtOz2I",
        "outputId": "2f7e2468-794a-48af-9655-4ecd8266fe55"
      },
      "execution_count": null,
      "outputs": [
        {
          "output_type": "execute_result",
          "data": {
            "text/plain": [
              "'h'"
            ],
            "application/vnd.google.colaboratory.intrinsic+json": {
              "type": "string"
            }
          },
          "metadata": {},
          "execution_count": 10
        }
      ]
    },
    {
      "cell_type": "code",
      "source": [
        "next(a)"
      ],
      "metadata": {
        "colab": {
          "base_uri": "https://localhost:8080/",
          "height": 35
        },
        "id": "_ERuIpe-O2Z4",
        "outputId": "0ec4ef98-dd79-42ae-9af8-6a862e030d23"
      },
      "execution_count": null,
      "outputs": [
        {
          "output_type": "execute_result",
          "data": {
            "text/plain": [
              "'i'"
            ],
            "application/vnd.google.colaboratory.intrinsic+json": {
              "type": "string"
            }
          },
          "metadata": {},
          "execution_count": 11
        }
      ]
    },
    {
      "cell_type": "code",
      "source": [
        "next(a)"
      ],
      "metadata": {
        "colab": {
          "base_uri": "https://localhost:8080/",
          "height": 35
        },
        "id": "MPo0viqqO5JN",
        "outputId": "45e973fd-3b6d-4730-b82d-4c904c4b2cf8"
      },
      "execution_count": null,
      "outputs": [
        {
          "output_type": "execute_result",
          "data": {
            "text/plain": [
              "'k'"
            ],
            "application/vnd.google.colaboratory.intrinsic+json": {
              "type": "string"
            }
          },
          "metadata": {},
          "execution_count": 12
        }
      ]
    },
    {
      "cell_type": "code",
      "source": [
        "next(a)"
      ],
      "metadata": {
        "id": "-8CfOcNRO7eO",
        "outputId": "00d7a176-2591-46b3-ce11-2cbf47d1fe59",
        "colab": {
          "base_uri": "https://localhost:8080/",
          "height": 35
        }
      },
      "execution_count": null,
      "outputs": [
        {
          "output_type": "execute_result",
          "data": {
            "text/plain": [
              "'e'"
            ],
            "application/vnd.google.colaboratory.intrinsic+json": {
              "type": "string"
            }
          },
          "metadata": {},
          "execution_count": 13
        }
      ]
    },
    {
      "cell_type": "code",
      "source": [
        "next(a)"
      ],
      "metadata": {
        "id": "0UvJHcpIO-aB",
        "outputId": "0f50761f-f4f6-485d-ab32-7ca3ed0d0528",
        "colab": {
          "base_uri": "https://localhost:8080/",
          "height": 35
        }
      },
      "execution_count": null,
      "outputs": [
        {
          "output_type": "execute_result",
          "data": {
            "text/plain": [
              "'s'"
            ],
            "application/vnd.google.colaboratory.intrinsic+json": {
              "type": "string"
            }
          },
          "metadata": {},
          "execution_count": 14
        }
      ]
    },
    {
      "cell_type": "code",
      "source": [
        "next(a)"
      ],
      "metadata": {
        "id": "oKPrbXDePA35",
        "colab": {
          "base_uri": "https://localhost:8080/",
          "height": 35
        },
        "outputId": "61f298e9-3cd1-42c8-cddc-564851c2ab30"
      },
      "execution_count": null,
      "outputs": [
        {
          "output_type": "execute_result",
          "data": {
            "text/plain": [
              "'h'"
            ],
            "application/vnd.google.colaboratory.intrinsic+json": {
              "type": "string"
            }
          },
          "metadata": {},
          "execution_count": 15
        }
      ]
    },
    {
      "cell_type": "code",
      "source": [
        "# q8.Use a lambda function in Python to sort a list of tuples based on the second element of each tuple.\n",
        "x = [\"python\", \"data science\", \"data analysis\"]\n",
        "sorted(x)"
      ],
      "metadata": {
        "id": "V8yeF9KOQIb5",
        "outputId": "600503fe-3bb2-4dd0-eabe-5d3304a21119",
        "colab": {
          "base_uri": "https://localhost:8080/"
        }
      },
      "execution_count": null,
      "outputs": [
        {
          "output_type": "execute_result",
          "data": {
            "text/plain": [
              "['data analysis', 'data science', 'python']"
            ]
          },
          "metadata": {},
          "execution_count": 4
        }
      ]
    },
    {
      "cell_type": "code",
      "source": [
        "le = lambda x: len(x)\n",
        "le(\"data analysis\")"
      ],
      "metadata": {
        "colab": {
          "base_uri": "https://localhost:8080/"
        },
        "id": "zNfRapn3XKXl",
        "outputId": "989e2c07-f960-46d5-e4db-74dc1fdb42bb"
      },
      "execution_count": null,
      "outputs": [
        {
          "output_type": "execute_result",
          "data": {
            "text/plain": [
              "13"
            ]
          },
          "metadata": {},
          "execution_count": 10
        }
      ]
    },
    {
      "cell_type": "code",
      "source": [
        "le(\"python\")"
      ],
      "metadata": {
        "colab": {
          "base_uri": "https://localhost:8080/"
        },
        "id": "PxJce7N_YNxc",
        "outputId": "56a2a53b-4a7d-4f34-a83b-6c3aaf041ed0"
      },
      "execution_count": null,
      "outputs": [
        {
          "output_type": "execute_result",
          "data": {
            "text/plain": [
              "6"
            ]
          },
          "metadata": {},
          "execution_count": 11
        }
      ]
    },
    {
      "cell_type": "code",
      "source": [
        "le(\"data science\")"
      ],
      "metadata": {
        "colab": {
          "base_uri": "https://localhost:8080/"
        },
        "id": "ekuwsdl9YR-c",
        "outputId": "7f273d9b-89fc-40f4-c4eb-f74d6c695e3f"
      },
      "execution_count": null,
      "outputs": [
        {
          "output_type": "execute_result",
          "data": {
            "text/plain": [
              "12"
            ]
          },
          "metadata": {},
          "execution_count": 12
        }
      ]
    },
    {
      "cell_type": "code",
      "source": [
        "sorted(x, key = lambda x: len(x))"
      ],
      "metadata": {
        "colab": {
          "base_uri": "https://localhost:8080/"
        },
        "id": "OrH_O29mXc_m",
        "outputId": "61368034-8921-4aaa-99e9-fa6a2a89ae89"
      },
      "execution_count": null,
      "outputs": [
        {
          "output_type": "execute_result",
          "data": {
            "text/plain": [
              "['python', 'data science', 'data analysis']"
            ]
          },
          "metadata": {},
          "execution_count": 8
        }
      ]
    },
    {
      "cell_type": "code",
      "source": [
        "# q9.Write a Python program that uses `map()` to convert a list of temperatures from Celsius to Fahrenheit.\n",
        "place = [('America',89.6), ('newyork',78), ('Newziland',45)]"
      ],
      "metadata": {
        "id": "A1_4sWYwcqTB"
      },
      "execution_count": null,
      "outputs": []
    },
    {
      "cell_type": "code",
      "source": [
        "place = list(map(lambda c: (c[0], 9/5 * c[1]+ 32), place))\n",
        "print(place)"
      ],
      "metadata": {
        "id": "6Mp5PkfYTyhd",
        "colab": {
          "base_uri": "https://localhost:8080/"
        },
        "outputId": "32e35da0-d203-4c52-d417-0fe677886048"
      },
      "execution_count": null,
      "outputs": [
        {
          "output_type": "stream",
          "name": "stdout",
          "text": [
            "[('America', 193.28), ('newyork', 172.4), ('Newziland', 113.0)]\n"
          ]
        }
      ]
    },
    {
      "cell_type": "code",
      "source": [
        "# q10.Create a Python program that uses `filter()` to remove all the vowels from a given string.\n",
        "letters = ['a','b','d','e','f','g','i','o','u']\n",
        "def filter_vowels(letter):\n",
        " vowels = ['a','e','i','o','u']\n",
        " if(letter in vowels):\n",
        "  return 0\n",
        " else:\n",
        "  return 1\n",
        "filtered_vowels = filter(filter_vowels, letters)\n",
        "print('the filter string are:')\n",
        "for vowel in filtered_vowels:\n",
        "  print(vowel)"
      ],
      "metadata": {
        "id": "7TMFWgS5eU99",
        "colab": {
          "base_uri": "https://localhost:8080/"
        },
        "outputId": "a658dfe7-6297-489c-c906-c2ffafa26378"
      },
      "execution_count": null,
      "outputs": [
        {
          "output_type": "stream",
          "name": "stdout",
          "text": [
            "the filter string are:\n",
            "b\n",
            "d\n",
            "f\n",
            "g\n"
          ]
        }
      ]
    },
    {
      "cell_type": "code",
      "source": [
        "# q11.Imagine an accounting routine used in a book shop.it works on a list with sublists,which look like this\n",
        "#    order number   Book title and author          Quantity    Price per item\n",
        "#      34587        Learning python, mark lutz        4         40.95\n",
        "#      98762        Programming python,mark lutz      5         56.80\n",
        "#      77226        Head first python,paul barry      3         32.95\n",
        "#      88112        Einfuhrung in python3,bernd klein 3         24.99\n",
        "# write a python program,which returns a list with 2-tuples.each tuples consists of the order number and the product of the price per item and the quantity.the product should be increased by 10,-€ if the value of the order is smaller than 100,00 €.\n",
        "# write a python program using lambda and map.\n",
        "from functools import reduce\n",
        "orders = [[\"34587\",\"Learning python,mark lutz\", 4, 40.95],[\"98762\", \"programming python,mark lutz\", 5, 56.80],[\"77226\",\"Head first python,paul barry\", 3,32.95],[\"88112\",\"Einfünrung in python3,bernd klein\", 3, 24.99]]\n",
        "invoice_totals = list(map(lambda x: x if x[1] >= 10 else (x[0], x[1] + 10),map(lambda x:(x[0],x[2] * x[3]), orders)))"
      ],
      "metadata": {
        "id": "kuptDdcT5kn7"
      },
      "execution_count": null,
      "outputs": []
    },
    {
      "cell_type": "code",
      "source": [
        "invoice_totals"
      ],
      "metadata": {
        "colab": {
          "base_uri": "https://localhost:8080/"
        },
        "id": "5xTdhGdKYl4K",
        "outputId": "7a5e02d9-117c-466c-e5c5-7e95cde06f6e"
      },
      "execution_count": null,
      "outputs": [
        {
          "output_type": "execute_result",
          "data": {
            "text/plain": [
              "[('34587', 163.8),\n",
              " ('98762', 284.0),\n",
              " ('77226', 98.85000000000001),\n",
              " ('88112', 74.97)]"
            ]
          },
          "metadata": {},
          "execution_count": 6
        }
      ]
    },
    {
      "cell_type": "markdown",
      "source": [
        "Q1What is the difference between a function and a method in Python?\n",
        "\n",
        "ans: In Python, methods and functions have similar purposes but differ in important ways. Functions are independent blocks of code that can be called from anywhere, while methods are tied to objects or classes and need an object or class instance to be invoked."
      ],
      "metadata": {
        "id": "W5SXh6stY4E7"
      }
    },
    {
      "cell_type": "markdown",
      "source": [
        "Q.2 Explain the concept of function arguments and parameters in Python.\n",
        "ans:Parameters:\n",
        "These are variables listed in parentheses in the function definition. They define the function's signature and the number and type of inputs it can accept. Parameters are local to the function where they are defined and do not change, but the values they hold can change.\n",
        "Arguments:\n",
        "These are the values that are passed to the function when it's called. Arguments can be any scope, meaning they can be variables that exist outside the function or literals. Arguments can be mutable or immutable depending on their data type."
      ],
      "metadata": {
        "id": "LOaroJ8F_r7I"
      }
    },
    {
      "cell_type": "markdown",
      "source": [
        "Q.3 What are the different ways to define and call a function in Python?\n",
        "\n",
        "Ans:Directly Function Call.\n",
        "Use partial() Function.\n",
        "Use eval()\n",
        "Use getattr()\n",
        "Use dict()\n",
        "Use global()\n",
        "Use attrgetter()"
      ],
      "metadata": {
        "id": "KaHW2xk4CoVJ"
      }
    },
    {
      "cell_type": "markdown",
      "source": [
        "Q.4 What is the purpose of the `return` statement in a Python function?\n",
        "\n",
        "Ans:The python return statement is used to return the output from a function."
      ],
      "metadata": {
        "id": "nwTgcIxuc7Gf"
      }
    },
    {
      "cell_type": "markdown",
      "source": [
        "Q.5 What are iterators in Python and how do they differ from iterables?\n",
        "\n",
        "Ans:An Iterable is basically an object that any user can iterate over. An Iterator is also an object that helps a user in iterating over another object (that is iterable)."
      ],
      "metadata": {
        "id": "kKnItq4Kd8Xu"
      }
    },
    {
      "cell_type": "markdown",
      "source": [
        "Q.6 Explain the concept of generators in Python and how they are defined.\n",
        "\n",
        "Ans:A Generator in Python is a function that returns an iterator using the Yield keyword."
      ],
      "metadata": {
        "id": "z4sUe3xGetsM"
      }
    },
    {
      "cell_type": "markdown",
      "source": [
        "Q.7 What are the advantages of using generators over regular functions?\n",
        "\n",
        "Ans:Generators compute values only when needed, which enhances performance for larger datasets."
      ],
      "metadata": {
        "id": "HLPpbfFdfJmk"
      }
    },
    {
      "cell_type": "markdown",
      "source": [
        "Q.8 What is a lambda function in Python and when is it typically used?\n",
        "\n",
        "Ans:In Python, a lambda function is a concise, anonymous function that is typically used for short, one-time tasks."
      ],
      "metadata": {
        "id": "ejgtuOZHgrMm"
      }
    },
    {
      "cell_type": "markdown",
      "source": [
        "Q.9 Explain the purpose and usage of the `map()` function in Python.\n",
        "\n",
        "Ans:The Python map() function applies a function to every item in an iterable, such as a list or tuple, and returns a new iterator that contains the results:\n",
        "\n",
        "Purpose\n",
        "The map() function is used to apply a single transformation function to all the elements of an iterable."
      ],
      "metadata": {
        "id": "vTZ6XDdTg-he"
      }
    },
    {
      "cell_type": "markdown",
      "source": [
        "Q.10 What is the difference between `map()`, `reduce()`, and `filter()` functions in Python?\n",
        "\n",
        "Ans:'Map' applies a given function to each item of an iterable (like a list or set) and returns a list of the results. 'Filter' constructs a list from elements of an iterable for which a function returns true. 'Reduce' applies a rolling computation to sequential pairs of values in a list and returns a single result."
      ],
      "metadata": {
        "id": "yPZKvgPwh3TO"
      }
    },
    {
      "cell_type": "markdown",
      "source": [
        "Q.11 Using pen & Paper write the internal mechanism for sum operation using  reduce function on this given\n",
        "list:[47,11,42,13];"
      ],
      "metadata": {
        "id": "s8AN5RWniMXg"
      }
    },
    {
      "cell_type": "markdown",
      "source": [
        "https://drive.google.com/file/d/1tqVYDMMvCX0MPku-0zZR6CsQt5rEv1Cm/view?usp=drivesdk"
      ],
      "metadata": {
        "id": "HDgC6qMkyehO"
      }
    }
  ]
}