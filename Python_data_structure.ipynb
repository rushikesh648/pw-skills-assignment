{
  "nbformat": 4,
  "nbformat_minor": 0,
  "metadata": {
    "colab": {
      "provenance": [],
      "authorship_tag": "ABX9TyN3M5jikNzKGpcn2ht3Y4qR",
      "include_colab_link": true
    },
    "kernelspec": {
      "name": "python3",
      "display_name": "Python 3"
    },
    "language_info": {
      "name": "python"
    }
  },
  "cells": [
    {
      "cell_type": "markdown",
      "metadata": {
        "id": "view-in-github",
        "colab_type": "text"
      },
      "source": [
        "<a href=\"https://colab.research.google.com/github/rushikesh648/pw-skills-assignment/blob/main/Python_data_structure.ipynb\" target=\"_parent\"><img src=\"https://colab.research.google.com/assets/colab-badge.svg\" alt=\"Open In Colab\"/></a>"
      ]
    },
    {
      "cell_type": "code",
      "execution_count": null,
      "metadata": {
        "id": "g5e_oYlEQ9aG",
        "colab": {
          "base_uri": "https://localhost:8080/"
        },
        "outputId": "8575442e-d9ca-4ab1-d22f-5da754a55ec7"
      },
      "outputs": [
        {
          "output_type": "stream",
          "name": "stdout",
          "text": [
            "rushikesh\n"
          ]
        },
        {
          "output_type": "execute_result",
          "data": {
            "text/plain": [
              "str"
            ]
          },
          "metadata": {},
          "execution_count": 114
        }
      ],
      "source": [
        "# q1.write a code to create a string with your name and print it\n",
        "a = (\"rushikesh\")\n",
        "print(a)\n",
        "type(a)"
      ]
    },
    {
      "cell_type": "code",
      "source": [
        "# q2.write a code to find a length of the string \"hello world\".\n",
        "a = (\"Hello world\")\n",
        "len(a)"
      ],
      "metadata": {
        "id": "u9HQmvEbRsWx",
        "colab": {
          "base_uri": "https://localhost:8080/"
        },
        "outputId": "448a7a0b-fad4-4ff5-e182-0e6659b619da"
      },
      "execution_count": null,
      "outputs": [
        {
          "output_type": "execute_result",
          "data": {
            "text/plain": [
              "11"
            ]
          },
          "metadata": {},
          "execution_count": 113
        }
      ]
    },
    {
      "cell_type": "code",
      "source": [
        "# q3.write a code to slice first 3 characters from the string \"python programming\".\n",
        "a = (\"python programming\")\n",
        "a[3:]"
      ],
      "metadata": {
        "colab": {
          "base_uri": "https://localhost:8080/",
          "height": 35
        },
        "id": "apQAQOr8SEQ3",
        "outputId": "81e2e225-b75e-4a6c-f72e-0b283c34426d"
      },
      "execution_count": null,
      "outputs": [
        {
          "output_type": "execute_result",
          "data": {
            "text/plain": [
              "'hon programming'"
            ],
            "application/vnd.google.colaboratory.intrinsic+json": {
              "type": "string"
            }
          },
          "metadata": {},
          "execution_count": 82
        }
      ]
    },
    {
      "cell_type": "code",
      "source": [
        "# q4.write code to convert the string \"hello\" in uppercase.\n",
        "a = (\"hello\")\n",
        "a.upper()"
      ],
      "metadata": {
        "colab": {
          "base_uri": "https://localhost:8080/",
          "height": 35
        },
        "id": "kO2Ccl4LUJ_9",
        "outputId": "13fe3319-2ccc-4d05-8724-e761066539ce"
      },
      "execution_count": null,
      "outputs": [
        {
          "output_type": "execute_result",
          "data": {
            "text/plain": [
              "'HELLO'"
            ],
            "application/vnd.google.colaboratory.intrinsic+json": {
              "type": "string"
            }
          },
          "metadata": {},
          "execution_count": 83
        }
      ]
    },
    {
      "cell_type": "code",
      "source": [
        "# q5.write a code to replace the word \"apple\" with \"orange\" in the string \"i like apple\".\n",
        "a = (\"i like apple\")\n",
        "a1 = a.replace(\"apple\",\"orange\")\n",
        "print(a1)"
      ],
      "metadata": {
        "colab": {
          "base_uri": "https://localhost:8080/"
        },
        "id": "2rh10Xq5VGFj",
        "outputId": "2ad540ce-a322-485d-b6dd-41db4471710c"
      },
      "execution_count": null,
      "outputs": [
        {
          "output_type": "stream",
          "name": "stdout",
          "text": [
            "i like orange\n"
          ]
        }
      ]
    },
    {
      "cell_type": "code",
      "source": [
        "\n",
        "# q6.write a code to create a list with the numbers 1 to 5 and print it.\n",
        "a = list(range(1,5))\n",
        "print(a)"
      ],
      "metadata": {
        "id": "KPhrcaHOWIoP",
        "colab": {
          "base_uri": "https://localhost:8080/"
        },
        "outputId": "06c715da-1752-439b-8563-2b722624d0dd"
      },
      "execution_count": null,
      "outputs": [
        {
          "output_type": "stream",
          "name": "stdout",
          "text": [
            "[1, 2, 3, 4]\n"
          ]
        }
      ]
    },
    {
      "cell_type": "code",
      "source": [
        "\n",
        "# q7.write a code to append the number 10 to the list[1,2,3,4]\n",
        "a = [1,2,3,4]\n",
        "a.append(10)\n",
        "print(a)"
      ],
      "metadata": {
        "colab": {
          "base_uri": "https://localhost:8080/"
        },
        "id": "xUzHuI9qXHeU",
        "outputId": "50cc401e-87c7-4b0b-bd90-9f54eda1f93f"
      },
      "execution_count": null,
      "outputs": [
        {
          "output_type": "stream",
          "name": "stdout",
          "text": [
            "[1, 2, 3, 4, 10]\n"
          ]
        }
      ]
    },
    {
      "cell_type": "code",
      "source": [
        "# q8.write a code to remove the number 3 from the list[1,2,3,4,5].\n",
        "a = [1,2,3,4,5]\n",
        "a.remove(3)\n",
        "print(a)"
      ],
      "metadata": {
        "colab": {
          "base_uri": "https://localhost:8080/"
        },
        "id": "N1JBIzhwXlsi",
        "outputId": "aaa30ffe-d0ef-44ac-c9c8-967fb168ef95"
      },
      "execution_count": null,
      "outputs": [
        {
          "output_type": "stream",
          "name": "stdout",
          "text": [
            "[1, 2, 4, 5]\n"
          ]
        }
      ]
    },
    {
      "cell_type": "code",
      "source": [
        "# q9.write a code to access the second element in the list ['a','b','c','d'].\n",
        "a = ['a','b','c','d']\n",
        "print(a[1])\n",
        "type(a)"
      ],
      "metadata": {
        "colab": {
          "base_uri": "https://localhost:8080/"
        },
        "id": "arBXGJ8kX0VK",
        "outputId": "d6a0c99c-af3f-45d4-8dc8-dc2cf082a013"
      },
      "execution_count": null,
      "outputs": [
        {
          "output_type": "stream",
          "name": "stdout",
          "text": [
            "b\n"
          ]
        },
        {
          "output_type": "execute_result",
          "data": {
            "text/plain": [
              "list"
            ]
          },
          "metadata": {},
          "execution_count": 90
        }
      ]
    },
    {
      "cell_type": "code",
      "source": [
        "# q10.write a code to reverse the list [10,20,30,40,50].\n",
        "a = [10,20,30,40,50]\n",
        "a.reverse()\n",
        "print(a)"
      ],
      "metadata": {
        "colab": {
          "base_uri": "https://localhost:8080/"
        },
        "id": "l8PdwmQqYl7l",
        "outputId": "6677716e-4d16-4731-8bc1-e47690688138"
      },
      "execution_count": null,
      "outputs": [
        {
          "output_type": "stream",
          "name": "stdout",
          "text": [
            "[50, 40, 30, 20, 10]\n"
          ]
        }
      ]
    },
    {
      "cell_type": "code",
      "source": [
        "# q11.write a code to create a tuple with the elements 10,20,30 and print it.\n",
        "a = (10,20,30)\n",
        "print(a)\n",
        "type(a)"
      ],
      "metadata": {
        "colab": {
          "base_uri": "https://localhost:8080/"
        },
        "id": "kibypS1RY6uY",
        "outputId": "b008741f-d209-446b-a53a-084fb0a9b2d0"
      },
      "execution_count": null,
      "outputs": [
        {
          "output_type": "stream",
          "name": "stdout",
          "text": [
            "(10, 20, 30)\n"
          ]
        },
        {
          "output_type": "execute_result",
          "data": {
            "text/plain": [
              "tuple"
            ]
          },
          "metadata": {},
          "execution_count": 99
        }
      ]
    },
    {
      "cell_type": "code",
      "source": [
        "# q12.write a code access the first element of the tuple ('apple','banana','cherry').\n",
        "a = ('apple','banana','cherry')\n",
        "print(a[0])"
      ],
      "metadata": {
        "colab": {
          "base_uri": "https://localhost:8080/"
        },
        "id": "cShNOnHcZP-S",
        "outputId": "f4b877d1-1038-4907-c673-87c1be6eb8ad"
      },
      "execution_count": null,
      "outputs": [
        {
          "output_type": "stream",
          "name": "stdout",
          "text": [
            "apple\n"
          ]
        }
      ]
    },
    {
      "cell_type": "code",
      "source": [
        "# q13.write a code to count how many times the number 2 appears in the tuple (1,2,3,2,4,2).\n",
        "a = (1,2,3,2,4,2)\n",
        "a.count(2)"
      ],
      "metadata": {
        "colab": {
          "base_uri": "https://localhost:8080/"
        },
        "id": "D69J1-FBZzm2",
        "outputId": "8d06320c-ac26-4e94-828f-56739e739387"
      },
      "execution_count": null,
      "outputs": [
        {
          "output_type": "execute_result",
          "data": {
            "text/plain": [
              "3"
            ]
          },
          "metadata": {},
          "execution_count": 101
        }
      ]
    },
    {
      "cell_type": "code",
      "source": [
        "# q14.write a code to find the index of the element \"cat\" in the tuple ('dog','cat','rabbit').\n",
        "a = ('dog','cat','rabbit')\n",
        "a1 = a.index('cat')\n",
        "print(a1)"
      ],
      "metadata": {
        "colab": {
          "base_uri": "https://localhost:8080/"
        },
        "id": "P5YyQuOBaK85",
        "outputId": "abdc1da0-8dbe-44ec-d194-bed637ecf8ad"
      },
      "execution_count": null,
      "outputs": [
        {
          "output_type": "stream",
          "name": "stdout",
          "text": [
            "1\n"
          ]
        }
      ]
    },
    {
      "cell_type": "code",
      "source": [
        "# q15.write a code to check if the element \"banana\" is in the tuple ('apple','orange','banana').\n",
        "a = ('apple','orange','banana')\n",
        "if 'banana' in a:\n",
        " print(\"banana is present in list\")\n",
        "else:\n",
        " print(\"banana is not present in list\")"
      ],
      "metadata": {
        "colab": {
          "base_uri": "https://localhost:8080/"
        },
        "id": "YEEBztX-buxW",
        "outputId": "d6b3920f-e494-459f-b8a8-6189d328956a"
      },
      "execution_count": null,
      "outputs": [
        {
          "output_type": "stream",
          "name": "stdout",
          "text": [
            "banana is present in list\n"
          ]
        }
      ]
    },
    {
      "cell_type": "code",
      "source": [
        "# q16.write a code to create a set with the elements 1,2,3,4,5 and print it.\n",
        "a = {1,2,3,4,5}\n",
        "print(a)\n",
        "type(a)"
      ],
      "metadata": {
        "colab": {
          "base_uri": "https://localhost:8080/"
        },
        "id": "1SARLJm1e0cc",
        "outputId": "9af164ea-b094-40a3-8e03-2ed91c429a84"
      },
      "execution_count": null,
      "outputs": [
        {
          "output_type": "stream",
          "name": "stdout",
          "text": [
            "{1, 2, 3, 4, 5}\n"
          ]
        },
        {
          "output_type": "execute_result",
          "data": {
            "text/plain": [
              "set"
            ]
          },
          "metadata": {},
          "execution_count": 108
        }
      ]
    },
    {
      "cell_type": "code",
      "source": [
        "# q17.write a code to add the element 6 to the set {1,2,3,4}.\n",
        "a = {1,2,3,4}\n",
        "a.add(6)\n",
        "print(a)"
      ],
      "metadata": {
        "colab": {
          "base_uri": "https://localhost:8080/"
        },
        "id": "XH7_mwVyfHuI",
        "outputId": "a3acc5ed-da70-42c5-dd05-3ce9eac8fe05"
      },
      "execution_count": null,
      "outputs": [
        {
          "output_type": "stream",
          "name": "stdout",
          "text": [
            "{1, 2, 3, 4, 6}\n"
          ]
        }
      ]
    },
    {
      "cell_type": "code",
      "source": [
        "# q18.write a code to create a tuple with the elements 10,20,30 and print it.\n",
        "a = (10,20,30)\n",
        "print(a)\n",
        "type(a)"
      ],
      "metadata": {
        "colab": {
          "base_uri": "https://localhost:8080/"
        },
        "id": "ZOIpaqgLf3oi",
        "outputId": "6c1d4da7-39af-4931-d229-a1b147441895"
      },
      "execution_count": null,
      "outputs": [
        {
          "output_type": "stream",
          "name": "stdout",
          "text": [
            "(10, 20, 30)\n"
          ]
        },
        {
          "output_type": "execute_result",
          "data": {
            "text/plain": [
              "tuple"
            ]
          },
          "metadata": {},
          "execution_count": 117
        }
      ]
    },
    {
      "cell_type": "code",
      "source": [
        "# q19.write a code to access the first element of the tuple ('apple','banana','cherry').\n",
        "a = ('apple','banana','cherry')\n",
        "print(a[0])"
      ],
      "metadata": {
        "colab": {
          "base_uri": "https://localhost:8080/"
        },
        "id": "4fUUSUhHgOYS",
        "outputId": "5f0adef9-1ecc-4cba-e143-8269bb50eb02"
      },
      "execution_count": null,
      "outputs": [
        {
          "output_type": "stream",
          "name": "stdout",
          "text": [
            "apple\n"
          ]
        }
      ]
    },
    {
      "cell_type": "code",
      "source": [
        "# q20.write a code to count how many times the number 2 appears in the tuple (1,2,3,2,4,2).\n",
        "a = (1,2,3,2,4,2)\n",
        "a.count(2)"
      ],
      "metadata": {
        "colab": {
          "base_uri": "https://localhost:8080/"
        },
        "id": "sHetFePohCBP",
        "outputId": "02085722-0995-4d73-9977-7eadde2fe90d"
      },
      "execution_count": null,
      "outputs": [
        {
          "output_type": "execute_result",
          "data": {
            "text/plain": [
              "3"
            ]
          },
          "metadata": {},
          "execution_count": 124
        }
      ]
    },
    {
      "cell_type": "code",
      "source": [
        "# q21.write a code to find the index of the element \"cat\" in the tuple ('dog','cat','rabbit').\n",
        "a = ('dog','cat','rabbit')\n",
        "a1 = a.index('cat')\n",
        "print(a1)"
      ],
      "metadata": {
        "colab": {
          "base_uri": "https://localhost:8080/"
        },
        "id": "Ws0THFXrhSSt",
        "outputId": "9795a4b5-d4bc-4e22-9ff8-7b8ce98b673f"
      },
      "execution_count": null,
      "outputs": [
        {
          "output_type": "stream",
          "name": "stdout",
          "text": [
            "1\n"
          ]
        }
      ]
    },
    {
      "cell_type": "code",
      "source": [
        "# q22.write a code to check if the element \"banana\" is in the tuple ('apple','orange','banana').\n",
        "a = ('apple','orange','banana')\n",
        "if 'banana' in a:\n",
        " print(\"banana is in list\")"
      ],
      "metadata": {
        "colab": {
          "base_uri": "https://localhost:8080/"
        },
        "id": "EVdU57RChs35",
        "outputId": "7e2b00cb-8bc6-4947-c482-c5df6a20f88e"
      },
      "execution_count": null,
      "outputs": [
        {
          "output_type": "stream",
          "name": "stdout",
          "text": [
            "banana is in list\n"
          ]
        }
      ]
    },
    {
      "cell_type": "code",
      "source": [
        "# q23.write a code to create a set with the elements 1,2,3,4,5 and print it.\n",
        "a = {1,2,3,4,5}\n",
        "print(a)\n",
        "type(a)"
      ],
      "metadata": {
        "colab": {
          "base_uri": "https://localhost:8080/"
        },
        "id": "irf9XmigiFOn",
        "outputId": "ff29c449-cf0b-4cfb-8e3b-2e58674d7dcc"
      },
      "execution_count": null,
      "outputs": [
        {
          "output_type": "stream",
          "name": "stdout",
          "text": [
            "{1, 2, 3, 4, 5}\n"
          ]
        },
        {
          "output_type": "execute_result",
          "data": {
            "text/plain": [
              "set"
            ]
          },
          "metadata": {},
          "execution_count": 129
        }
      ]
    },
    {
      "cell_type": "code",
      "source": [
        "# q24.write a code to add the element 6 to the set {1,2,3,4}.\n",
        "a = {1,2,3,4}\n",
        "a.add(6)\n",
        "print(a)"
      ],
      "metadata": {
        "colab": {
          "base_uri": "https://localhost:8080/"
        },
        "id": "8hQJ1CNuiWdA",
        "outputId": "60854430-7203-45d6-997b-c31e711a7cd0"
      },
      "execution_count": null,
      "outputs": [
        {
          "output_type": "stream",
          "name": "stdout",
          "text": [
            "{1, 2, 3, 4, 6}\n"
          ]
        }
      ]
    },
    {
      "cell_type": "markdown",
      "source": [
        "Q1.what are data structures,why are they important?\n",
        "<h5>Ans:<h5>Data structures are a way to organize data so that it can be used by a computer program or system.<h5>They are a fundamental component of computer science and are important because they:\n",
        "<h5>Make data efficient:\n",
        "Data structures allow users to store, organize, and work with data efficiently.\n",
        "<h5>Enable higher-level data operations:\n",
        "Data structures combine primitive data types like numbers, characters, and integers into a cohesive format. This allows for higher-level data operations like sorting, searching, insertion, and deletion."
      ],
      "metadata": {
        "id": "29kk8FGNx3S9"
      }
    },
    {
      "cell_type": "markdown",
      "source": [
        "Q2.Explain the difference between mutable and immutable data types with example?\n",
        "Ans:\n",
        "<h5>> mutable:objects whose state or value can be changed after they are created.\n",
        "Example: lists,dictionary,sets.\n",
        "<h5>> immutable:objects whose state or value can not be changed once they are created.\n",
        "Example:integer,floats,string,tuples,frozensets."
      ],
      "metadata": {
        "id": "A6tmFBIMRo0Y"
      }
    },
    {
      "cell_type": "markdown",
      "source": [
        "Q3.what are the main differences between lists and tuples in python?\n",
        "<h5>Ans:<h5>lists:it is an mutable objects that means it is modified.\n",
        "<h5> tuples:it is an immutable objects that means it is can not be changed."
      ],
      "metadata": {
        "id": "G1f1q0liXoV9"
      }
    },
    {
      "cell_type": "markdown",
      "source": [
        "Q4.describe how dictionaries store data?\n",
        "Ans:dictionaries are used store data values in key:value pairs."
      ],
      "metadata": {
        "id": "8g5_X0fTagn3"
      }
    },
    {
      "cell_type": "markdown",
      "source": [
        "Q5.why might you use a set instead of a list in python?\n",
        "<h5>Ans:because sets can not have multiple occurrences of the same element."
      ],
      "metadata": {
        "id": "HayJ_P2_bdtP"
      }
    },
    {
      "cell_type": "markdown",
      "source": [
        "Q6.what is a string in python,and how is it different from a lists?\n",
        "<h5>ans: a string is a sequence of character between single or double quotes.\n",
        "A lists is a sequence of items,where each item could be anything(integer,float,string)."
      ],
      "metadata": {
        "id": "McFMjCdFchLa"
      }
    },
    {
      "cell_type": "markdown",
      "source": [
        "Q7. How do tuples ensure  data integrity in python?\n",
        "<h5>ans:tuples are immutable to ensure that there contents remain constant throught their lifecycle,guaranteeing data integrity and reliability."
      ],
      "metadata": {
        "id": "5QdzawLudn0z"
      }
    },
    {
      "cell_type": "markdown",
      "source": [
        "Q8.what is a hash table,and how does it relate to dictionaries in python?\n",
        "<h5>ans:a hash table is a data structure that stores key-value pairs,and dictionaries are built using hash tables."
      ],
      "metadata": {
        "id": "Zb2GnzAVe5ip"
      }
    },
    {
      "cell_type": "markdown",
      "source": [
        "Q9.can lists contain different data types in python?\n",
        "<h5>ans: although its not really common,a list can also contain a mix of python types including string,floats and boolean."
      ],
      "metadata": {
        "id": "HnxIvk4QgD4Q"
      }
    },
    {
      "cell_type": "markdown",
      "source": [
        "Q10.explain why strings are immutable in python.\n",
        "<p>ans: in python strings are made immutable so that programmers can not alter the content of the object.this avoids unnecessary bugs.</p>"
      ],
      "metadata": {
        "id": "ulqfsEwZhPjc"
      }
    },
    {
      "cell_type": "markdown",
      "source": [
        "Q11.what advantages do dictionaries offer over lists for certain tasks?\n",
        "<p>ans: python dictionaries allow us to associate a value to unique key,and then to quickly access this value.\n",
        "In lists it can contain duplicate elements.</p>"
      ],
      "metadata": {
        "id": "owsuB1YoiZw-"
      }
    },
    {
      "cell_type": "markdown",
      "source": [
        "Q12.describe a scenario where using a tuple would be preferable over a list?\n",
        "<p>ans: use a tuple if you need an immutable collection where the elements wont change after creation.tuples are generally faster and more memory efficient than list,making them better for fixed collections,especially as dictionary keys or when iteration speed is crucial.</p>"
      ],
      "metadata": {
        "id": "9-MkVS1SknBJ"
      }
    },
    {
      "cell_type": "markdown",
      "source": [
        "Q13.how do sets handle duplicate values in python?\n",
        "<p>ans: items of a set in python are immutable,do not duplicate values,and un ordered.thus, items in a set do not appear in a stipulated manner,i.e,they can appear in a different order every time it is used.</p>"
      ],
      "metadata": {
        "id": "7v-Yok0DmQqo"
      }
    },
    {
      "cell_type": "markdown",
      "source": [
        "Q14.how does the \"in\" keyword work differently for lists and dictionaries?\n",
        "<p>ans: \"in\" operator is used in dictionary at the execution time is about the same as for set.\n",
        " and in list execution time is same as for lists but key-value() pair is unique.</p>"
      ],
      "metadata": {
        "id": "jQR7-duWp8sO"
      }
    },
    {
      "cell_type": "markdown",
      "source": [
        "Q15.can you modify the elements of the tuple?explain why or why not.\n",
        "<p>ans: Once a tuple is created,you can not change its value.tuples are  unchangeable,or immutable as it also is called.</p>"
      ],
      "metadata": {
        "id": "Mm-9W7axsKX-"
      }
    },
    {
      "cell_type": "markdown",
      "source": [
        "Q16.what is a nested dictionary,and give an example of its use case.\n",
        "<p>ans: in python,a nested dictionary is a dictionary inside a dictionary.its a collection of dictionaries into one single dictionary.here is nested_dict is a nested dictionary with the dictionary dictA and dictB.</p>"
      ],
      "metadata": {
        "id": "3mkdmDcote9e"
      }
    },
    {
      "cell_type": "markdown",
      "source": [
        "Q17.describe the time complexity of accessing elements in dictionary.\n",
        "<p>ans: the time complexity of retriving a value by its key in a dictionary is O(1).</p>"
      ],
      "metadata": {
        "id": "dulNPKUguuTr"
      }
    },
    {
      "cell_type": "markdown",
      "source": [
        "Q18.in what situation are lists preferred over dictionaries?\n",
        "<p>ans: to store large amount of data for easy and quick access.</p>"
      ],
      "metadata": {
        "id": "nc1VO6ZavyhO"
      }
    },
    {
      "cell_type": "markdown",
      "source": [
        "Q19.why are dictionaries considered unordered and how does that affect data retrieval?\n",
        "<p>ans: python dictionaries are not intended to be in order.you should be able to iterate over the dictionary normally or use popitem().you should be able to iterate over the dictionary normally or use popitem().</p>"
      ],
      "metadata": {
        "id": "DVoqoBA9wqpE"
      }
    },
    {
      "cell_type": "markdown",
      "source": [
        "Q20.explain the difference between a list and a dictionary in terms of data retrieval?\n",
        "<p>ans: A list is an ordered collection of items, whereas a dictionary is an unordered data collection in a key: value pair. Elements from the list can be accessed using the index, while the elements of the dictionary can be accessed using keys.</p>"
      ],
      "metadata": {
        "id": "v1LKjzOPycBe"
      }
    }
  ]
}