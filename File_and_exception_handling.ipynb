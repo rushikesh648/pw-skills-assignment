{
  "nbformat": 4,
  "nbformat_minor": 0,
  "metadata": {
    "colab": {
      "provenance": [],
      "authorship_tag": "ABX9TyPYqj74cMiOFg2hJ/X1MgY3",
      "include_colab_link": true
    },
    "kernelspec": {
      "name": "python3",
      "display_name": "Python 3"
    },
    "language_info": {
      "name": "python"
    }
  },
  "cells": [
    {
      "cell_type": "markdown",
      "metadata": {
        "id": "view-in-github",
        "colab_type": "text"
      },
      "source": [
        "<a href=\"https://colab.research.google.com/github/rushikesh648/pw-skills-assignment/blob/main/File_and_exception_handling.ipynb\" target=\"_parent\"><img src=\"https://colab.research.google.com/assets/colab-badge.svg\" alt=\"Open In Colab\"/></a>"
      ]
    },
    {
      "cell_type": "code",
      "execution_count": null,
      "metadata": {
        "colab": {
          "base_uri": "https://localhost:8080/"
        },
        "id": "t85hXqY61uhW",
        "outputId": "d5339f21-453c-4d72-808e-7d64673dfa8d"
      },
      "outputs": [
        {
          "output_type": "execute_result",
          "data": {
            "text/plain": [
              "16"
            ]
          },
          "metadata": {},
          "execution_count": 43
        }
      ],
      "source": [
        "# q1How can you open a file for writing in Python and write a string to it.\n",
        "file = open(\"file.txt\", 'w')\n",
        "file.write(\"write a new line\")"
      ]
    },
    {
      "cell_type": "code",
      "source": [
        "# q2Write a Python program to read the contents of a file and print each line.\n",
        "file = open(\"file.txt\", 'r')\n",
        "print(file.read())"
      ],
      "metadata": {
        "colab": {
          "base_uri": "https://localhost:8080/"
        },
        "id": "6E4AZSPl2r_P",
        "outputId": "85377b9b-62aa-4a59-ef81-dfe378790301"
      },
      "execution_count": null,
      "outputs": [
        {
          "output_type": "stream",
          "name": "stdout",
          "text": [
            "write a new line\n"
          ]
        }
      ]
    },
    {
      "cell_type": "code",
      "source": [
        "# q3How would you handle a case where the file doesn't exist while trying to open it for reading.\n",
        "file = open(\"file.doc\", 'r')"
      ],
      "metadata": {
        "colab": {
          "base_uri": "https://localhost:8080/",
          "height": 349
        },
        "id": "ygpQuY4S80V2",
        "outputId": "a972afc0-50c1-4d65-b7e1-cedee2df0723"
      },
      "execution_count": null,
      "outputs": [
        {
          "output_type": "error",
          "ename": "FileNotFoundError",
          "evalue": "[Errno 2] No such file or directory: 'file.doc'",
          "traceback": [
            "\u001b[0;31m---------------------------------------------------------------------------\u001b[0m",
            "\u001b[0;31mFileNotFoundError\u001b[0m                         Traceback (most recent call last)",
            "\u001b[0;32m<ipython-input-45-73e92ba2fa55>\u001b[0m in \u001b[0;36m<cell line: 2>\u001b[0;34m()\u001b[0m\n\u001b[1;32m      1\u001b[0m \u001b[0;31m# q3How would you handle a case where the file doesn't exist while trying to open it for reading.\u001b[0m\u001b[0;34m\u001b[0m\u001b[0;34m\u001b[0m\u001b[0m\n\u001b[0;32m----> 2\u001b[0;31m \u001b[0mfile\u001b[0m \u001b[0;34m=\u001b[0m \u001b[0mopen\u001b[0m\u001b[0;34m(\u001b[0m\u001b[0;34m\"file.doc\"\u001b[0m\u001b[0;34m,\u001b[0m \u001b[0;34m'r'\u001b[0m\u001b[0;34m)\u001b[0m\u001b[0;34m\u001b[0m\u001b[0;34m\u001b[0m\u001b[0m\n\u001b[0m",
            "\u001b[0;31mFileNotFoundError\u001b[0m: [Errno 2] No such file or directory: 'file.doc'"
          ]
        }
      ]
    },
    {
      "cell_type": "code",
      "source": [
        "file = open(\"file.doc\", 'w')"
      ],
      "metadata": {
        "id": "ohW1ZTMe_0Vc"
      },
      "execution_count": null,
      "outputs": []
    },
    {
      "cell_type": "code",
      "source": [
        "file = open(\"file.doc\", 'r')"
      ],
      "metadata": {
        "id": "RH4wZ2tuAf6Z"
      },
      "execution_count": null,
      "outputs": []
    },
    {
      "cell_type": "code",
      "source": [
        "# q4Write a Python script that reads from one file and writes its content to another file\n",
        "text_content = \"\"\"\n",
        "this is line\n",
        "this is line\n",
        "this is line\n",
        "\"\"\""
      ],
      "metadata": {
        "id": "5seTwL2UAv8B"
      },
      "execution_count": null,
      "outputs": []
    },
    {
      "cell_type": "code",
      "source": [
        "with open(\"run.txt\", 'w') as file:\n",
        "    file.write(text_content)"
      ],
      "metadata": {
        "id": "sthp77nBGQCb"
      },
      "execution_count": null,
      "outputs": []
    },
    {
      "cell_type": "code",
      "source": [
        "with open(\"run.txt\", 'r') as file:\n",
        "    data = file.read()\n",
        "print(data)"
      ],
      "metadata": {
        "colab": {
          "base_uri": "https://localhost:8080/"
        },
        "id": "986Xi0OGGv7Y",
        "outputId": "0d346429-7b25-4dcc-d52a-db1ee2e5b614"
      },
      "execution_count": null,
      "outputs": [
        {
          "output_type": "stream",
          "name": "stdout",
          "text": [
            "\n",
            "this is line\n",
            "this is line\n",
            "this is line\n",
            "\n"
          ]
        }
      ]
    },
    {
      "cell_type": "code",
      "source": [
        "# q5How would you catch and handle division by zero error in Python.\n",
        "try:\n",
        "   5/0\n",
        "except Exception as e:\n",
        "   print(e)"
      ],
      "metadata": {
        "colab": {
          "base_uri": "https://localhost:8080/"
        },
        "id": "wk9l_0vQHtnf",
        "outputId": "54179551-52cc-4c22-bb15-ac3952bf46b6"
      },
      "execution_count": null,
      "outputs": [
        {
          "output_type": "stream",
          "name": "stdout",
          "text": [
            "division by zero\n"
          ]
        }
      ]
    },
    {
      "cell_type": "code",
      "source": [
        "try:\n",
        "    5/0\n",
        "except ZeroDivisionError as e:\n",
        "     print(\"here i am handling zero division error:\",e)\n",
        "     print(\"the division by zero error is by default value 1,the quotient is\",5/1)"
      ],
      "metadata": {
        "colab": {
          "base_uri": "https://localhost:8080/"
        },
        "id": "2Of3ZeWjbmoX",
        "outputId": "69889955-619a-4c06-8bfd-5fba5e3c475b"
      },
      "execution_count": null,
      "outputs": [
        {
          "output_type": "stream",
          "name": "stdout",
          "text": [
            "here i am handling zero division error: division by zero\n",
            "the division by zero error is by default value 1,the quotient is 5.0\n"
          ]
        }
      ]
    },
    {
      "cell_type": "code",
      "source": [
        "# q6Write a Python program that logs an error message to a log file when a division by zero exception occurs\n",
        "def divide(a, b):\n",
        "   return a/b\n",
        "for i in range(-20, 20):\n",
        "    print(i, i+1)\n",
        "    divide(i, i+1)"
      ],
      "metadata": {
        "colab": {
          "base_uri": "https://localhost:8080/",
          "height": 836
        },
        "id": "DtOGQYHfKfoD",
        "outputId": "953a0283-18b3-473a-a350-c1d93883fade"
      },
      "execution_count": null,
      "outputs": [
        {
          "output_type": "stream",
          "name": "stdout",
          "text": [
            "-20 -19\n",
            "-19 -18\n",
            "-18 -17\n",
            "-17 -16\n",
            "-16 -15\n",
            "-15 -14\n",
            "-14 -13\n",
            "-13 -12\n",
            "-12 -11\n",
            "-11 -10\n",
            "-10 -9\n",
            "-9 -8\n",
            "-8 -7\n",
            "-7 -6\n",
            "-6 -5\n",
            "-5 -4\n",
            "-4 -3\n",
            "-3 -2\n",
            "-2 -1\n",
            "-1 0\n"
          ]
        },
        {
          "output_type": "error",
          "ename": "ZeroDivisionError",
          "evalue": "division by zero",
          "traceback": [
            "\u001b[0;31m---------------------------------------------------------------------------\u001b[0m",
            "\u001b[0;31mZeroDivisionError\u001b[0m                         Traceback (most recent call last)",
            "\u001b[0;32m<ipython-input-53-f9c8ffb1ad7c>\u001b[0m in \u001b[0;36m<cell line: 4>\u001b[0;34m()\u001b[0m\n\u001b[1;32m      4\u001b[0m \u001b[0;32mfor\u001b[0m \u001b[0mi\u001b[0m \u001b[0;32min\u001b[0m \u001b[0mrange\u001b[0m\u001b[0;34m(\u001b[0m\u001b[0;34m-\u001b[0m\u001b[0;36m20\u001b[0m\u001b[0;34m,\u001b[0m \u001b[0;36m20\u001b[0m\u001b[0;34m)\u001b[0m\u001b[0;34m:\u001b[0m\u001b[0;34m\u001b[0m\u001b[0;34m\u001b[0m\u001b[0m\n\u001b[1;32m      5\u001b[0m     \u001b[0mprint\u001b[0m\u001b[0;34m(\u001b[0m\u001b[0mi\u001b[0m\u001b[0;34m,\u001b[0m \u001b[0mi\u001b[0m\u001b[0;34m+\u001b[0m\u001b[0;36m1\u001b[0m\u001b[0;34m)\u001b[0m\u001b[0;34m\u001b[0m\u001b[0;34m\u001b[0m\u001b[0m\n\u001b[0;32m----> 6\u001b[0;31m     \u001b[0mdivide\u001b[0m\u001b[0;34m(\u001b[0m\u001b[0mi\u001b[0m\u001b[0;34m,\u001b[0m \u001b[0mi\u001b[0m\u001b[0;34m+\u001b[0m\u001b[0;36m1\u001b[0m\u001b[0;34m)\u001b[0m\u001b[0;34m\u001b[0m\u001b[0;34m\u001b[0m\u001b[0m\n\u001b[0m",
            "\u001b[0;32m<ipython-input-53-f9c8ffb1ad7c>\u001b[0m in \u001b[0;36mdivide\u001b[0;34m(a, b)\u001b[0m\n\u001b[1;32m      1\u001b[0m \u001b[0;31m# q6Write a Python program that logs an error message to a log file when a division by zero exception occurs\u001b[0m\u001b[0;34m\u001b[0m\u001b[0;34m\u001b[0m\u001b[0m\n\u001b[1;32m      2\u001b[0m \u001b[0;32mdef\u001b[0m \u001b[0mdivide\u001b[0m\u001b[0;34m(\u001b[0m\u001b[0ma\u001b[0m\u001b[0;34m,\u001b[0m \u001b[0mb\u001b[0m\u001b[0;34m)\u001b[0m\u001b[0;34m:\u001b[0m\u001b[0;34m\u001b[0m\u001b[0;34m\u001b[0m\u001b[0m\n\u001b[0;32m----> 3\u001b[0;31m    \u001b[0;32mreturn\u001b[0m \u001b[0ma\u001b[0m\u001b[0;34m/\u001b[0m\u001b[0mb\u001b[0m\u001b[0;34m\u001b[0m\u001b[0;34m\u001b[0m\u001b[0m\n\u001b[0m\u001b[1;32m      4\u001b[0m \u001b[0;32mfor\u001b[0m \u001b[0mi\u001b[0m \u001b[0;32min\u001b[0m \u001b[0mrange\u001b[0m\u001b[0;34m(\u001b[0m\u001b[0;34m-\u001b[0m\u001b[0;36m20\u001b[0m\u001b[0;34m,\u001b[0m \u001b[0;36m20\u001b[0m\u001b[0;34m)\u001b[0m\u001b[0;34m:\u001b[0m\u001b[0;34m\u001b[0m\u001b[0;34m\u001b[0m\u001b[0m\n\u001b[1;32m      5\u001b[0m     \u001b[0mprint\u001b[0m\u001b[0;34m(\u001b[0m\u001b[0mi\u001b[0m\u001b[0;34m,\u001b[0m \u001b[0mi\u001b[0m\u001b[0;34m+\u001b[0m\u001b[0;36m1\u001b[0m\u001b[0;34m)\u001b[0m\u001b[0;34m\u001b[0m\u001b[0;34m\u001b[0m\u001b[0m\n",
            "\u001b[0;31mZeroDivisionError\u001b[0m: division by zero"
          ]
        }
      ]
    },
    {
      "cell_type": "code",
      "source": [
        "# q7 How do you log information at different levels (INFO, ERROR, WARNING) in Python using the logging module\n",
        "import logging\n",
        "logging.basicConfig(filename = \"test.log\", level = logging.DEBUG, format = '%(asctime)s %(message)s')"
      ],
      "metadata": {
        "id": "oze2bauxML0z"
      },
      "execution_count": null,
      "outputs": []
    },
    {
      "cell_type": "code",
      "source": [
        "logging.debug(\"this message is for debug\")\n",
        "logging.info(\"this message for info\")\n",
        "logging.error(\"this message is for error\")\n",
        "logging.warning(\"this is for warning\")\n",
        "logging.shutdown()"
      ],
      "metadata": {
        "colab": {
          "base_uri": "https://localhost:8080/"
        },
        "id": "xJ3G7GsHNyLk",
        "outputId": "4afc4e20-ee26-4101-9830-d252f790ca5e"
      },
      "execution_count": null,
      "outputs": [
        {
          "output_type": "stream",
          "name": "stderr",
          "text": [
            "ERROR:root:this message is for error\n",
            "WARNING:root:this is for warning\n"
          ]
        }
      ]
    },
    {
      "cell_type": "code",
      "source": [
        "# q8Write a program to handle a file opening error using exception handling\n",
        "try:\n",
        "   f = open(\"file3.txt\", 'r')\n",
        "except Exception as e:\n",
        "   print(e)"
      ],
      "metadata": {
        "id": "zsNjxBygOgu2",
        "colab": {
          "base_uri": "https://localhost:8080/"
        },
        "outputId": "54e93331-c947-425f-a6f9-fcc6ad65e72f"
      },
      "execution_count": null,
      "outputs": [
        {
          "output_type": "stream",
          "name": "stdout",
          "text": [
            "[Errno 2] No such file or directory: 'file3.txt'\n"
          ]
        }
      ]
    },
    {
      "cell_type": "code",
      "source": [
        "# q9How can you read a file line by line and store its content in a list in Python\n",
        "stud = [[\"name\",\"course\",\"fees\"],[\"rahul\",\"entc\",\"40000\"],[\"prabhas\",\"film animation\",\"60000\"]]"
      ],
      "metadata": {
        "id": "rxsEVVh2QWK7"
      },
      "execution_count": null,
      "outputs": []
    },
    {
      "cell_type": "code",
      "source": [
        "for i in stud:\n",
        "    print(i)"
      ],
      "metadata": {
        "colab": {
          "base_uri": "https://localhost:8080/"
        },
        "id": "zppqd3iEgZo1",
        "outputId": "b386bba9-3e78-4244-a66f-375e0930ef38"
      },
      "execution_count": null,
      "outputs": [
        {
          "output_type": "stream",
          "name": "stdout",
          "text": [
            "['name', 'course', 'fees']\n",
            "['rahul', 'entc', '40000']\n",
            "['prabhas', 'film animation', '60000']\n"
          ]
        }
      ]
    },
    {
      "cell_type": "code",
      "source": [
        "# q10How can you append data to an existing file in Python\n",
        "file = open(\"file.txt\", 'w')\n",
        "file.write(\"this is hit line\")"
      ],
      "metadata": {
        "colab": {
          "base_uri": "https://localhost:8080/"
        },
        "id": "oxAiIsxplI8a",
        "outputId": "749166b7-718b-4d13-8771-6e62c619c140"
      },
      "execution_count": null,
      "outputs": [
        {
          "output_type": "execute_result",
          "data": {
            "text/plain": [
              "16"
            ]
          },
          "metadata": {},
          "execution_count": 59
        }
      ]
    },
    {
      "cell_type": "code",
      "source": [
        "f = open(\"file.txt\", 'a')\n",
        "file.write(\"this is bad text\")\n",
        "file.close()"
      ],
      "metadata": {
        "id": "5DgORSTEsAc3"
      },
      "execution_count": null,
      "outputs": []
    },
    {
      "cell_type": "code",
      "source": [
        "file = open(\"file.txt\", 'r')"
      ],
      "metadata": {
        "id": "1TphbfR5sQnm"
      },
      "execution_count": null,
      "outputs": []
    },
    {
      "cell_type": "code",
      "source": [
        "file"
      ],
      "metadata": {
        "colab": {
          "base_uri": "https://localhost:8080/"
        },
        "id": "tCNMK8bxtDi-",
        "outputId": "7fd60606-821b-40b9-9061-c352d3837ac0"
      },
      "execution_count": null,
      "outputs": [
        {
          "output_type": "execute_result",
          "data": {
            "text/plain": [
              "<_io.TextIOWrapper name='file.txt' mode='r' encoding='UTF-8'>"
            ]
          },
          "metadata": {},
          "execution_count": 62
        }
      ]
    },
    {
      "cell_type": "code",
      "source": [
        "for i in file:\n",
        "   print(i)"
      ],
      "metadata": {
        "colab": {
          "base_uri": "https://localhost:8080/"
        },
        "id": "rpsYPOi1s1EZ",
        "outputId": "6e0fec59-4670-48f9-d556-05f209d98952"
      },
      "execution_count": null,
      "outputs": [
        {
          "output_type": "stream",
          "name": "stdout",
          "text": [
            "this is hit linethis is bad text\n"
          ]
        }
      ]
    },
    {
      "cell_type": "code",
      "source": [
        "# q11Write a Python program that uses a try-except block to handle an error when attempting to access a dictionary key that doesn't exist\n",
        "d = {\"name\": \"rahul\",\"course\": \"animation\"}\n",
        "d[\"id\"]"
      ],
      "metadata": {
        "id": "QELMM4lvw2u1",
        "colab": {
          "base_uri": "https://localhost:8080/",
          "height": 367
        },
        "outputId": "bad743af-d5d0-415c-ab8a-1518015544c9"
      },
      "execution_count": null,
      "outputs": [
        {
          "output_type": "error",
          "ename": "KeyError",
          "evalue": "'id'",
          "traceback": [
            "\u001b[0;31m---------------------------------------------------------------------------\u001b[0m",
            "\u001b[0;31mKeyError\u001b[0m                                  Traceback (most recent call last)",
            "\u001b[0;32m<ipython-input-64-a4e21f6e5da0>\u001b[0m in \u001b[0;36m<cell line: 3>\u001b[0;34m()\u001b[0m\n\u001b[1;32m      1\u001b[0m \u001b[0;31m# q11Write a Python program that uses a try-except block to handle an error when attempting to access a dictionary key that doesn't exist\u001b[0m\u001b[0;34m\u001b[0m\u001b[0;34m\u001b[0m\u001b[0m\n\u001b[1;32m      2\u001b[0m \u001b[0md\u001b[0m \u001b[0;34m=\u001b[0m \u001b[0;34m{\u001b[0m\u001b[0;34m\"name\"\u001b[0m\u001b[0;34m:\u001b[0m \u001b[0;34m\"rahul\"\u001b[0m\u001b[0;34m,\u001b[0m\u001b[0;34m\"course\"\u001b[0m\u001b[0;34m:\u001b[0m \u001b[0;34m\"animation\"\u001b[0m\u001b[0;34m}\u001b[0m\u001b[0;34m\u001b[0m\u001b[0;34m\u001b[0m\u001b[0m\n\u001b[0;32m----> 3\u001b[0;31m \u001b[0md\u001b[0m\u001b[0;34m[\u001b[0m\u001b[0;34m\"id\"\u001b[0m\u001b[0;34m]\u001b[0m\u001b[0;34m\u001b[0m\u001b[0;34m\u001b[0m\u001b[0m\n\u001b[0m",
            "\u001b[0;31mKeyError\u001b[0m: 'id'"
          ]
        }
      ]
    },
    {
      "cell_type": "code",
      "source": [
        "try:\n",
        "   d = {\"name\": \"rahul\",\"course\": \"animation\"}\n",
        "   d[\"id\"]\n",
        "except KeyError as e:\n",
        "     print(\"this is key error\", e)"
      ],
      "metadata": {
        "colab": {
          "base_uri": "https://localhost:8080/"
        },
        "id": "Az1FhwIIHIKb",
        "outputId": "8f27f94d-e15c-4ae6-edfb-a247cf6fc6c9"
      },
      "execution_count": null,
      "outputs": [
        {
          "output_type": "stream",
          "name": "stdout",
          "text": [
            "this is key error 'id'\n"
          ]
        }
      ]
    },
    {
      "cell_type": "code",
      "source": [
        "# q12Write a program that demonstrates using multiple except blocks to handle different types of exceptions\n",
        "try:\n",
        "   f = open(\"example.txt\", 'r')\n",
        "   f.read()\n",
        "except Exception as e:\n",
        "    print(\"this msg---file not found\",e)\n",
        "except FileNotFoundError as e:\n",
        "    print(\"this is first generated error\",e)"
      ],
      "metadata": {
        "colab": {
          "base_uri": "https://localhost:8080/"
        },
        "id": "yFS_gHFJH8fr",
        "outputId": "4f94290d-12d7-4ab9-c14d-03ee3d1d8848"
      },
      "execution_count": null,
      "outputs": [
        {
          "output_type": "stream",
          "name": "stdout",
          "text": [
            "this msg---file not found [Errno 2] No such file or directory: 'example.txt'\n"
          ]
        }
      ]
    },
    {
      "cell_type": "code",
      "source": [
        "# q13How would you check if a file exists before attempting to read it in Python\n",
        "import os"
      ],
      "metadata": {
        "id": "9l4TMTplKGAP"
      },
      "execution_count": null,
      "outputs": []
    },
    {
      "cell_type": "code",
      "source": [
        "os.listdir()"
      ],
      "metadata": {
        "colab": {
          "base_uri": "https://localhost:8080/"
        },
        "id": "mQoSUfaZLi9k",
        "outputId": "8e6a9710-8546-4a0d-fd1d-939deda2c6f0"
      },
      "execution_count": null,
      "outputs": [
        {
          "output_type": "execute_result",
          "data": {
            "text/plain": [
              "['.config', 'file.doc', 'file.txt', 'run.txt', 'sample_data']"
            ]
          },
          "metadata": {},
          "execution_count": 68
        }
      ]
    },
    {
      "cell_type": "code",
      "source": [
        "# q14Write a program that uses the logging module to log both informational and error messages\n",
        "import logging\n",
        "logging.basicConfig(filename = \"test1.log\", level = logging.DEBUG, format = '%(asctime)s %(levelname)s %(message)s')\n",
        "logging.info(\"this is info\")\n",
        "logging.error(\"this is error msg\")\n",
        "logging.shutdown()"
      ],
      "metadata": {
        "colab": {
          "base_uri": "https://localhost:8080/"
        },
        "id": "MDGFP1dJL_Ah",
        "outputId": "0fb98e09-f65d-4646-e7c5-f9b3ac499c8d"
      },
      "execution_count": null,
      "outputs": [
        {
          "output_type": "stream",
          "name": "stderr",
          "text": [
            "ERROR:root:this is error msg\n"
          ]
        }
      ]
    },
    {
      "cell_type": "code",
      "source": [
        "# q15Write a Python program that prints the content of a file and handles the case when the file is empty\n",
        "file = open(\"file6.txt\",'w')\n",
        "file.write(\"this is empty\")"
      ],
      "metadata": {
        "colab": {
          "base_uri": "https://localhost:8080/"
        },
        "id": "KzCySMFiV9vD",
        "outputId": "d9eb98ef-7fee-48d1-b915-0d77e4cf9a4b"
      },
      "execution_count": null,
      "outputs": [
        {
          "output_type": "execute_result",
          "data": {
            "text/plain": [
              "13"
            ]
          },
          "metadata": {},
          "execution_count": 70
        }
      ]
    },
    {
      "cell_type": "code",
      "source": [
        "file = open(\"file6.txt\", 'r')\n",
        "print(file.read())"
      ],
      "metadata": {
        "colab": {
          "base_uri": "https://localhost:8080/"
        },
        "id": "v9J2LyPKb1p9",
        "outputId": "f9e6836d-d388-44fa-8eb9-1c37cef98bb6"
      },
      "execution_count": null,
      "outputs": [
        {
          "output_type": "stream",
          "name": "stdout",
          "text": [
            "this is empty\n"
          ]
        }
      ]
    },
    {
      "cell_type": "code",
      "source": [
        "import os"
      ],
      "metadata": {
        "id": "sXv1J4_TdX0q"
      },
      "execution_count": null,
      "outputs": []
    },
    {
      "cell_type": "code",
      "source": [
        "os.listdir()"
      ],
      "metadata": {
        "colab": {
          "base_uri": "https://localhost:8080/"
        },
        "id": "DSxyO4YiedQf",
        "outputId": "ee7334bb-10fb-416b-95a5-f16da096ddab"
      },
      "execution_count": null,
      "outputs": [
        {
          "output_type": "execute_result",
          "data": {
            "text/plain": [
              "['.config', 'file.doc', 'file.txt', 'run.txt', 'file6.txt', 'sample_data']"
            ]
          },
          "metadata": {},
          "execution_count": 74
        }
      ]
    },
    {
      "cell_type": "code",
      "source": [
        "os.mkdir(\"feat\")"
      ],
      "metadata": {
        "id": "7U4iBTpBfHlq"
      },
      "execution_count": null,
      "outputs": []
    },
    {
      "cell_type": "code",
      "source": [
        "os.rmdir(\"file6.txt\")"
      ],
      "metadata": {
        "colab": {
          "base_uri": "https://localhost:8080/",
          "height": 245
        },
        "id": "JnINQJCRh7LQ",
        "outputId": "08e0f40b-3fb6-4b78-b966-d84d96e6edbf"
      },
      "execution_count": null,
      "outputs": [
        {
          "output_type": "error",
          "ename": "NotADirectoryError",
          "evalue": "[Errno 20] Not a directory: 'file6.txt'",
          "traceback": [
            "\u001b[0;31m---------------------------------------------------------------------------\u001b[0m",
            "\u001b[0;31mNotADirectoryError\u001b[0m                        Traceback (most recent call last)",
            "\u001b[0;32m<ipython-input-76-04f6c1311181>\u001b[0m in \u001b[0;36m<cell line: 1>\u001b[0;34m()\u001b[0m\n\u001b[0;32m----> 1\u001b[0;31m \u001b[0mos\u001b[0m\u001b[0;34m.\u001b[0m\u001b[0mrmdir\u001b[0m\u001b[0;34m(\u001b[0m\u001b[0;34m\"file6.txt\"\u001b[0m\u001b[0;34m)\u001b[0m\u001b[0;34m\u001b[0m\u001b[0;34m\u001b[0m\u001b[0m\n\u001b[0m",
            "\u001b[0;31mNotADirectoryError\u001b[0m: [Errno 20] Not a directory: 'file6.txt'"
          ]
        }
      ]
    },
    {
      "cell_type": "code",
      "source": [
        "os.getcwd()"
      ],
      "metadata": {
        "colab": {
          "base_uri": "https://localhost:8080/",
          "height": 35
        },
        "id": "CQX0gHEOjAnV",
        "outputId": "055283af-9470-4503-896a-779a4208f78c"
      },
      "execution_count": null,
      "outputs": [
        {
          "output_type": "execute_result",
          "data": {
            "text/plain": [
              "'/content'"
            ],
            "application/vnd.google.colaboratory.intrinsic+json": {
              "type": "string"
            }
          },
          "metadata": {},
          "execution_count": 77
        }
      ]
    },
    {
      "cell_type": "code",
      "source": [
        "os.makedirs(\"file/file6.txt\")"
      ],
      "metadata": {
        "id": "zGHUaEpRjKEa"
      },
      "execution_count": null,
      "outputs": []
    },
    {
      "cell_type": "code",
      "source": [
        "file = open(\"/content/file/file6.txt/file.txt\", 'w')"
      ],
      "metadata": {
        "id": "ZrrXpNZJjY8K"
      },
      "execution_count": null,
      "outputs": []
    },
    {
      "cell_type": "code",
      "source": [
        "os.mkdir(\"file_file6.txt\")"
      ],
      "metadata": {
        "id": "Il-GM8mmj8Ei"
      },
      "execution_count": null,
      "outputs": []
    },
    {
      "cell_type": "code",
      "source": [
        "with open(\"file.txt\", 'w') as f:\n",
        "     f.write(\"this is full\")"
      ],
      "metadata": {
        "id": "4NI65hJKkRRM"
      },
      "execution_count": null,
      "outputs": []
    },
    {
      "cell_type": "code",
      "source": [
        "f = open(\"file.txt\", 'r')"
      ],
      "metadata": {
        "id": "iKO-ucHQkwjG"
      },
      "execution_count": null,
      "outputs": []
    },
    {
      "cell_type": "code",
      "source": [
        "print(f.read())"
      ],
      "metadata": {
        "colab": {
          "base_uri": "https://localhost:8080/"
        },
        "id": "izpY-zAvlLvs",
        "outputId": "4b579a7d-9983-4095-daa4-088633caf7b6"
      },
      "execution_count": null,
      "outputs": [
        {
          "output_type": "stream",
          "name": "stdout",
          "text": [
            "this is full\n"
          ]
        }
      ]
    },
    {
      "cell_type": "code",
      "source": [
        "# q16Demonstrate how to use memory profiling to check the memory usage of a small program\n",
        "import os"
      ],
      "metadata": {
        "id": "JBYmtJ0slftu"
      },
      "execution_count": null,
      "outputs": []
    },
    {
      "cell_type": "code",
      "source": [
        "os.mkdir(\"test\")"
      ],
      "metadata": {
        "id": "HCU_mkbaA0d1"
      },
      "execution_count": null,
      "outputs": []
    },
    {
      "cell_type": "code",
      "source": [
        "ls"
      ],
      "metadata": {
        "colab": {
          "base_uri": "https://localhost:8080/"
        },
        "id": "0pJBBSgwBA8h",
        "outputId": "f51bef5f-c1e2-45ac-9b9b-15681ca743e3"
      },
      "execution_count": null,
      "outputs": [
        {
          "output_type": "stream",
          "name": "stdout",
          "text": [
            "\u001b[0m\u001b[01;34mfeat\u001b[0m/  \u001b[01;34mfile\u001b[0m/  file6.txt  file.doc  \u001b[01;34mfile_file6.txt\u001b[0m/  file.txt  run.txt  \u001b[01;34msample_data\u001b[0m/  \u001b[01;34mtest\u001b[0m/\n"
          ]
        }
      ]
    },
    {
      "cell_type": "code",
      "source": [
        "os.path.getsize(\"test\")"
      ],
      "metadata": {
        "colab": {
          "base_uri": "https://localhost:8080/"
        },
        "id": "iH5ZtImfCEXT",
        "outputId": "6b1f9aef-2495-46fa-d7ba-ac7db3f7894c"
      },
      "execution_count": null,
      "outputs": [
        {
          "output_type": "execute_result",
          "data": {
            "text/plain": [
              "4096"
            ]
          },
          "metadata": {},
          "execution_count": 87
        }
      ]
    },
    {
      "cell_type": "code",
      "source": [
        "# q17Write a Python program to create and write a list of numbers to a file, one number per line\n",
        "s1 = [0,1,2,3,4]\n",
        "s1"
      ],
      "metadata": {
        "colab": {
          "base_uri": "https://localhost:8080/"
        },
        "id": "qJ2b3H-2CRi5",
        "outputId": "706a4512-ae7d-422a-c1be-76616cb68757"
      },
      "execution_count": null,
      "outputs": [
        {
          "output_type": "execute_result",
          "data": {
            "text/plain": [
              "[0, 1, 2, 3, 4]"
            ]
          },
          "metadata": {},
          "execution_count": 88
        }
      ]
    },
    {
      "cell_type": "code",
      "source": [
        "for i in s1:\n",
        "   if type(i) == list:\n",
        "      print(i)\n",
        "      for j in i:\n",
        "         if type(j) == int:\n",
        "            s1.append(j)\n",
        "         elif type(i) == int:\n",
        "            s1.append(i)\n",
        "         else:\n",
        "            print(i)\n",
        "   print(f\"the result is :{i}\")"
      ],
      "metadata": {
        "colab": {
          "base_uri": "https://localhost:8080/"
        },
        "id": "i814GtvWGSjD",
        "outputId": "47a4d7e4-e1cf-4fb8-f27b-818a00714098"
      },
      "execution_count": null,
      "outputs": [
        {
          "output_type": "stream",
          "name": "stdout",
          "text": [
            "the result is :0\n",
            "the result is :1\n",
            "the result is :2\n",
            "the result is :3\n",
            "the result is :4\n"
          ]
        }
      ]
    },
    {
      "cell_type": "code",
      "source": [
        "# q18How would you implement a basic logging setup that logs to a file with rotation after 1MB\n",
        "import logging\n",
        "logging.basicConfig(filename = \"file8.log\", level = logging.DEBUG, format = '%(asctime)s, %(message)s, %(rotate)s')"
      ],
      "metadata": {
        "id": "mUDJFvEzJWV6"
      },
      "execution_count": null,
      "outputs": []
    },
    {
      "cell_type": "code",
      "source": [
        "file8 = (\"hello\")"
      ],
      "metadata": {
        "id": "boKDUaA4w-o8"
      },
      "execution_count": null,
      "outputs": []
    },
    {
      "cell_type": "code",
      "source": [
        "logging.info(f\"this:{file8}\")"
      ],
      "metadata": {
        "id": "F4UBC9UGxsW2"
      },
      "execution_count": null,
      "outputs": []
    },
    {
      "cell_type": "code",
      "source": [
        "logging.debug(f\"this:{file8}\")"
      ],
      "metadata": {
        "id": "FXS_9aVHyKof"
      },
      "execution_count": null,
      "outputs": []
    },
    {
      "cell_type": "code",
      "source": [
        "logging.shutdown()"
      ],
      "metadata": {
        "id": "uQ8pl4023HzA"
      },
      "execution_count": null,
      "outputs": []
    },
    {
      "cell_type": "code",
      "source": [
        "print(f\"this:{file8}\")"
      ],
      "metadata": {
        "colab": {
          "base_uri": "https://localhost:8080/"
        },
        "id": "OdUr5zhdyfKk",
        "outputId": "ee12e79a-5683-40d0-920f-b6038bde5144"
      },
      "execution_count": null,
      "outputs": [
        {
          "output_type": "stream",
          "name": "stdout",
          "text": [
            "this:hello\n"
          ]
        }
      ]
    },
    {
      "cell_type": "code",
      "source": [
        "# q19Write a program that handles both IndexError and KeyError using a try-except block\n",
        "#index error\n",
        "try:\n",
        "    l = [1, 2, 3, 4]\n",
        "    l[5]\n",
        "except IndexError as e:\n",
        "    print(\"this is an index error:\",e)\n",
        "except Finish as e:\n",
        "    notimplemented\n",
        "#key error\n",
        "try:\n",
        "   l = {\"name\":\"Raul\",\"percent\":\"76\"}\n",
        "   l[\"DOB\"]\n",
        "except KeyError as e:\n",
        "    print(\"this is an key error:\",e)"
      ],
      "metadata": {
        "id": "Kr7xUBYj16Xe",
        "colab": {
          "base_uri": "https://localhost:8080/"
        },
        "outputId": "a74962f3-3129-4293-ea74-8e9508de7b5d"
      },
      "execution_count": null,
      "outputs": [
        {
          "output_type": "stream",
          "name": "stdout",
          "text": [
            "this is an index error: list index out of range\n",
            "this is an key error: 'DOB'\n"
          ]
        }
      ]
    },
    {
      "cell_type": "code",
      "source": [
        "# q20How would you open a file and read its contents using a context manager in Python\n",
        "file = open(\"file10.txt\", 'w')\n",
        "file.write(\"this is an program\")"
      ],
      "metadata": {
        "id": "JubZs5urDYdh",
        "colab": {
          "base_uri": "https://localhost:8080/"
        },
        "outputId": "5ba705e2-fb5c-47de-fe4b-c576528c9f9d"
      },
      "execution_count": null,
      "outputs": [
        {
          "output_type": "execute_result",
          "data": {
            "text/plain": [
              "18"
            ]
          },
          "metadata": {},
          "execution_count": 99
        }
      ]
    },
    {
      "cell_type": "code",
      "source": [
        "file = open(\"file10.txt\", 'r')"
      ],
      "metadata": {
        "id": "rEgtUSOGFboQ"
      },
      "execution_count": null,
      "outputs": []
    },
    {
      "cell_type": "code",
      "source": [
        "with open(\"file10.txt\", 'w') as f:\n",
        "    f.write(\"this is new program\")\n",
        "    f.close()"
      ],
      "metadata": {
        "id": "WBrESCKdFp7q"
      },
      "execution_count": null,
      "outputs": []
    },
    {
      "cell_type": "code",
      "source": [
        "with open(\"file10.txt\", 'r') as f:\n",
        "    line = f.readline()\n",
        "    print(line)"
      ],
      "metadata": {
        "colab": {
          "base_uri": "https://localhost:8080/"
        },
        "id": "HrqTDoVxGaG0",
        "outputId": "f124001a-d6dc-40db-83cb-582b930a9c7f"
      },
      "execution_count": null,
      "outputs": [
        {
          "output_type": "stream",
          "name": "stdout",
          "text": [
            "this is new program\n"
          ]
        }
      ]
    },
    {
      "cell_type": "code",
      "source": [
        "# q21Write a Python program that reads a file and prints the number of occurrences of a specific word\n",
        "l = [1,\"name\",[2,\"age\"],[3,\"gender\"]]"
      ],
      "metadata": {
        "id": "9glwyRIrG3Zn"
      },
      "execution_count": null,
      "outputs": []
    },
    {
      "cell_type": "code",
      "source": [
        "l1_int = []\n",
        "l2_str = []\n",
        "for i in l:\n",
        "  if type(i) == list:\n",
        "     for j in i:\n",
        "       print(i)\n",
        "       if type(j) == int:\n",
        "         l1_int.append(j)\n",
        "  elif type(i) == int:\n",
        "      l1_int.append(i)\n",
        "  else:\n",
        "      l2_str.append(i)\n",
        "  print(f\"{l1_int},{l2_str}\")"
      ],
      "metadata": {
        "id": "rTKVbngYam8n",
        "colab": {
          "base_uri": "https://localhost:8080/"
        },
        "outputId": "08db8353-5600-4cfd-b18e-09f9ccfa46be"
      },
      "execution_count": null,
      "outputs": [
        {
          "output_type": "stream",
          "name": "stdout",
          "text": [
            "[1],[]\n",
            "[1],['name']\n",
            "[2, 'age']\n",
            "[2, 'age']\n",
            "[1, 2],['name']\n",
            "[3, 'gender']\n",
            "[3, 'gender']\n",
            "[1, 2, 3],['name']\n"
          ]
        }
      ]
    },
    {
      "cell_type": "code",
      "source": [
        "# q22 How can you check if a file is empty before attempting to read its contents\n",
        "f = open(\"file4.txt\", 'w')"
      ],
      "metadata": {
        "id": "HoZbkf99dsBo"
      },
      "execution_count": null,
      "outputs": []
    },
    {
      "cell_type": "code",
      "source": [
        "f = open(\"file4.txt\", 'r')"
      ],
      "metadata": {
        "id": "x1f7dyAyhBKt"
      },
      "execution_count": null,
      "outputs": []
    },
    {
      "cell_type": "code",
      "source": [
        "f.read()"
      ],
      "metadata": {
        "colab": {
          "base_uri": "https://localhost:8080/",
          "height": 35
        },
        "id": "TKQvKuAXhG73",
        "outputId": "46a33703-3649-4cd5-e495-34e468d4d4e7"
      },
      "execution_count": null,
      "outputs": [
        {
          "output_type": "execute_result",
          "data": {
            "text/plain": [
              "''"
            ],
            "application/vnd.google.colaboratory.intrinsic+json": {
              "type": "string"
            }
          },
          "metadata": {},
          "execution_count": 114
        }
      ]
    },
    {
      "cell_type": "code",
      "source": [
        "# q23Write a Python program that writes to a log file when an error occurs during file handling\n",
        "import logging\n",
        "logging.basicConfig(filename = \"program.log\", level = \"logging.DEBUG\", format = \"%(asctime)s, %(message)s\")\n",
        "try:\n",
        "    f = open(\"example.txt\", 'r')\n",
        "    f.read()\n",
        "except FileNotFoundError as e:\n",
        "    logging.error(f\"this is an error:{e}\")"
      ],
      "metadata": {
        "colab": {
          "base_uri": "https://localhost:8080/"
        },
        "id": "DoeJbyj1gpCA",
        "outputId": "8d5a34a1-9273-4f20-98fc-3e583e57d16a"
      },
      "execution_count": null,
      "outputs": [
        {
          "output_type": "stream",
          "name": "stderr",
          "text": [
            "ERROR:root:this is an error:[Errno 2] No such file or directory: 'example.txt'\n"
          ]
        }
      ]
    },
    {
      "cell_type": "markdown",
      "source": [
        "Q1 What is the difference between interpreted and compiled languages?\n",
        "\n",
        "Ans:The main difference between compiled and interpreted languages is how the source code is converted to machine-readable instructions"
      ],
      "metadata": {
        "id": "ra2vtLJjv-28"
      }
    },
    {
      "cell_type": "markdown",
      "source": [
        "Q2 What is exception handling in Python?\n",
        "\n",
        "Ans:Exception handling in Python is a technique for managing errors that occur while a program is running."
      ],
      "metadata": {
        "id": "Pd3XpTB-wZzg"
      }
    },
    {
      "cell_type": "markdown",
      "source": [
        "Q3 What is the purpose of the finally block in exception handling?\n",
        "\n",
        "Ans:The purpose of a finally block in exception handling is to ensure that cleanup code is executed regardless of whether an exception occurs"
      ],
      "metadata": {
        "id": "Ejh6TtBGwuoF"
      }
    },
    {
      "cell_type": "markdown",
      "source": [
        "Q4 What is logging in Python?\n",
        "\n",
        "Ans:Python logging is a module that allows you to track events that occur while your program is running."
      ],
      "metadata": {
        "id": "qzulHA2cxIf3"
      }
    },
    {
      "cell_type": "markdown",
      "source": [
        "Q5 What is the significance of the __del__ method in Python?\n",
        "\n",
        "Ans:The __del__ method in Python is a destructor method that's called when an object is about to be destroyed."
      ],
      "metadata": {
        "id": "IQrONsDVxZG1"
      }
    },
    {
      "cell_type": "markdown",
      "source": [
        "Q6 What is the difference between import and from ... import in Python?\n",
        "\n",
        "Ans:The difference between import and from import in Python is: import imports an entire code library. from import imports a specific member or members of the library."
      ],
      "metadata": {
        "id": "xBn6QSLPxt42"
      }
    },
    {
      "cell_type": "markdown",
      "source": [
        "Q7 How can you handle multiple exceptions in Python?\n",
        "\n",
        "Ans:In Python, you can handle multiple exceptions using try-except blocks."
      ],
      "metadata": {
        "id": "Ud2s63m_yJ20"
      }
    },
    {
      "cell_type": "markdown",
      "source": [
        "Q8 What is the purpose of the with statement when handling files in Python?\n",
        "\n",
        "Ans:In Python, the with statement replaces a try-catch block with a concise shorthand."
      ],
      "metadata": {
        "id": "UNou5fOgykz7"
      }
    },
    {
      "cell_type": "markdown",
      "source": [
        "Q9 What is the difference between multithreading and multiprocessing?\n",
        "\n",
        "Ans:Multithreading and multiprocessing are both ways to increase computing power, but they differ in how they do it"
      ],
      "metadata": {
        "id": "2NUasWXLzCmc"
      }
    },
    {
      "cell_type": "markdown",
      "source": [
        "Q10 What are the advantages of using logging in a program?\n",
        "\n",
        "Ans:Logging in programming has many advantages including debugging, performance monitoring,security auditing,"
      ],
      "metadata": {
        "id": "B2a0J7kHzXtI"
      }
    },
    {
      "cell_type": "markdown",
      "source": [
        "Q11 What is memory management in Python?\n",
        "\n",
        "Ans:Memory management in Python is the process of automatically allocating and managing memory so that programs can run efficiently."
      ],
      "metadata": {
        "id": "ROm9nAdpz897"
      }
    },
    {
      "cell_type": "markdown",
      "source": [
        "Q12 What are the basic steps involved in exception handling in Python?\n",
        "\n",
        "Ans:In Python, exceptions are caught and handled using the 'try' and 'except' block"
      ],
      "metadata": {
        "id": "Vp-f_H-g0PCS"
      }
    },
    {
      "cell_type": "markdown",
      "source": [
        "Q13 Why is memory management important in Python?\n",
        "\n",
        "Ans:Memory management in Python is important because it helps ensure that memory is used efficiently, which can lead to faster processing times and less demand on other system resources"
      ],
      "metadata": {
        "id": "2wMcF6HCif-4"
      }
    },
    {
      "cell_type": "markdown",
      "source": [
        "Q14 What is the role of try and except in exception handling?\n",
        "\n",
        "Ans:In Python, the try and except blocks are used to handle errors, or exceptions, in a program"
      ],
      "metadata": {
        "id": "uoRf_84UjG9S"
      }
    },
    {
      "cell_type": "markdown",
      "source": [
        "Q15 How does Python's garbage collection system work?\n",
        "\n",
        "Ans:When the reference count of an object reaches 0, the reference counting garbage collection algorithm cleans up the object immediately"
      ],
      "metadata": {
        "id": "HWf6d829ogRZ"
      }
    },
    {
      "cell_type": "markdown",
      "source": [
        "Q16 What is the purpose of the else block in exception handling?\n",
        "\n",
        "Ans:The else block lets you execute code when there is no error"
      ],
      "metadata": {
        "id": "jqOmy-QJpTRD"
      }
    },
    {
      "cell_type": "markdown",
      "source": [
        "Q17 What are the common logging levels in Python?\n",
        "\n",
        "Ans:Python has six log levels with each one assigned a specific integer indicating the severity of the log:\n",
        "NOTSET=0.\n",
        "DEBUG=10.\n",
        "INFO=20.\n",
        "WARN=30.\n",
        "ERROR=40.\n",
        "CRITICAL=50."
      ],
      "metadata": {
        "id": "tj0E9kkppmTd"
      }
    },
    {
      "cell_type": "markdown",
      "source": [
        "Q18 What is the difference between os.fork() and multiprocessing in Python?\n",
        "\n",
        "Ans:os.fork() method in Python is used to create a child process\n",
        "\n",
        "Python's multiprocessing module is a built-in package that allows developers to run multiple processes simultaneously"
      ],
      "metadata": {
        "id": "6ncIxy4lqIxX"
      }
    },
    {
      "cell_type": "markdown",
      "source": [
        "Q19 What is the importance of closing a file in Python?\n",
        "\n",
        "Ans:The close() method closes an open file"
      ],
      "metadata": {
        "id": "HspQe0lTq4fh"
      }
    },
    {
      "cell_type": "markdown",
      "source": [
        "Q20 What is the difference between file.read() and file.readline() in Python?\n",
        "\n",
        "Ans:In Python, the `read()` method is used to read a specified number of characters from a file or input stream, while the `readline()` method is used to read a single line from a file or input stream"
      ],
      "metadata": {
        "id": "rAEnwM7xrS5e"
      }
    },
    {
      "cell_type": "markdown",
      "source": [
        "Q21 What is the logging module in Python used for?\n",
        "\n",
        "Ans:Python logging is a module that allows you to track events that occur while your program is running"
      ],
      "metadata": {
        "id": "UM4dvpxbroSc"
      }
    },
    {
      "cell_type": "markdown",
      "source": [
        "Q22 What is the os module in Python used for in file handling?\n",
        "\n",
        "Ans:Python has a built-in os module with methods for interacting with the operating system"
      ],
      "metadata": {
        "id": "0NIXBGzAr7Un"
      }
    },
    {
      "cell_type": "markdown",
      "source": [
        "Q23 What are the challenges associated with memory management in Python?\n",
        "\n",
        "Ans:memory leak,setup monitoring tool"
      ],
      "metadata": {
        "id": "-aPcnvLusUtq"
      }
    },
    {
      "cell_type": "markdown",
      "source": [
        "Q24 How do you raise an exception manually in Python?\n",
        "\n",
        "Ans:To throw (or raise) an exception, use the raise keyword."
      ],
      "metadata": {
        "id": "IVSXK7aEtCf2"
      }
    },
    {
      "cell_type": "markdown",
      "source": [
        "Q25 Why is it important to use multithreading in certain applications?\n",
        "\n",
        "Ans:Multi-threading allows you to make the best use out of your existing hardware resources and also allows simple resource sharing"
      ],
      "metadata": {
        "id": "3iuodi5PtWJy"
      }
    }
  ]
}